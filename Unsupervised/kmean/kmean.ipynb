{
 "cells": [
  {
   "cell_type": "markdown",
   "metadata": {},
   "source": [
    "## Music Recommendation System (Machine Learning)"
   ]
  },
  {
   "cell_type": "markdown",
   "metadata": {},
   "source": [
    "This project is aimed upon building a music recommendation system that gives the user recommendations on music based on his music taste by analysing his previously heard music and playlist. This project is done in two ways, using 'User - to - User Recommendation' and 'Item - to - Item Recommendation'. KMeans algorithm is being used along with 'Surprise' module to compute the similarity between recommendations and user's already existing playlist for evaluation"
   ]
  },
  {
   "cell_type": "markdown",
   "metadata": {},
   "source": [
    "### Obtaining Data"
   ]
  },
  {
   "cell_type": "code",
   "execution_count": 266,
   "metadata": {},
   "outputs": [],
   "source": [
    "import pandas as pd\n",
    "import numpy as np"
   ]
  },
  {
   "cell_type": "code",
   "execution_count": 267,
   "metadata": {},
   "outputs": [],
   "source": [
    "final = pd.read_csv(r'../../assets/final.csv')\n",
    "metadata = pd.read_csv(r'../../assets/metadata.csv')\n",
    "\n",
    "final = final.drop(final.columns[0], axis=\"columns\")  # drop the first column of the index\n"
   ]
  },
  {
   "cell_type": "code",
   "execution_count": 268,
   "metadata": {},
   "outputs": [
    {
     "name": "stdout",
     "output_type": "stream",
     "text": [
      "<class 'pandas.core.frame.DataFrame'>\n",
      "RangeIndex: 13129 entries, 0 to 13128\n",
      "Data columns (total 14 columns):\n",
      " #   Column              Non-Null Count  Dtype  \n",
      "---  ------              --------------  -----  \n",
      " 0   track_id            13129 non-null  int64  \n",
      " 1   acousticness        13129 non-null  float64\n",
      " 2   danceability        13129 non-null  float64\n",
      " 3   energy              13129 non-null  float64\n",
      " 4   instrumentalness    13129 non-null  float64\n",
      " 5   liveness            13129 non-null  float64\n",
      " 6   speechiness         13129 non-null  float64\n",
      " 7   tempo               13129 non-null  float64\n",
      " 8   valence             13129 non-null  float64\n",
      " 9   artist_discovery    13129 non-null  float64\n",
      " 10  artist_familiarity  13129 non-null  float64\n",
      " 11  artist_hotttnesss   13129 non-null  float64\n",
      " 12  song_currency       13129 non-null  float64\n",
      " 13  song_hotttnesss     13129 non-null  float64\n",
      "dtypes: float64(13), int64(1)\n",
      "memory usage: 1.4 MB\n"
     ]
    }
   ],
   "source": [
    "final.info()"
   ]
  },
  {
   "cell_type": "code",
   "execution_count": 269,
   "metadata": {},
   "outputs": [
    {
     "data": {
      "text/plain": "   track_id  acousticness  danceability    energy  instrumentalness  liveness  \\\n0         2      0.416675      0.675894  0.634476          0.010628  0.177647   \n1         3      0.374408      0.528643  0.817461          0.001851  0.105880   \n2         5      0.043567      0.745566  0.701470          0.000697  0.373143   \n\n   speechiness    tempo   valence  artist_discovery  artist_familiarity  \\\n0     0.159310  165.922  0.576661           0.38899             0.38674   \n1     0.461818  126.957  0.269240           0.38899             0.38674   \n2     0.124595  100.260  0.621661           0.38899             0.38674   \n\n   artist_hotttnesss  song_currency  song_hotttnesss  \n0            0.40637            0.0              0.0  \n1            0.40637            0.0              0.0  \n2            0.40637            0.0              0.0  ",
      "text/html": "<div>\n<style scoped>\n    .dataframe tbody tr th:only-of-type {\n        vertical-align: middle;\n    }\n\n    .dataframe tbody tr th {\n        vertical-align: top;\n    }\n\n    .dataframe thead th {\n        text-align: right;\n    }\n</style>\n<table border=\"1\" class=\"dataframe\">\n  <thead>\n    <tr style=\"text-align: right;\">\n      <th></th>\n      <th>track_id</th>\n      <th>acousticness</th>\n      <th>danceability</th>\n      <th>energy</th>\n      <th>instrumentalness</th>\n      <th>liveness</th>\n      <th>speechiness</th>\n      <th>tempo</th>\n      <th>valence</th>\n      <th>artist_discovery</th>\n      <th>artist_familiarity</th>\n      <th>artist_hotttnesss</th>\n      <th>song_currency</th>\n      <th>song_hotttnesss</th>\n    </tr>\n  </thead>\n  <tbody>\n    <tr>\n      <th>0</th>\n      <td>2</td>\n      <td>0.416675</td>\n      <td>0.675894</td>\n      <td>0.634476</td>\n      <td>0.010628</td>\n      <td>0.177647</td>\n      <td>0.159310</td>\n      <td>165.922</td>\n      <td>0.576661</td>\n      <td>0.38899</td>\n      <td>0.38674</td>\n      <td>0.40637</td>\n      <td>0.0</td>\n      <td>0.0</td>\n    </tr>\n    <tr>\n      <th>1</th>\n      <td>3</td>\n      <td>0.374408</td>\n      <td>0.528643</td>\n      <td>0.817461</td>\n      <td>0.001851</td>\n      <td>0.105880</td>\n      <td>0.461818</td>\n      <td>126.957</td>\n      <td>0.269240</td>\n      <td>0.38899</td>\n      <td>0.38674</td>\n      <td>0.40637</td>\n      <td>0.0</td>\n      <td>0.0</td>\n    </tr>\n    <tr>\n      <th>2</th>\n      <td>5</td>\n      <td>0.043567</td>\n      <td>0.745566</td>\n      <td>0.701470</td>\n      <td>0.000697</td>\n      <td>0.373143</td>\n      <td>0.124595</td>\n      <td>100.260</td>\n      <td>0.621661</td>\n      <td>0.38899</td>\n      <td>0.38674</td>\n      <td>0.40637</td>\n      <td>0.0</td>\n      <td>0.0</td>\n    </tr>\n  </tbody>\n</table>\n</div>"
     },
     "execution_count": 269,
     "metadata": {},
     "output_type": "execute_result"
    }
   ],
   "source": [
    "final.head(3)"
   ]
  },
  {
   "cell_type": "code",
   "execution_count": 270,
   "metadata": {},
   "outputs": [
    {
     "name": "stdout",
     "output_type": "stream",
     "text": [
      "<class 'pandas.core.frame.DataFrame'>\n",
      "RangeIndex: 13129 entries, 0 to 13128\n",
      "Data columns (total 5 columns):\n",
      " #   Column       Non-Null Count  Dtype \n",
      "---  ------       --------------  ----- \n",
      " 0   track_id     13129 non-null  int64 \n",
      " 1   album_title  13129 non-null  object\n",
      " 2   artist_name  13129 non-null  object\n",
      " 3   genre        13129 non-null  object\n",
      " 4   track_title  13128 non-null  object\n",
      "dtypes: int64(1), object(4)\n",
      "memory usage: 513.0+ KB\n"
     ]
    }
   ],
   "source": [
    "metadata.info()"
   ]
  },
  {
   "cell_type": "code",
   "execution_count": 271,
   "metadata": {},
   "outputs": [
    {
     "data": {
      "text/plain": "   track_id           album_title artist_name   genre   track_title\n0         2  AWOL - A Way Of Life        AWOL  HipHop          Food\n1         3  AWOL - A Way Of Life        AWOL  HipHop  Electric Ave\n2         5  AWOL - A Way Of Life        AWOL  HipHop    This World\n3        10     Constant Hitmaker   Kurt Vile     Pop       Freeway\n4       134  AWOL - A Way Of Life        AWOL  HipHop  Street Music",
      "text/html": "<div>\n<style scoped>\n    .dataframe tbody tr th:only-of-type {\n        vertical-align: middle;\n    }\n\n    .dataframe tbody tr th {\n        vertical-align: top;\n    }\n\n    .dataframe thead th {\n        text-align: right;\n    }\n</style>\n<table border=\"1\" class=\"dataframe\">\n  <thead>\n    <tr style=\"text-align: right;\">\n      <th></th>\n      <th>track_id</th>\n      <th>album_title</th>\n      <th>artist_name</th>\n      <th>genre</th>\n      <th>track_title</th>\n    </tr>\n  </thead>\n  <tbody>\n    <tr>\n      <th>0</th>\n      <td>2</td>\n      <td>AWOL - A Way Of Life</td>\n      <td>AWOL</td>\n      <td>HipHop</td>\n      <td>Food</td>\n    </tr>\n    <tr>\n      <th>1</th>\n      <td>3</td>\n      <td>AWOL - A Way Of Life</td>\n      <td>AWOL</td>\n      <td>HipHop</td>\n      <td>Electric Ave</td>\n    </tr>\n    <tr>\n      <th>2</th>\n      <td>5</td>\n      <td>AWOL - A Way Of Life</td>\n      <td>AWOL</td>\n      <td>HipHop</td>\n      <td>This World</td>\n    </tr>\n    <tr>\n      <th>3</th>\n      <td>10</td>\n      <td>Constant Hitmaker</td>\n      <td>Kurt Vile</td>\n      <td>Pop</td>\n      <td>Freeway</td>\n    </tr>\n    <tr>\n      <th>4</th>\n      <td>134</td>\n      <td>AWOL - A Way Of Life</td>\n      <td>AWOL</td>\n      <td>HipHop</td>\n      <td>Street Music</td>\n    </tr>\n  </tbody>\n</table>\n</div>"
     },
     "execution_count": 271,
     "metadata": {},
     "output_type": "execute_result"
    }
   ],
   "source": [
    "metadata.head()"
   ]
  },
  {
   "cell_type": "markdown",
   "metadata": {},
   "source": [
    "### Model Selection - K Means Algorithm"
   ]
  },
  {
   "cell_type": "code",
   "execution_count": 272,
   "metadata": {},
   "outputs": [],
   "source": [
    "from sklearn.cluster import KMeans\n",
    "from sklearn.utils import shuffle\n"
   ]
  },
  {
   "cell_type": "code",
   "execution_count": 273,
   "metadata": {},
   "outputs": [],
   "source": [
    "final = shuffle(final, random_state=100)"
   ]
  },
  {
   "cell_type": "code",
   "execution_count": 274,
   "metadata": {},
   "outputs": [],
   "source": [
    "num_enlisted = 2000  # how many songs are enlisted in the user's playlist\n",
    "\n",
    "# X is the audience's playlist  Recall: iloc is integer position-based\n",
    "X = final.iloc[[i for i in range(0, num_enlisted)]]\n",
    "\n",
    "# Y is the music reservoir which are going to be used for the recommendations\n",
    "Y = final.iloc[[i for i in range(num_enlisted, final.shape[0])]]"
   ]
  },
  {
   "cell_type": "code",
   "execution_count": 275,
   "metadata": {},
   "outputs": [],
   "source": [
    "X = shuffle(X, random_state=100)\n",
    "Y = shuffle(Y, random_state=100)"
   ]
  },
  {
   "cell_type": "code",
   "execution_count": 276,
   "metadata": {},
   "outputs": [
    {
     "data": {
      "text/plain": "       track_id  acousticness  danceability    energy  instrumentalness  \\\n5257      20578      0.857307      0.380751  0.143179          0.904447   \n410        1105      0.001511      0.119617  0.932086          0.930931   \n4711      18753      0.103440      0.176934  0.751613          0.214590   \n11922     81368      0.960197      0.403913  0.204022          0.900791   \n7336      31881      0.007057      0.555030  0.764131          0.880281   \n\n       liveness  speechiness    tempo   valence  artist_discovery  \\\n5257   0.371113     0.036546  112.611  0.172942          0.148544   \n410    0.065884     0.075716  166.922  0.175888          0.160536   \n4711   0.332937     0.048927  136.965  0.524496          0.527548   \n11922  0.107306     0.043420  108.770  0.129756          0.254730   \n7336   0.064819     0.070115   93.362  0.262522          0.284627   \n\n       artist_familiarity  artist_hotttnesss  song_currency  song_hotttnesss  \n5257             0.247430           0.155181       0.000000         0.000000  \n410              0.263770           0.167709       0.000000         0.000000  \n4711             0.355465           0.551119       0.000039         0.070213  \n11922            0.185473           0.266111       0.000000         0.000000  \n7336             0.252960           0.297344       0.000000         0.000000  ",
      "text/html": "<div>\n<style scoped>\n    .dataframe tbody tr th:only-of-type {\n        vertical-align: middle;\n    }\n\n    .dataframe tbody tr th {\n        vertical-align: top;\n    }\n\n    .dataframe thead th {\n        text-align: right;\n    }\n</style>\n<table border=\"1\" class=\"dataframe\">\n  <thead>\n    <tr style=\"text-align: right;\">\n      <th></th>\n      <th>track_id</th>\n      <th>acousticness</th>\n      <th>danceability</th>\n      <th>energy</th>\n      <th>instrumentalness</th>\n      <th>liveness</th>\n      <th>speechiness</th>\n      <th>tempo</th>\n      <th>valence</th>\n      <th>artist_discovery</th>\n      <th>artist_familiarity</th>\n      <th>artist_hotttnesss</th>\n      <th>song_currency</th>\n      <th>song_hotttnesss</th>\n    </tr>\n  </thead>\n  <tbody>\n    <tr>\n      <th>5257</th>\n      <td>20578</td>\n      <td>0.857307</td>\n      <td>0.380751</td>\n      <td>0.143179</td>\n      <td>0.904447</td>\n      <td>0.371113</td>\n      <td>0.036546</td>\n      <td>112.611</td>\n      <td>0.172942</td>\n      <td>0.148544</td>\n      <td>0.247430</td>\n      <td>0.155181</td>\n      <td>0.000000</td>\n      <td>0.000000</td>\n    </tr>\n    <tr>\n      <th>410</th>\n      <td>1105</td>\n      <td>0.001511</td>\n      <td>0.119617</td>\n      <td>0.932086</td>\n      <td>0.930931</td>\n      <td>0.065884</td>\n      <td>0.075716</td>\n      <td>166.922</td>\n      <td>0.175888</td>\n      <td>0.160536</td>\n      <td>0.263770</td>\n      <td>0.167709</td>\n      <td>0.000000</td>\n      <td>0.000000</td>\n    </tr>\n    <tr>\n      <th>4711</th>\n      <td>18753</td>\n      <td>0.103440</td>\n      <td>0.176934</td>\n      <td>0.751613</td>\n      <td>0.214590</td>\n      <td>0.332937</td>\n      <td>0.048927</td>\n      <td>136.965</td>\n      <td>0.524496</td>\n      <td>0.527548</td>\n      <td>0.355465</td>\n      <td>0.551119</td>\n      <td>0.000039</td>\n      <td>0.070213</td>\n    </tr>\n    <tr>\n      <th>11922</th>\n      <td>81368</td>\n      <td>0.960197</td>\n      <td>0.403913</td>\n      <td>0.204022</td>\n      <td>0.900791</td>\n      <td>0.107306</td>\n      <td>0.043420</td>\n      <td>108.770</td>\n      <td>0.129756</td>\n      <td>0.254730</td>\n      <td>0.185473</td>\n      <td>0.266111</td>\n      <td>0.000000</td>\n      <td>0.000000</td>\n    </tr>\n    <tr>\n      <th>7336</th>\n      <td>31881</td>\n      <td>0.007057</td>\n      <td>0.555030</td>\n      <td>0.764131</td>\n      <td>0.880281</td>\n      <td>0.064819</td>\n      <td>0.070115</td>\n      <td>93.362</td>\n      <td>0.262522</td>\n      <td>0.284627</td>\n      <td>0.252960</td>\n      <td>0.297344</td>\n      <td>0.000000</td>\n      <td>0.000000</td>\n    </tr>\n  </tbody>\n</table>\n</div>"
     },
     "execution_count": 276,
     "metadata": {},
     "output_type": "execute_result"
    }
   ],
   "source": [
    "X.head()"
   ]
  },
  {
   "cell_type": "code",
   "execution_count": 277,
   "metadata": {
    "scrolled": false
   },
   "outputs": [],
   "source": [
    "kmeans = KMeans(n_clusters=6)"
   ]
  },
  {
   "cell_type": "code",
   "execution_count": 278,
   "metadata": {},
   "outputs": [],
   "source": [
    "def fit(df, algo, flag=0):\n",
    "    df = df.set_index('track_id')\n",
    "    if flag:\n",
    "        algo.fit(df)\n",
    "    else:\n",
    "        algo.partial_fit(df)\n",
    "    df['label'] = algo.labels_\n",
    "    return (df, algo)"
   ]
  },
  {
   "cell_type": "code",
   "execution_count": 279,
   "metadata": {},
   "outputs": [],
   "source": [
    "def predict(t, Y):\n",
    "    Y = Y.set_index('track_id')\n",
    "    y_pred = t[1].predict(Y)\n",
    "    mode = pd.Series(y_pred).mode()\n",
    "    return t[0][t[0]['label'] == mode.loc[0]]"
   ]
  },
  {
   "cell_type": "code",
   "execution_count": 280,
   "metadata": {},
   "outputs": [
    {
     "data": {
      "text/plain": "       track_id  acousticness  danceability    energy  instrumentalness  \\\n6159      25172      0.995769      0.575536  0.072498          0.951810   \n4928      19622      0.995796      0.363499  0.064849          0.873007   \n12692    112277      0.643805      0.450673  0.465502          0.091072   \n2378      10035      0.954748      0.162086  0.000669          0.000055   \n3139      12519      0.010644      0.863181  0.422751          0.932807   \n\n       liveness  speechiness    tempo   valence  artist_discovery  \\\n6159   0.362845     0.156567  134.222  0.749784          0.474547   \n4928   0.268156     0.056632   74.648  0.569499          0.351244   \n12692  0.120271     0.212198  175.354  0.891171          0.409123   \n2378   0.121634     0.041126  125.588  0.089176          0.340716   \n3139   0.112729     0.113547  113.052  0.483683          0.440652   \n\n       artist_familiarity  artist_hotttnesss  song_currency  song_hotttnesss  \n6159             0.401179           0.496548       0.000000         0.024744  \n4928             0.288913           0.366938       0.000000         0.000000  \n12692            0.304900           0.427403       0.000000         0.000000  \n2378             0.176642           0.355939       0.000000         0.000000  \n3139             0.338019           0.460340       0.000178         0.100569  ",
      "text/html": "<div>\n<style scoped>\n    .dataframe tbody tr th:only-of-type {\n        vertical-align: middle;\n    }\n\n    .dataframe tbody tr th {\n        vertical-align: top;\n    }\n\n    .dataframe thead th {\n        text-align: right;\n    }\n</style>\n<table border=\"1\" class=\"dataframe\">\n  <thead>\n    <tr style=\"text-align: right;\">\n      <th></th>\n      <th>track_id</th>\n      <th>acousticness</th>\n      <th>danceability</th>\n      <th>energy</th>\n      <th>instrumentalness</th>\n      <th>liveness</th>\n      <th>speechiness</th>\n      <th>tempo</th>\n      <th>valence</th>\n      <th>artist_discovery</th>\n      <th>artist_familiarity</th>\n      <th>artist_hotttnesss</th>\n      <th>song_currency</th>\n      <th>song_hotttnesss</th>\n    </tr>\n  </thead>\n  <tbody>\n    <tr>\n      <th>6159</th>\n      <td>25172</td>\n      <td>0.995769</td>\n      <td>0.575536</td>\n      <td>0.072498</td>\n      <td>0.951810</td>\n      <td>0.362845</td>\n      <td>0.156567</td>\n      <td>134.222</td>\n      <td>0.749784</td>\n      <td>0.474547</td>\n      <td>0.401179</td>\n      <td>0.496548</td>\n      <td>0.000000</td>\n      <td>0.024744</td>\n    </tr>\n    <tr>\n      <th>4928</th>\n      <td>19622</td>\n      <td>0.995796</td>\n      <td>0.363499</td>\n      <td>0.064849</td>\n      <td>0.873007</td>\n      <td>0.268156</td>\n      <td>0.056632</td>\n      <td>74.648</td>\n      <td>0.569499</td>\n      <td>0.351244</td>\n      <td>0.288913</td>\n      <td>0.366938</td>\n      <td>0.000000</td>\n      <td>0.000000</td>\n    </tr>\n    <tr>\n      <th>12692</th>\n      <td>112277</td>\n      <td>0.643805</td>\n      <td>0.450673</td>\n      <td>0.465502</td>\n      <td>0.091072</td>\n      <td>0.120271</td>\n      <td>0.212198</td>\n      <td>175.354</td>\n      <td>0.891171</td>\n      <td>0.409123</td>\n      <td>0.304900</td>\n      <td>0.427403</td>\n      <td>0.000000</td>\n      <td>0.000000</td>\n    </tr>\n    <tr>\n      <th>2378</th>\n      <td>10035</td>\n      <td>0.954748</td>\n      <td>0.162086</td>\n      <td>0.000669</td>\n      <td>0.000055</td>\n      <td>0.121634</td>\n      <td>0.041126</td>\n      <td>125.588</td>\n      <td>0.089176</td>\n      <td>0.340716</td>\n      <td>0.176642</td>\n      <td>0.355939</td>\n      <td>0.000000</td>\n      <td>0.000000</td>\n    </tr>\n    <tr>\n      <th>3139</th>\n      <td>12519</td>\n      <td>0.010644</td>\n      <td>0.863181</td>\n      <td>0.422751</td>\n      <td>0.932807</td>\n      <td>0.112729</td>\n      <td>0.113547</td>\n      <td>113.052</td>\n      <td>0.483683</td>\n      <td>0.440652</td>\n      <td>0.338019</td>\n      <td>0.460340</td>\n      <td>0.000178</td>\n      <td>0.100569</td>\n    </tr>\n  </tbody>\n</table>\n</div>"
     },
     "execution_count": 280,
     "metadata": {},
     "output_type": "execute_result"
    }
   ],
   "source": [
    "Y.head()"
   ]
  },
  {
   "cell_type": "code",
   "execution_count": 281,
   "metadata": {},
   "outputs": [
    {
     "name": "stderr",
     "output_type": "stream",
     "text": [
      "C:\\Users\\winni\\anaconda3\\envs\\CIS6020_AI_Project\\lib\\site-packages\\sklearn\\cluster\\_kmeans.py:1334: UserWarning: KMeans is known to have a memory leak on Windows with MKL, when there are less chunks than available threads. You can avoid it by setting the environment variable OMP_NUM_THREADS=8.\n",
      "  warnings.warn(\n"
     ]
    },
    {
     "data": {
      "text/plain": "(          acousticness  danceability    energy  instrumentalness  liveness  \\\n track_id                                                                     \n 20578         0.857307      0.380751  0.143179          0.904447  0.371113   \n 1105          0.001511      0.119617  0.932086          0.930931  0.065884   \n 18753         0.103440      0.176934  0.751613          0.214590  0.332937   \n 81368         0.960197      0.403913  0.204022          0.900791  0.107306   \n 31881         0.007057      0.555030  0.764131          0.880281  0.064819   \n ...                ...           ...       ...               ...       ...   \n 14800         0.000032      0.892513  0.253932          0.879037  0.332298   \n 37921         0.548195      0.491913  0.735015          0.955849  0.076965   \n 4199          0.902837      0.110838  0.264158          0.970930  0.086866   \n 1799          0.040998      0.613058  0.870231          0.819554  0.110854   \n 642           0.946599      0.420579  0.239794          0.175450  0.109406   \n \n           speechiness    tempo   valence  artist_discovery  \\\n track_id                                                     \n 20578        0.036546  112.611  0.172942          0.148544   \n 1105         0.075716  166.922  0.175888          0.160536   \n 18753        0.048927  136.965  0.524496          0.527548   \n 81368        0.043420  108.770  0.129756          0.254730   \n 31881        0.070115   93.362  0.262522          0.284627   \n ...               ...      ...       ...               ...   \n 14800        0.085339  125.160  0.175002          0.296324   \n 37921        0.036738  159.971  0.826673          0.325454   \n 4199         0.047148  168.085  0.162653          0.410808   \n 1799         0.058479  189.089  0.945519          0.105377   \n 642          0.138498   74.939  0.530209          0.164088   \n \n           artist_familiarity  artist_hotttnesss  song_currency  \\\n track_id                                                         \n 20578               0.247430           0.155181       0.000000   \n 1105                0.263770           0.167709       0.000000   \n 18753               0.355465           0.551119       0.000039   \n 81368               0.185473           0.266111       0.000000   \n 31881               0.252960           0.297344       0.000000   \n ...                      ...                ...            ...   \n 14800               0.313425           0.309564       0.000000   \n 37921               0.265698           0.339995       0.000240   \n 4199                0.486924           0.484260       0.000000   \n 1799                0.162315           0.110085       0.000000   \n 642                 0.214879           0.171419       0.000000   \n \n           song_hotttnesss  label  \n track_id                          \n 20578            0.000000      0  \n 1105             0.000000      1  \n 18753            0.070213      5  \n 81368            0.000000      0  \n 31881            0.000000      2  \n ...                   ...    ...  \n 14800            0.000000      0  \n 37921            0.099650      1  \n 4199             0.000000      1  \n 1799             0.000000      4  \n 642              0.000000      3  \n \n [2000 rows x 14 columns],\n KMeans(n_clusters=6))"
     },
     "execution_count": 281,
     "metadata": {},
     "output_type": "execute_result"
    }
   ],
   "source": [
    "t = fit(X, kmeans, 1)\n",
    "t"
   ]
  },
  {
   "cell_type": "code",
   "execution_count": 282,
   "metadata": {},
   "outputs": [
    {
     "data": {
      "text/plain": "          acousticness  danceability    energy  instrumentalness  liveness  \\\ntrack_id                                                                     \n31881         0.007057      0.555030  0.764131          0.880281  0.064819   \n33711         0.395812      0.736020  0.575406          0.246747  0.090738   \n33044         0.960250      0.420011  0.190370          0.915435  0.336118   \n105018        0.008160      0.533155  0.709440          0.300927  0.347076   \n49931         0.495373      0.561037  0.388667          0.068159  0.128947   \n...                ...           ...       ...               ...       ...   \n34406         0.063832      0.395921  0.926013          0.885229  0.194911   \n18026         0.995796      0.215221  0.129007          0.972870  0.339714   \n18027         0.995765      0.539181  0.264597          0.972724  0.246283   \n36302         0.296315      0.889528  0.232582          0.932233  0.111159   \n23172         0.595187      0.654982  0.940364          0.903396  0.133092   \n\n          speechiness    tempo   valence  artist_discovery  \\\ntrack_id                                                     \n31881        0.070115   93.362  0.262522          0.284627   \n33711        0.412314   91.945  0.666975          0.262898   \n33044        0.036872   84.151  0.061257          0.374602   \n105018       0.027579  100.030  0.245441          0.335636   \n49931        0.255811  105.824  0.202095          0.376508   \n...               ...      ...       ...               ...   \n34406        0.042750   96.218  0.126521          0.310875   \n18026        0.030085   84.796  0.537703          0.248466   \n18027        0.032837  102.617  0.775923          0.076188   \n36302        0.317319  100.087  0.745758          0.285311   \n23172        0.066721   96.123  0.960648          0.405010   \n\n          artist_familiarity  artist_hotttnesss  song_currency  \\\ntrack_id                                                         \n31881               0.252960           0.297344            0.0   \n33711               0.327014           0.274644            0.0   \n33044               0.262303           0.391339            0.0   \n105018              0.208720           0.350632            0.0   \n49931               0.410917           0.399240            0.0   \n...                      ...                ...            ...   \n34406               0.275075           0.324765            0.0   \n18026               0.053097           0.259567            0.0   \n18027               0.034536           0.079592            0.0   \n36302               0.279443           0.298059            0.0   \n23172               0.341445           0.423106            0.0   \n\n          song_hotttnesss  label  \ntrack_id                          \n31881                 0.0      2  \n33711                 0.0      2  \n33044                 0.0      2  \n105018                0.0      2  \n49931                 0.0      2  \n...                   ...    ...  \n34406                 0.0      2  \n18026                 0.0      2  \n18027                 0.0      2  \n36302                 0.0      2  \n23172                 0.0      2  \n\n[520 rows x 14 columns]",
      "text/html": "<div>\n<style scoped>\n    .dataframe tbody tr th:only-of-type {\n        vertical-align: middle;\n    }\n\n    .dataframe tbody tr th {\n        vertical-align: top;\n    }\n\n    .dataframe thead th {\n        text-align: right;\n    }\n</style>\n<table border=\"1\" class=\"dataframe\">\n  <thead>\n    <tr style=\"text-align: right;\">\n      <th></th>\n      <th>acousticness</th>\n      <th>danceability</th>\n      <th>energy</th>\n      <th>instrumentalness</th>\n      <th>liveness</th>\n      <th>speechiness</th>\n      <th>tempo</th>\n      <th>valence</th>\n      <th>artist_discovery</th>\n      <th>artist_familiarity</th>\n      <th>artist_hotttnesss</th>\n      <th>song_currency</th>\n      <th>song_hotttnesss</th>\n      <th>label</th>\n    </tr>\n    <tr>\n      <th>track_id</th>\n      <th></th>\n      <th></th>\n      <th></th>\n      <th></th>\n      <th></th>\n      <th></th>\n      <th></th>\n      <th></th>\n      <th></th>\n      <th></th>\n      <th></th>\n      <th></th>\n      <th></th>\n      <th></th>\n    </tr>\n  </thead>\n  <tbody>\n    <tr>\n      <th>31881</th>\n      <td>0.007057</td>\n      <td>0.555030</td>\n      <td>0.764131</td>\n      <td>0.880281</td>\n      <td>0.064819</td>\n      <td>0.070115</td>\n      <td>93.362</td>\n      <td>0.262522</td>\n      <td>0.284627</td>\n      <td>0.252960</td>\n      <td>0.297344</td>\n      <td>0.0</td>\n      <td>0.0</td>\n      <td>2</td>\n    </tr>\n    <tr>\n      <th>33711</th>\n      <td>0.395812</td>\n      <td>0.736020</td>\n      <td>0.575406</td>\n      <td>0.246747</td>\n      <td>0.090738</td>\n      <td>0.412314</td>\n      <td>91.945</td>\n      <td>0.666975</td>\n      <td>0.262898</td>\n      <td>0.327014</td>\n      <td>0.274644</td>\n      <td>0.0</td>\n      <td>0.0</td>\n      <td>2</td>\n    </tr>\n    <tr>\n      <th>33044</th>\n      <td>0.960250</td>\n      <td>0.420011</td>\n      <td>0.190370</td>\n      <td>0.915435</td>\n      <td>0.336118</td>\n      <td>0.036872</td>\n      <td>84.151</td>\n      <td>0.061257</td>\n      <td>0.374602</td>\n      <td>0.262303</td>\n      <td>0.391339</td>\n      <td>0.0</td>\n      <td>0.0</td>\n      <td>2</td>\n    </tr>\n    <tr>\n      <th>105018</th>\n      <td>0.008160</td>\n      <td>0.533155</td>\n      <td>0.709440</td>\n      <td>0.300927</td>\n      <td>0.347076</td>\n      <td>0.027579</td>\n      <td>100.030</td>\n      <td>0.245441</td>\n      <td>0.335636</td>\n      <td>0.208720</td>\n      <td>0.350632</td>\n      <td>0.0</td>\n      <td>0.0</td>\n      <td>2</td>\n    </tr>\n    <tr>\n      <th>49931</th>\n      <td>0.495373</td>\n      <td>0.561037</td>\n      <td>0.388667</td>\n      <td>0.068159</td>\n      <td>0.128947</td>\n      <td>0.255811</td>\n      <td>105.824</td>\n      <td>0.202095</td>\n      <td>0.376508</td>\n      <td>0.410917</td>\n      <td>0.399240</td>\n      <td>0.0</td>\n      <td>0.0</td>\n      <td>2</td>\n    </tr>\n    <tr>\n      <th>...</th>\n      <td>...</td>\n      <td>...</td>\n      <td>...</td>\n      <td>...</td>\n      <td>...</td>\n      <td>...</td>\n      <td>...</td>\n      <td>...</td>\n      <td>...</td>\n      <td>...</td>\n      <td>...</td>\n      <td>...</td>\n      <td>...</td>\n      <td>...</td>\n    </tr>\n    <tr>\n      <th>34406</th>\n      <td>0.063832</td>\n      <td>0.395921</td>\n      <td>0.926013</td>\n      <td>0.885229</td>\n      <td>0.194911</td>\n      <td>0.042750</td>\n      <td>96.218</td>\n      <td>0.126521</td>\n      <td>0.310875</td>\n      <td>0.275075</td>\n      <td>0.324765</td>\n      <td>0.0</td>\n      <td>0.0</td>\n      <td>2</td>\n    </tr>\n    <tr>\n      <th>18026</th>\n      <td>0.995796</td>\n      <td>0.215221</td>\n      <td>0.129007</td>\n      <td>0.972870</td>\n      <td>0.339714</td>\n      <td>0.030085</td>\n      <td>84.796</td>\n      <td>0.537703</td>\n      <td>0.248466</td>\n      <td>0.053097</td>\n      <td>0.259567</td>\n      <td>0.0</td>\n      <td>0.0</td>\n      <td>2</td>\n    </tr>\n    <tr>\n      <th>18027</th>\n      <td>0.995765</td>\n      <td>0.539181</td>\n      <td>0.264597</td>\n      <td>0.972724</td>\n      <td>0.246283</td>\n      <td>0.032837</td>\n      <td>102.617</td>\n      <td>0.775923</td>\n      <td>0.076188</td>\n      <td>0.034536</td>\n      <td>0.079592</td>\n      <td>0.0</td>\n      <td>0.0</td>\n      <td>2</td>\n    </tr>\n    <tr>\n      <th>36302</th>\n      <td>0.296315</td>\n      <td>0.889528</td>\n      <td>0.232582</td>\n      <td>0.932233</td>\n      <td>0.111159</td>\n      <td>0.317319</td>\n      <td>100.087</td>\n      <td>0.745758</td>\n      <td>0.285311</td>\n      <td>0.279443</td>\n      <td>0.298059</td>\n      <td>0.0</td>\n      <td>0.0</td>\n      <td>2</td>\n    </tr>\n    <tr>\n      <th>23172</th>\n      <td>0.595187</td>\n      <td>0.654982</td>\n      <td>0.940364</td>\n      <td>0.903396</td>\n      <td>0.133092</td>\n      <td>0.066721</td>\n      <td>96.123</td>\n      <td>0.960648</td>\n      <td>0.405010</td>\n      <td>0.341445</td>\n      <td>0.423106</td>\n      <td>0.0</td>\n      <td>0.0</td>\n      <td>2</td>\n    </tr>\n  </tbody>\n</table>\n<p>520 rows × 14 columns</p>\n</div>"
     },
     "execution_count": 282,
     "metadata": {},
     "output_type": "execute_result"
    }
   ],
   "source": [
    "recommendations = predict(t, Y)  # generate the predicted label for the music archive"
   ]
  },
  {
   "cell_type": "code",
   "execution_count": 283,
   "metadata": {},
   "outputs": [
    {
     "name": "stdout",
     "output_type": "stream",
     "text": [
      "<class 'pandas.core.frame.DataFrame'>\n",
      "Int64Index: 520 entries, 31881 to 23172\n",
      "Data columns (total 14 columns):\n",
      " #   Column              Non-Null Count  Dtype  \n",
      "---  ------              --------------  -----  \n",
      " 0   acousticness        520 non-null    float64\n",
      " 1   danceability        520 non-null    float64\n",
      " 2   energy              520 non-null    float64\n",
      " 3   instrumentalness    520 non-null    float64\n",
      " 4   liveness            520 non-null    float64\n",
      " 5   speechiness         520 non-null    float64\n",
      " 6   tempo               520 non-null    float64\n",
      " 7   valence             520 non-null    float64\n",
      " 8   artist_discovery    520 non-null    float64\n",
      " 9   artist_familiarity  520 non-null    float64\n",
      " 10  artist_hotttnesss   520 non-null    float64\n",
      " 11  song_currency       520 non-null    float64\n",
      " 12  song_hotttnesss     520 non-null    float64\n",
      " 13  label               520 non-null    int32  \n",
      "dtypes: float64(13), int32(1)\n",
      "memory usage: 58.9 KB\n"
     ]
    }
   ],
   "source": [
    "recommendations.info()"
   ]
  },
  {
   "cell_type": "code",
   "execution_count": 284,
   "metadata": {},
   "outputs": [
    {
     "data": {
      "text/plain": "          acousticness  danceability    energy  instrumentalness  liveness  \\\ntrack_id                                                                     \n31881         0.007057      0.555030  0.764131          0.880281  0.064819   \n33711         0.395812      0.736020  0.575406          0.246747  0.090738   \n33044         0.960250      0.420011  0.190370          0.915435  0.336118   \n105018        0.008160      0.533155  0.709440          0.300927  0.347076   \n49931         0.495373      0.561037  0.388667          0.068159  0.128947   \n\n          speechiness    tempo   valence  artist_discovery  \\\ntrack_id                                                     \n31881        0.070115   93.362  0.262522          0.284627   \n33711        0.412314   91.945  0.666975          0.262898   \n33044        0.036872   84.151  0.061257          0.374602   \n105018       0.027579  100.030  0.245441          0.335636   \n49931        0.255811  105.824  0.202095          0.376508   \n\n          artist_familiarity  artist_hotttnesss  song_currency  \\\ntrack_id                                                         \n31881               0.252960           0.297344            0.0   \n33711               0.327014           0.274644            0.0   \n33044               0.262303           0.391339            0.0   \n105018              0.208720           0.350632            0.0   \n49931               0.410917           0.399240            0.0   \n\n          song_hotttnesss  label  \ntrack_id                          \n31881                 0.0      2  \n33711                 0.0      2  \n33044                 0.0      2  \n105018                0.0      2  \n49931                 0.0      2  ",
      "text/html": "<div>\n<style scoped>\n    .dataframe tbody tr th:only-of-type {\n        vertical-align: middle;\n    }\n\n    .dataframe tbody tr th {\n        vertical-align: top;\n    }\n\n    .dataframe thead th {\n        text-align: right;\n    }\n</style>\n<table border=\"1\" class=\"dataframe\">\n  <thead>\n    <tr style=\"text-align: right;\">\n      <th></th>\n      <th>acousticness</th>\n      <th>danceability</th>\n      <th>energy</th>\n      <th>instrumentalness</th>\n      <th>liveness</th>\n      <th>speechiness</th>\n      <th>tempo</th>\n      <th>valence</th>\n      <th>artist_discovery</th>\n      <th>artist_familiarity</th>\n      <th>artist_hotttnesss</th>\n      <th>song_currency</th>\n      <th>song_hotttnesss</th>\n      <th>label</th>\n    </tr>\n    <tr>\n      <th>track_id</th>\n      <th></th>\n      <th></th>\n      <th></th>\n      <th></th>\n      <th></th>\n      <th></th>\n      <th></th>\n      <th></th>\n      <th></th>\n      <th></th>\n      <th></th>\n      <th></th>\n      <th></th>\n      <th></th>\n    </tr>\n  </thead>\n  <tbody>\n    <tr>\n      <th>31881</th>\n      <td>0.007057</td>\n      <td>0.555030</td>\n      <td>0.764131</td>\n      <td>0.880281</td>\n      <td>0.064819</td>\n      <td>0.070115</td>\n      <td>93.362</td>\n      <td>0.262522</td>\n      <td>0.284627</td>\n      <td>0.252960</td>\n      <td>0.297344</td>\n      <td>0.0</td>\n      <td>0.0</td>\n      <td>2</td>\n    </tr>\n    <tr>\n      <th>33711</th>\n      <td>0.395812</td>\n      <td>0.736020</td>\n      <td>0.575406</td>\n      <td>0.246747</td>\n      <td>0.090738</td>\n      <td>0.412314</td>\n      <td>91.945</td>\n      <td>0.666975</td>\n      <td>0.262898</td>\n      <td>0.327014</td>\n      <td>0.274644</td>\n      <td>0.0</td>\n      <td>0.0</td>\n      <td>2</td>\n    </tr>\n    <tr>\n      <th>33044</th>\n      <td>0.960250</td>\n      <td>0.420011</td>\n      <td>0.190370</td>\n      <td>0.915435</td>\n      <td>0.336118</td>\n      <td>0.036872</td>\n      <td>84.151</td>\n      <td>0.061257</td>\n      <td>0.374602</td>\n      <td>0.262303</td>\n      <td>0.391339</td>\n      <td>0.0</td>\n      <td>0.0</td>\n      <td>2</td>\n    </tr>\n    <tr>\n      <th>105018</th>\n      <td>0.008160</td>\n      <td>0.533155</td>\n      <td>0.709440</td>\n      <td>0.300927</td>\n      <td>0.347076</td>\n      <td>0.027579</td>\n      <td>100.030</td>\n      <td>0.245441</td>\n      <td>0.335636</td>\n      <td>0.208720</td>\n      <td>0.350632</td>\n      <td>0.0</td>\n      <td>0.0</td>\n      <td>2</td>\n    </tr>\n    <tr>\n      <th>49931</th>\n      <td>0.495373</td>\n      <td>0.561037</td>\n      <td>0.388667</td>\n      <td>0.068159</td>\n      <td>0.128947</td>\n      <td>0.255811</td>\n      <td>105.824</td>\n      <td>0.202095</td>\n      <td>0.376508</td>\n      <td>0.410917</td>\n      <td>0.399240</td>\n      <td>0.0</td>\n      <td>0.0</td>\n      <td>2</td>\n    </tr>\n  </tbody>\n</table>\n</div>"
     },
     "execution_count": 284,
     "metadata": {},
     "output_type": "execute_result"
    }
   ],
   "source": [
    "recommendations.head()"
   ]
  },
  {
   "cell_type": "code",
   "execution_count": 285,
   "metadata": {},
   "outputs": [
    {
     "name": "stdout",
     "output_type": "stream",
     "text": [
      "<class 'pandas.core.frame.DataFrame'>\n",
      "RangeIndex: 13129 entries, 0 to 13128\n",
      "Data columns (total 5 columns):\n",
      " #   Column       Non-Null Count  Dtype \n",
      "---  ------       --------------  ----- \n",
      " 0   track_id     13129 non-null  int64 \n",
      " 1   album_title  13129 non-null  object\n",
      " 2   artist_name  13129 non-null  object\n",
      " 3   genre        13129 non-null  object\n",
      " 4   track_title  13128 non-null  object\n",
      "dtypes: int64(1), object(4)\n",
      "memory usage: 513.0+ KB\n"
     ]
    }
   ],
   "source": [
    "metadata.info()"
   ]
  },
  {
   "cell_type": "code",
   "execution_count": 286,
   "metadata": {},
   "outputs": [],
   "source": [
    "metadata = metadata.set_index('track_id')"
   ]
  },
  {
   "cell_type": "code",
   "execution_count": 287,
   "metadata": {},
   "outputs": [],
   "source": [
    "#metadata = metadata.set_index('track_id')"
   ]
  },
  {
   "cell_type": "code",
   "execution_count": 288,
   "metadata": {},
   "outputs": [
    {
     "data": {
      "text/plain": "       track_id  acousticness  danceability    energy  instrumentalness  \\\n6159      25172      0.995769      0.575536  0.072498          0.951810   \n4928      19622      0.995796      0.363499  0.064849          0.873007   \n12692    112277      0.643805      0.450673  0.465502          0.091072   \n2378      10035      0.954748      0.162086  0.000669          0.000055   \n3139      12519      0.010644      0.863181  0.422751          0.932807   \n\n       liveness  speechiness    tempo   valence  artist_discovery  \\\n6159   0.362845     0.156567  134.222  0.749784          0.474547   \n4928   0.268156     0.056632   74.648  0.569499          0.351244   \n12692  0.120271     0.212198  175.354  0.891171          0.409123   \n2378   0.121634     0.041126  125.588  0.089176          0.340716   \n3139   0.112729     0.113547  113.052  0.483683          0.440652   \n\n       artist_familiarity  artist_hotttnesss  song_currency  song_hotttnesss  \n6159             0.401179           0.496548       0.000000         0.024744  \n4928             0.288913           0.366938       0.000000         0.000000  \n12692            0.304900           0.427403       0.000000         0.000000  \n2378             0.176642           0.355939       0.000000         0.000000  \n3139             0.338019           0.460340       0.000178         0.100569  ",
      "text/html": "<div>\n<style scoped>\n    .dataframe tbody tr th:only-of-type {\n        vertical-align: middle;\n    }\n\n    .dataframe tbody tr th {\n        vertical-align: top;\n    }\n\n    .dataframe thead th {\n        text-align: right;\n    }\n</style>\n<table border=\"1\" class=\"dataframe\">\n  <thead>\n    <tr style=\"text-align: right;\">\n      <th></th>\n      <th>track_id</th>\n      <th>acousticness</th>\n      <th>danceability</th>\n      <th>energy</th>\n      <th>instrumentalness</th>\n      <th>liveness</th>\n      <th>speechiness</th>\n      <th>tempo</th>\n      <th>valence</th>\n      <th>artist_discovery</th>\n      <th>artist_familiarity</th>\n      <th>artist_hotttnesss</th>\n      <th>song_currency</th>\n      <th>song_hotttnesss</th>\n    </tr>\n  </thead>\n  <tbody>\n    <tr>\n      <th>6159</th>\n      <td>25172</td>\n      <td>0.995769</td>\n      <td>0.575536</td>\n      <td>0.072498</td>\n      <td>0.951810</td>\n      <td>0.362845</td>\n      <td>0.156567</td>\n      <td>134.222</td>\n      <td>0.749784</td>\n      <td>0.474547</td>\n      <td>0.401179</td>\n      <td>0.496548</td>\n      <td>0.000000</td>\n      <td>0.024744</td>\n    </tr>\n    <tr>\n      <th>4928</th>\n      <td>19622</td>\n      <td>0.995796</td>\n      <td>0.363499</td>\n      <td>0.064849</td>\n      <td>0.873007</td>\n      <td>0.268156</td>\n      <td>0.056632</td>\n      <td>74.648</td>\n      <td>0.569499</td>\n      <td>0.351244</td>\n      <td>0.288913</td>\n      <td>0.366938</td>\n      <td>0.000000</td>\n      <td>0.000000</td>\n    </tr>\n    <tr>\n      <th>12692</th>\n      <td>112277</td>\n      <td>0.643805</td>\n      <td>0.450673</td>\n      <td>0.465502</td>\n      <td>0.091072</td>\n      <td>0.120271</td>\n      <td>0.212198</td>\n      <td>175.354</td>\n      <td>0.891171</td>\n      <td>0.409123</td>\n      <td>0.304900</td>\n      <td>0.427403</td>\n      <td>0.000000</td>\n      <td>0.000000</td>\n    </tr>\n    <tr>\n      <th>2378</th>\n      <td>10035</td>\n      <td>0.954748</td>\n      <td>0.162086</td>\n      <td>0.000669</td>\n      <td>0.000055</td>\n      <td>0.121634</td>\n      <td>0.041126</td>\n      <td>125.588</td>\n      <td>0.089176</td>\n      <td>0.340716</td>\n      <td>0.176642</td>\n      <td>0.355939</td>\n      <td>0.000000</td>\n      <td>0.000000</td>\n    </tr>\n    <tr>\n      <th>3139</th>\n      <td>12519</td>\n      <td>0.010644</td>\n      <td>0.863181</td>\n      <td>0.422751</td>\n      <td>0.932807</td>\n      <td>0.112729</td>\n      <td>0.113547</td>\n      <td>113.052</td>\n      <td>0.483683</td>\n      <td>0.440652</td>\n      <td>0.338019</td>\n      <td>0.460340</td>\n      <td>0.000178</td>\n      <td>0.100569</td>\n    </tr>\n  </tbody>\n</table>\n</div>"
     },
     "execution_count": 288,
     "metadata": {},
     "output_type": "execute_result"
    }
   ],
   "source": [
    "Y.head()"
   ]
  },
  {
   "cell_type": "code",
   "execution_count": 289,
   "metadata": {},
   "outputs": [
    {
     "name": "stdout",
     "output_type": "stream",
     "text": [
      "<class 'pandas.core.frame.DataFrame'>\n",
      "Int64Index: 11129 entries, 6159 to 12157\n",
      "Data columns (total 14 columns):\n",
      " #   Column              Non-Null Count  Dtype  \n",
      "---  ------              --------------  -----  \n",
      " 0   track_id            11129 non-null  int64  \n",
      " 1   acousticness        11129 non-null  float64\n",
      " 2   danceability        11129 non-null  float64\n",
      " 3   energy              11129 non-null  float64\n",
      " 4   instrumentalness    11129 non-null  float64\n",
      " 5   liveness            11129 non-null  float64\n",
      " 6   speechiness         11129 non-null  float64\n",
      " 7   tempo               11129 non-null  float64\n",
      " 8   valence             11129 non-null  float64\n",
      " 9   artist_discovery    11129 non-null  float64\n",
      " 10  artist_familiarity  11129 non-null  float64\n",
      " 11  artist_hotttnesss   11129 non-null  float64\n",
      " 12  song_currency       11129 non-null  float64\n",
      " 13  song_hotttnesss     11129 non-null  float64\n",
      "dtypes: float64(13), int64(1)\n",
      "memory usage: 1.3 MB\n"
     ]
    }
   ],
   "source": [
    "Y.info()"
   ]
  },
  {
   "cell_type": "code",
   "execution_count": 290,
   "metadata": {},
   "outputs": [],
   "source": [
    "#Y = Y.reset_index(level=0)"
   ]
  },
  {
   "cell_type": "code",
   "execution_count": 291,
   "metadata": {},
   "outputs": [],
   "source": [
    "#recommendations = recommendations.reset_index(level=0)"
   ]
  },
  {
   "cell_type": "code",
   "execution_count": 292,
   "metadata": {},
   "outputs": [],
   "source": [
    "def recommend(recommendations, meta, Y):\n",
    "    recommendations = recommendations.reset_index(level=0)\n",
    "    Y = Y.reset_index(level=0)\n",
    "    dat = []\n",
    "    for i in Y['track_id']:\n",
    "        dat.append(i)\n",
    "    genre_mode = meta.loc[dat]['genre'].mode()\n",
    "    artist_mode = meta.loc[dat]['artist_name'].mode()\n",
    "    return meta[meta['genre'] == genre_mode.iloc[0]], meta[meta['artist_name'] == artist_mode.iloc[0]], meta.loc[\n",
    "        recommendations['track_id']]"
   ]
  },
  {
   "cell_type": "code",
   "execution_count": 293,
   "metadata": {},
   "outputs": [],
   "source": [
    "output = recommend(recommendations, metadata, Y)"
   ]
  },
  {
   "cell_type": "code",
   "execution_count": 294,
   "metadata": {},
   "outputs": [],
   "source": [
    "genre_recommend, artist_name_recommend, mixed_recommend = output[0], output[1], output[2]"
   ]
  },
  {
   "cell_type": "code",
   "execution_count": 295,
   "metadata": {},
   "outputs": [
    {
     "data": {
      "text/plain": "(3892, 4)"
     },
     "execution_count": 295,
     "metadata": {},
     "output_type": "execute_result"
    }
   ],
   "source": [
    "genre_recommend.shape"
   ]
  },
  {
   "cell_type": "code",
   "execution_count": 296,
   "metadata": {},
   "outputs": [
    {
     "data": {
      "text/plain": "(94, 4)"
     },
     "execution_count": 296,
     "metadata": {},
     "output_type": "execute_result"
    }
   ],
   "source": [
    "artist_name_recommend.shape"
   ]
  },
  {
   "cell_type": "code",
   "execution_count": 297,
   "metadata": {},
   "outputs": [
    {
     "data": {
      "text/plain": "(520, 4)"
     },
     "execution_count": 297,
     "metadata": {},
     "output_type": "execute_result"
    }
   ],
   "source": [
    "mixed_recommend.shape"
   ]
  },
  {
   "cell_type": "code",
   "execution_count": 298,
   "metadata": {},
   "outputs": [
    {
     "data": {
      "text/plain": "              album_title     artist_name genre                 track_title\ntrack_id                                                                   \n153        Arc and Sender  Arc and Sender  Rock          Hundred-Year Flood\n154        Arc and Sender  Arc and Sender  Rock         Squares And Circles\n155       unreleased demo  Arc and Sender  Rock     Maps of the Stars Homes\n169          Boss of Goth      Argumentix  Rock                Boss of Goth\n170          Nightmarcher      Argumentix  Rock  Industry Standard Massacre",
      "text/html": "<div>\n<style scoped>\n    .dataframe tbody tr th:only-of-type {\n        vertical-align: middle;\n    }\n\n    .dataframe tbody tr th {\n        vertical-align: top;\n    }\n\n    .dataframe thead th {\n        text-align: right;\n    }\n</style>\n<table border=\"1\" class=\"dataframe\">\n  <thead>\n    <tr style=\"text-align: right;\">\n      <th></th>\n      <th>album_title</th>\n      <th>artist_name</th>\n      <th>genre</th>\n      <th>track_title</th>\n    </tr>\n    <tr>\n      <th>track_id</th>\n      <th></th>\n      <th></th>\n      <th></th>\n      <th></th>\n    </tr>\n  </thead>\n  <tbody>\n    <tr>\n      <th>153</th>\n      <td>Arc and Sender</td>\n      <td>Arc and Sender</td>\n      <td>Rock</td>\n      <td>Hundred-Year Flood</td>\n    </tr>\n    <tr>\n      <th>154</th>\n      <td>Arc and Sender</td>\n      <td>Arc and Sender</td>\n      <td>Rock</td>\n      <td>Squares And Circles</td>\n    </tr>\n    <tr>\n      <th>155</th>\n      <td>unreleased demo</td>\n      <td>Arc and Sender</td>\n      <td>Rock</td>\n      <td>Maps of the Stars Homes</td>\n    </tr>\n    <tr>\n      <th>169</th>\n      <td>Boss of Goth</td>\n      <td>Argumentix</td>\n      <td>Rock</td>\n      <td>Boss of Goth</td>\n    </tr>\n    <tr>\n      <th>170</th>\n      <td>Nightmarcher</td>\n      <td>Argumentix</td>\n      <td>Rock</td>\n      <td>Industry Standard Massacre</td>\n    </tr>\n  </tbody>\n</table>\n</div>"
     },
     "execution_count": 298,
     "metadata": {},
     "output_type": "execute_result"
    }
   ],
   "source": [
    "# Genre wise recommendations\n",
    "genre_recommend.head()"
   ]
  },
  {
   "cell_type": "code",
   "execution_count": 299,
   "metadata": {
    "scrolled": true
   },
   "outputs": [
    {
     "data": {
      "text/plain": "                              album_title artist_name genre  \\\ntrack_id                                                      \n10381     Big Blood & The Bleedin' Hearts   Big Blood  Folk   \n10382     Big Blood & The Bleedin' Hearts   Big Blood  Folk   \n10383     Big Blood & The Bleedin' Hearts   Big Blood  Folk   \n10384     Big Blood & The Bleedin' Hearts   Big Blood  Folk   \n10385     Big Blood & The Bleedin' Hearts   Big Blood  Folk   \n\n                 track_title  \ntrack_id                      \n10381     Baron in the Trees  \n10382           New Dish Rag  \n10383         Graceless Lady  \n10384           Blood Mumble  \n10385                  Curee  ",
      "text/html": "<div>\n<style scoped>\n    .dataframe tbody tr th:only-of-type {\n        vertical-align: middle;\n    }\n\n    .dataframe tbody tr th {\n        vertical-align: top;\n    }\n\n    .dataframe thead th {\n        text-align: right;\n    }\n</style>\n<table border=\"1\" class=\"dataframe\">\n  <thead>\n    <tr style=\"text-align: right;\">\n      <th></th>\n      <th>album_title</th>\n      <th>artist_name</th>\n      <th>genre</th>\n      <th>track_title</th>\n    </tr>\n    <tr>\n      <th>track_id</th>\n      <th></th>\n      <th></th>\n      <th></th>\n      <th></th>\n    </tr>\n  </thead>\n  <tbody>\n    <tr>\n      <th>10381</th>\n      <td>Big Blood &amp; The Bleedin' Hearts</td>\n      <td>Big Blood</td>\n      <td>Folk</td>\n      <td>Baron in the Trees</td>\n    </tr>\n    <tr>\n      <th>10382</th>\n      <td>Big Blood &amp; The Bleedin' Hearts</td>\n      <td>Big Blood</td>\n      <td>Folk</td>\n      <td>New Dish Rag</td>\n    </tr>\n    <tr>\n      <th>10383</th>\n      <td>Big Blood &amp; The Bleedin' Hearts</td>\n      <td>Big Blood</td>\n      <td>Folk</td>\n      <td>Graceless Lady</td>\n    </tr>\n    <tr>\n      <th>10384</th>\n      <td>Big Blood &amp; The Bleedin' Hearts</td>\n      <td>Big Blood</td>\n      <td>Folk</td>\n      <td>Blood Mumble</td>\n    </tr>\n    <tr>\n      <th>10385</th>\n      <td>Big Blood &amp; The Bleedin' Hearts</td>\n      <td>Big Blood</td>\n      <td>Folk</td>\n      <td>Curee</td>\n    </tr>\n  </tbody>\n</table>\n</div>"
     },
     "execution_count": 299,
     "metadata": {},
     "output_type": "execute_result"
    }
   ],
   "source": [
    "# Artist wise recommendations\n",
    "artist_name_recommend.head()"
   ]
  },
  {
   "cell_type": "code",
   "execution_count": 300,
   "metadata": {},
   "outputs": [
    {
     "data": {
      "text/plain": "                                           album_title         artist_name  \\\ntrack_id                                                                     \n31881                                     Disco Pirata                Pisu   \n33711                             Húsares de la Muerte              H.D.M.   \n33044                                       Later Days           Asthmaboy   \n105018                                         Violent  Talk Less Say More   \n49931     Live at WFMU on Nat Roe's Show June 29, 2011                Pika   \n\n                                    genre              track_title  \ntrack_id                                                            \n31881     AvantGarde|International|Blues|                Commodore  \n33711                              HipHop              Rapero mula  \n33044                                Rock  The Traffic Still Moves  \n105018    AvantGarde|International|Blues|       Yeah, That's Right  \n49931                                Rock                    Intro  ",
      "text/html": "<div>\n<style scoped>\n    .dataframe tbody tr th:only-of-type {\n        vertical-align: middle;\n    }\n\n    .dataframe tbody tr th {\n        vertical-align: top;\n    }\n\n    .dataframe thead th {\n        text-align: right;\n    }\n</style>\n<table border=\"1\" class=\"dataframe\">\n  <thead>\n    <tr style=\"text-align: right;\">\n      <th></th>\n      <th>album_title</th>\n      <th>artist_name</th>\n      <th>genre</th>\n      <th>track_title</th>\n    </tr>\n    <tr>\n      <th>track_id</th>\n      <th></th>\n      <th></th>\n      <th></th>\n      <th></th>\n    </tr>\n  </thead>\n  <tbody>\n    <tr>\n      <th>31881</th>\n      <td>Disco Pirata</td>\n      <td>Pisu</td>\n      <td>AvantGarde|International|Blues|</td>\n      <td>Commodore</td>\n    </tr>\n    <tr>\n      <th>33711</th>\n      <td>Húsares de la Muerte</td>\n      <td>H.D.M.</td>\n      <td>HipHop</td>\n      <td>Rapero mula</td>\n    </tr>\n    <tr>\n      <th>33044</th>\n      <td>Later Days</td>\n      <td>Asthmaboy</td>\n      <td>Rock</td>\n      <td>The Traffic Still Moves</td>\n    </tr>\n    <tr>\n      <th>105018</th>\n      <td>Violent</td>\n      <td>Talk Less Say More</td>\n      <td>AvantGarde|International|Blues|</td>\n      <td>Yeah, That's Right</td>\n    </tr>\n    <tr>\n      <th>49931</th>\n      <td>Live at WFMU on Nat Roe's Show June 29, 2011</td>\n      <td>Pika</td>\n      <td>Rock</td>\n      <td>Intro</td>\n    </tr>\n  </tbody>\n</table>\n</div>"
     },
     "execution_count": 300,
     "metadata": {},
     "output_type": "execute_result"
    }
   ],
   "source": [
    "# Mixed Recommendations\n",
    "mixed_recommend.head()"
   ]
  },
  {
   "cell_type": "code",
   "execution_count": 301,
   "metadata": {},
   "outputs": [
    {
     "data": {
      "text/plain": "          acousticness  danceability    energy  instrumentalness  liveness  \\\ntrack_id                                                                     \n31881         0.007057      0.555030  0.764131          0.880281  0.064819   \n33711         0.395812      0.736020  0.575406          0.246747  0.090738   \n33044         0.960250      0.420011  0.190370          0.915435  0.336118   \n105018        0.008160      0.533155  0.709440          0.300927  0.347076   \n49931         0.495373      0.561037  0.388667          0.068159  0.128947   \n...                ...           ...       ...               ...       ...   \n34406         0.063832      0.395921  0.926013          0.885229  0.194911   \n18026         0.995796      0.215221  0.129007          0.972870  0.339714   \n18027         0.995765      0.539181  0.264597          0.972724  0.246283   \n36302         0.296315      0.889528  0.232582          0.932233  0.111159   \n23172         0.595187      0.654982  0.940364          0.903396  0.133092   \n\n          speechiness    tempo   valence  artist_discovery  \\\ntrack_id                                                     \n31881        0.070115   93.362  0.262522          0.284627   \n33711        0.412314   91.945  0.666975          0.262898   \n33044        0.036872   84.151  0.061257          0.374602   \n105018       0.027579  100.030  0.245441          0.335636   \n49931        0.255811  105.824  0.202095          0.376508   \n...               ...      ...       ...               ...   \n34406        0.042750   96.218  0.126521          0.310875   \n18026        0.030085   84.796  0.537703          0.248466   \n18027        0.032837  102.617  0.775923          0.076188   \n36302        0.317319  100.087  0.745758          0.285311   \n23172        0.066721   96.123  0.960648          0.405010   \n\n          artist_familiarity  artist_hotttnesss  song_currency  \\\ntrack_id                                                         \n31881               0.252960           0.297344            0.0   \n33711               0.327014           0.274644            0.0   \n33044               0.262303           0.391339            0.0   \n105018              0.208720           0.350632            0.0   \n49931               0.410917           0.399240            0.0   \n...                      ...                ...            ...   \n34406               0.275075           0.324765            0.0   \n18026               0.053097           0.259567            0.0   \n18027               0.034536           0.079592            0.0   \n36302               0.279443           0.298059            0.0   \n23172               0.341445           0.423106            0.0   \n\n          song_hotttnesss  label  \ntrack_id                          \n31881                 0.0      2  \n33711                 0.0      2  \n33044                 0.0      2  \n105018                0.0      2  \n49931                 0.0      2  \n...                   ...    ...  \n34406                 0.0      2  \n18026                 0.0      2  \n18027                 0.0      2  \n36302                 0.0      2  \n23172                 0.0      2  \n\n[520 rows x 14 columns]",
      "text/html": "<div>\n<style scoped>\n    .dataframe tbody tr th:only-of-type {\n        vertical-align: middle;\n    }\n\n    .dataframe tbody tr th {\n        vertical-align: top;\n    }\n\n    .dataframe thead th {\n        text-align: right;\n    }\n</style>\n<table border=\"1\" class=\"dataframe\">\n  <thead>\n    <tr style=\"text-align: right;\">\n      <th></th>\n      <th>acousticness</th>\n      <th>danceability</th>\n      <th>energy</th>\n      <th>instrumentalness</th>\n      <th>liveness</th>\n      <th>speechiness</th>\n      <th>tempo</th>\n      <th>valence</th>\n      <th>artist_discovery</th>\n      <th>artist_familiarity</th>\n      <th>artist_hotttnesss</th>\n      <th>song_currency</th>\n      <th>song_hotttnesss</th>\n      <th>label</th>\n    </tr>\n    <tr>\n      <th>track_id</th>\n      <th></th>\n      <th></th>\n      <th></th>\n      <th></th>\n      <th></th>\n      <th></th>\n      <th></th>\n      <th></th>\n      <th></th>\n      <th></th>\n      <th></th>\n      <th></th>\n      <th></th>\n      <th></th>\n    </tr>\n  </thead>\n  <tbody>\n    <tr>\n      <th>31881</th>\n      <td>0.007057</td>\n      <td>0.555030</td>\n      <td>0.764131</td>\n      <td>0.880281</td>\n      <td>0.064819</td>\n      <td>0.070115</td>\n      <td>93.362</td>\n      <td>0.262522</td>\n      <td>0.284627</td>\n      <td>0.252960</td>\n      <td>0.297344</td>\n      <td>0.0</td>\n      <td>0.0</td>\n      <td>2</td>\n    </tr>\n    <tr>\n      <th>33711</th>\n      <td>0.395812</td>\n      <td>0.736020</td>\n      <td>0.575406</td>\n      <td>0.246747</td>\n      <td>0.090738</td>\n      <td>0.412314</td>\n      <td>91.945</td>\n      <td>0.666975</td>\n      <td>0.262898</td>\n      <td>0.327014</td>\n      <td>0.274644</td>\n      <td>0.0</td>\n      <td>0.0</td>\n      <td>2</td>\n    </tr>\n    <tr>\n      <th>33044</th>\n      <td>0.960250</td>\n      <td>0.420011</td>\n      <td>0.190370</td>\n      <td>0.915435</td>\n      <td>0.336118</td>\n      <td>0.036872</td>\n      <td>84.151</td>\n      <td>0.061257</td>\n      <td>0.374602</td>\n      <td>0.262303</td>\n      <td>0.391339</td>\n      <td>0.0</td>\n      <td>0.0</td>\n      <td>2</td>\n    </tr>\n    <tr>\n      <th>105018</th>\n      <td>0.008160</td>\n      <td>0.533155</td>\n      <td>0.709440</td>\n      <td>0.300927</td>\n      <td>0.347076</td>\n      <td>0.027579</td>\n      <td>100.030</td>\n      <td>0.245441</td>\n      <td>0.335636</td>\n      <td>0.208720</td>\n      <td>0.350632</td>\n      <td>0.0</td>\n      <td>0.0</td>\n      <td>2</td>\n    </tr>\n    <tr>\n      <th>49931</th>\n      <td>0.495373</td>\n      <td>0.561037</td>\n      <td>0.388667</td>\n      <td>0.068159</td>\n      <td>0.128947</td>\n      <td>0.255811</td>\n      <td>105.824</td>\n      <td>0.202095</td>\n      <td>0.376508</td>\n      <td>0.410917</td>\n      <td>0.399240</td>\n      <td>0.0</td>\n      <td>0.0</td>\n      <td>2</td>\n    </tr>\n    <tr>\n      <th>...</th>\n      <td>...</td>\n      <td>...</td>\n      <td>...</td>\n      <td>...</td>\n      <td>...</td>\n      <td>...</td>\n      <td>...</td>\n      <td>...</td>\n      <td>...</td>\n      <td>...</td>\n      <td>...</td>\n      <td>...</td>\n      <td>...</td>\n      <td>...</td>\n    </tr>\n    <tr>\n      <th>34406</th>\n      <td>0.063832</td>\n      <td>0.395921</td>\n      <td>0.926013</td>\n      <td>0.885229</td>\n      <td>0.194911</td>\n      <td>0.042750</td>\n      <td>96.218</td>\n      <td>0.126521</td>\n      <td>0.310875</td>\n      <td>0.275075</td>\n      <td>0.324765</td>\n      <td>0.0</td>\n      <td>0.0</td>\n      <td>2</td>\n    </tr>\n    <tr>\n      <th>18026</th>\n      <td>0.995796</td>\n      <td>0.215221</td>\n      <td>0.129007</td>\n      <td>0.972870</td>\n      <td>0.339714</td>\n      <td>0.030085</td>\n      <td>84.796</td>\n      <td>0.537703</td>\n      <td>0.248466</td>\n      <td>0.053097</td>\n      <td>0.259567</td>\n      <td>0.0</td>\n      <td>0.0</td>\n      <td>2</td>\n    </tr>\n    <tr>\n      <th>18027</th>\n      <td>0.995765</td>\n      <td>0.539181</td>\n      <td>0.264597</td>\n      <td>0.972724</td>\n      <td>0.246283</td>\n      <td>0.032837</td>\n      <td>102.617</td>\n      <td>0.775923</td>\n      <td>0.076188</td>\n      <td>0.034536</td>\n      <td>0.079592</td>\n      <td>0.0</td>\n      <td>0.0</td>\n      <td>2</td>\n    </tr>\n    <tr>\n      <th>36302</th>\n      <td>0.296315</td>\n      <td>0.889528</td>\n      <td>0.232582</td>\n      <td>0.932233</td>\n      <td>0.111159</td>\n      <td>0.317319</td>\n      <td>100.087</td>\n      <td>0.745758</td>\n      <td>0.285311</td>\n      <td>0.279443</td>\n      <td>0.298059</td>\n      <td>0.0</td>\n      <td>0.0</td>\n      <td>2</td>\n    </tr>\n    <tr>\n      <th>23172</th>\n      <td>0.595187</td>\n      <td>0.654982</td>\n      <td>0.940364</td>\n      <td>0.903396</td>\n      <td>0.133092</td>\n      <td>0.066721</td>\n      <td>96.123</td>\n      <td>0.960648</td>\n      <td>0.405010</td>\n      <td>0.341445</td>\n      <td>0.423106</td>\n      <td>0.0</td>\n      <td>0.0</td>\n      <td>2</td>\n    </tr>\n  </tbody>\n</table>\n<p>520 rows × 14 columns</p>\n</div>"
     },
     "execution_count": 301,
     "metadata": {},
     "output_type": "execute_result"
    }
   ],
   "source": [
    "recommendations"
   ]
  },
  {
   "cell_type": "code",
   "execution_count": 302,
   "metadata": {},
   "outputs": [
    {
     "data": {
      "text/plain": "Big Blood    94\nName: artist_name, dtype: int64"
     },
     "execution_count": 302,
     "metadata": {},
     "output_type": "execute_result"
    }
   ],
   "source": [
    "artist_name_recommend['artist_name'].value_counts()"
   ]
  },
  {
   "cell_type": "code",
   "execution_count": 303,
   "metadata": {},
   "outputs": [
    {
     "data": {
      "text/plain": "Rock    3892\nName: genre, dtype: int64"
     },
     "execution_count": 303,
     "metadata": {},
     "output_type": "execute_result"
    }
   ],
   "source": [
    "genre_recommend['genre'].value_counts()"
   ]
  },
  {
   "cell_type": "code",
   "execution_count": 304,
   "metadata": {},
   "outputs": [
    {
     "data": {
      "text/plain": "Glove Compartment               65\nBlah Blah Blah                  62\nMors Ontologica                 50\nLes Baudouins Morts             38\nKraus                           35\n                                ..\nAlone in 1982                    1\nOstrich Tuning                   1\nThe Dalai Lama Rama Fa Fa Fa     1\nThe Rusty Bells                  1\nLost Boy                         1\nName: artist_name, Length: 725, dtype: int64"
     },
     "execution_count": 304,
     "metadata": {},
     "output_type": "execute_result"
    }
   ],
   "source": [
    "genre_recommend['artist_name'].value_counts()"
   ]
  },
  {
   "cell_type": "markdown",
   "metadata": {},
   "source": [
    "#### Testing"
   ]
  },
  {
   "cell_type": "code",
   "execution_count": 305,
   "metadata": {},
   "outputs": [],
   "source": [
    "testing = Y.iloc[100:200]['track_id']"
   ]
  },
  {
   "cell_type": "code",
   "execution_count": 306,
   "metadata": {},
   "outputs": [
    {
     "data": {
      "text/plain": "4743     18970\n2411     10097\n12308    97959\n12233    95407\n9727     44240\n516       1307\nName: track_id, dtype: int64"
     },
     "execution_count": 306,
     "metadata": {},
     "output_type": "execute_result"
    }
   ],
   "source": [
    "testing"
   ]
  },
  {
   "cell_type": "code",
   "execution_count": 307,
   "metadata": {},
   "outputs": [],
   "source": [
    "ids = testing.loc[testing.index]"
   ]
  },
  {
   "cell_type": "code",
   "execution_count": 308,
   "metadata": {},
   "outputs": [],
   "source": [
    "songs = metadata.loc[testing.loc[list(testing.index)]]"
   ]
  },
  {
   "cell_type": "code",
   "execution_count": 309,
   "metadata": {},
   "outputs": [
    {
     "data": {
      "text/plain": "                        album_title                          artist_name  \\\ntrack_id                                                                   \n18970                           Air  Sandro Marinoni & Stefano Roncarolo   \n10097     Edison Blue Amberol: 2687    Harvey Hindermyer and Helen Clark   \n97959                 4a @ electric                                 Gilo   \n95407          Wiiiiiiiide Awake EP                             junior85   \n44240          Son Of 1,000 Pardons                           Joey Ripps   \n1307            Realistic Psychosis                        Nicky Andrews   \n\n                     genre            track_title  \ntrack_id                                           \n18970                 Jazz             Double Fee  \n10097     OldTime|Historic         Hello, Frisco!  \n97959           Electronic      Este som - parte2  \n95407           Electronic           raymondscott  \n44240               HipHop  First Of Many Pardons  \n1307            Electronic              Bru Ha Ha  ",
      "text/html": "<div>\n<style scoped>\n    .dataframe tbody tr th:only-of-type {\n        vertical-align: middle;\n    }\n\n    .dataframe tbody tr th {\n        vertical-align: top;\n    }\n\n    .dataframe thead th {\n        text-align: right;\n    }\n</style>\n<table border=\"1\" class=\"dataframe\">\n  <thead>\n    <tr style=\"text-align: right;\">\n      <th></th>\n      <th>album_title</th>\n      <th>artist_name</th>\n      <th>genre</th>\n      <th>track_title</th>\n    </tr>\n    <tr>\n      <th>track_id</th>\n      <th></th>\n      <th></th>\n      <th></th>\n      <th></th>\n    </tr>\n  </thead>\n  <tbody>\n    <tr>\n      <th>18970</th>\n      <td>Air</td>\n      <td>Sandro Marinoni &amp; Stefano Roncarolo</td>\n      <td>Jazz</td>\n      <td>Double Fee</td>\n    </tr>\n    <tr>\n      <th>10097</th>\n      <td>Edison Blue Amberol: 2687</td>\n      <td>Harvey Hindermyer and Helen Clark</td>\n      <td>OldTime|Historic</td>\n      <td>Hello, Frisco!</td>\n    </tr>\n    <tr>\n      <th>97959</th>\n      <td>4a @ electric</td>\n      <td>Gilo</td>\n      <td>Electronic</td>\n      <td>Este som - parte2</td>\n    </tr>\n    <tr>\n      <th>95407</th>\n      <td>Wiiiiiiiide Awake EP</td>\n      <td>junior85</td>\n      <td>Electronic</td>\n      <td>raymondscott</td>\n    </tr>\n    <tr>\n      <th>44240</th>\n      <td>Son Of 1,000 Pardons</td>\n      <td>Joey Ripps</td>\n      <td>HipHop</td>\n      <td>First Of Many Pardons</td>\n    </tr>\n    <tr>\n      <th>1307</th>\n      <td>Realistic Psychosis</td>\n      <td>Nicky Andrews</td>\n      <td>Electronic</td>\n      <td>Bru Ha Ha</td>\n    </tr>\n  </tbody>\n</table>\n</div>"
     },
     "execution_count": 309,
     "metadata": {},
     "output_type": "execute_result"
    }
   ],
   "source": [
    "songs"
   ]
  },
  {
   "cell_type": "code",
   "execution_count": 310,
   "metadata": {},
   "outputs": [],
   "source": [
    "re = predict(t, Y.iloc[6:12])"
   ]
  },
  {
   "cell_type": "code",
   "execution_count": 311,
   "metadata": {},
   "outputs": [],
   "source": [
    "output = recommend(re, metadata, Y.iloc[6:12])"
   ]
  },
  {
   "cell_type": "code",
   "execution_count": 312,
   "metadata": {},
   "outputs": [],
   "source": [
    "ge_re, ge_ar, ge_mix = output[0], output[1], output[2]"
   ]
  },
  {
   "cell_type": "code",
   "execution_count": 313,
   "metadata": {},
   "outputs": [
    {
     "data": {
      "text/plain": "                                     album_title  artist_name       genre  \\\ntrack_id                                                                    \n384                                   Summer Set  Blanketship  Electronic   \n386                                   Summer Set  Blanketship  Electronic   \n387                                   Summer Set  Blanketship  Electronic   \n396       On the Back of a Dying Beast: Volume 1  Borful Tang  Electronic   \n397       On the Back of a Dying Beast: Volume 1  Borful Tang  Electronic   \n\n                   track_title  \ntrack_id                        \n384                 Baja Jones  \n386               Clapartroach  \n387              I wish I wish  \n396       Juggernaut Soliloquy  \n397          The Tides Of Land  ",
      "text/html": "<div>\n<style scoped>\n    .dataframe tbody tr th:only-of-type {\n        vertical-align: middle;\n    }\n\n    .dataframe tbody tr th {\n        vertical-align: top;\n    }\n\n    .dataframe thead th {\n        text-align: right;\n    }\n</style>\n<table border=\"1\" class=\"dataframe\">\n  <thead>\n    <tr style=\"text-align: right;\">\n      <th></th>\n      <th>album_title</th>\n      <th>artist_name</th>\n      <th>genre</th>\n      <th>track_title</th>\n    </tr>\n    <tr>\n      <th>track_id</th>\n      <th></th>\n      <th></th>\n      <th></th>\n      <th></th>\n    </tr>\n  </thead>\n  <tbody>\n    <tr>\n      <th>384</th>\n      <td>Summer Set</td>\n      <td>Blanketship</td>\n      <td>Electronic</td>\n      <td>Baja Jones</td>\n    </tr>\n    <tr>\n      <th>386</th>\n      <td>Summer Set</td>\n      <td>Blanketship</td>\n      <td>Electronic</td>\n      <td>Clapartroach</td>\n    </tr>\n    <tr>\n      <th>387</th>\n      <td>Summer Set</td>\n      <td>Blanketship</td>\n      <td>Electronic</td>\n      <td>I wish I wish</td>\n    </tr>\n    <tr>\n      <th>396</th>\n      <td>On the Back of a Dying Beast: Volume 1</td>\n      <td>Borful Tang</td>\n      <td>Electronic</td>\n      <td>Juggernaut Soliloquy</td>\n    </tr>\n    <tr>\n      <th>397</th>\n      <td>On the Back of a Dying Beast: Volume 1</td>\n      <td>Borful Tang</td>\n      <td>Electronic</td>\n      <td>The Tides Of Land</td>\n    </tr>\n  </tbody>\n</table>\n</div>"
     },
     "execution_count": 313,
     "metadata": {},
     "output_type": "execute_result"
    }
   ],
   "source": [
    "ge_re.head()"
   ]
  },
  {
   "cell_type": "code",
   "execution_count": 314,
   "metadata": {},
   "outputs": [
    {
     "data": {
      "text/plain": "            album_title artist_name       genre           track_title\ntrack_id                                                             \n97959     4a @ electric        Gilo  Electronic     Este som - parte2\n97960     4a @ electric        Gilo  Electronic         Eu sou o fado\n97961     4a @ electric        Gilo  Electronic  Why does my heart...\n97962     4a @ electric        Gilo  Electronic        Breacking down",
      "text/html": "<div>\n<style scoped>\n    .dataframe tbody tr th:only-of-type {\n        vertical-align: middle;\n    }\n\n    .dataframe tbody tr th {\n        vertical-align: top;\n    }\n\n    .dataframe thead th {\n        text-align: right;\n    }\n</style>\n<table border=\"1\" class=\"dataframe\">\n  <thead>\n    <tr style=\"text-align: right;\">\n      <th></th>\n      <th>album_title</th>\n      <th>artist_name</th>\n      <th>genre</th>\n      <th>track_title</th>\n    </tr>\n    <tr>\n      <th>track_id</th>\n      <th></th>\n      <th></th>\n      <th></th>\n      <th></th>\n    </tr>\n  </thead>\n  <tbody>\n    <tr>\n      <th>97959</th>\n      <td>4a @ electric</td>\n      <td>Gilo</td>\n      <td>Electronic</td>\n      <td>Este som - parte2</td>\n    </tr>\n    <tr>\n      <th>97960</th>\n      <td>4a @ electric</td>\n      <td>Gilo</td>\n      <td>Electronic</td>\n      <td>Eu sou o fado</td>\n    </tr>\n    <tr>\n      <th>97961</th>\n      <td>4a @ electric</td>\n      <td>Gilo</td>\n      <td>Electronic</td>\n      <td>Why does my heart...</td>\n    </tr>\n    <tr>\n      <th>97962</th>\n      <td>4a @ electric</td>\n      <td>Gilo</td>\n      <td>Electronic</td>\n      <td>Breacking down</td>\n    </tr>\n  </tbody>\n</table>\n</div>"
     },
     "execution_count": 314,
     "metadata": {},
     "output_type": "execute_result"
    }
   ],
   "source": [
    "ge_ar.head(10)"
   ]
  },
  {
   "cell_type": "code",
   "execution_count": 315,
   "metadata": {},
   "outputs": [
    {
     "data": {
      "text/plain": "                                                album_title    artist_name  \\\ntrack_id                                                                     \n20578                                      @ ISSUE 10/22/09       Sim Cain   \n81368                                        Under the Lamp  E. R. Goodman   \n111907                                     Reel Time Canvas         Camden   \n28754                           Soundliketrains (2002-2004)  Los Llamarada   \n33903                                       Piriperos Nails            HOM   \n58602     Live at WFMU on Beastin the Airwaves with Keil...    Regal Degal   \n14199              Live at WFMU's Loud Live Acts on 4/02/09   Mental Abuse   \n26734                                      Folk Den Project  Roger McGuinn   \n34698                                 Songs From The Boidem            51%   \n50482                                           Introducing     The Brians   \n\n                                                   genre  \\\ntrack_id                                                   \n20578                                              Blues   \n81368     AvantGarde|International|Blues|Jazz|Classical|   \n111907                                              Rock   \n28754                                               Rock   \n33903                          AvantGarde|International|   \n58602                                               Rock   \n14199                                               Rock   \n26734                                               Folk   \n34698               AvantGarde|International|Blues|Jazz|   \n50482                          AvantGarde|International|   \n\n                        track_title  \ntrack_id                             \n20578                           Two  \n81368                     Open Door  \n111907    How To Make America Proud  \n28754                  It's a dream  \n33903                 IBM Deep Blue  \n58602             Logs in the River  \n14199                        No God  \n26734                  Ill Fly Away  \n34698         Taboo+ - Siman Sheela  \n50482                  Sugar Clouds  ",
      "text/html": "<div>\n<style scoped>\n    .dataframe tbody tr th:only-of-type {\n        vertical-align: middle;\n    }\n\n    .dataframe tbody tr th {\n        vertical-align: top;\n    }\n\n    .dataframe thead th {\n        text-align: right;\n    }\n</style>\n<table border=\"1\" class=\"dataframe\">\n  <thead>\n    <tr style=\"text-align: right;\">\n      <th></th>\n      <th>album_title</th>\n      <th>artist_name</th>\n      <th>genre</th>\n      <th>track_title</th>\n    </tr>\n    <tr>\n      <th>track_id</th>\n      <th></th>\n      <th></th>\n      <th></th>\n      <th></th>\n    </tr>\n  </thead>\n  <tbody>\n    <tr>\n      <th>20578</th>\n      <td>@ ISSUE 10/22/09</td>\n      <td>Sim Cain</td>\n      <td>Blues</td>\n      <td>Two</td>\n    </tr>\n    <tr>\n      <th>81368</th>\n      <td>Under the Lamp</td>\n      <td>E. R. Goodman</td>\n      <td>AvantGarde|International|Blues|Jazz|Classical|</td>\n      <td>Open Door</td>\n    </tr>\n    <tr>\n      <th>111907</th>\n      <td>Reel Time Canvas</td>\n      <td>Camden</td>\n      <td>Rock</td>\n      <td>How To Make America Proud</td>\n    </tr>\n    <tr>\n      <th>28754</th>\n      <td>Soundliketrains (2002-2004)</td>\n      <td>Los Llamarada</td>\n      <td>Rock</td>\n      <td>It's a dream</td>\n    </tr>\n    <tr>\n      <th>33903</th>\n      <td>Piriperos Nails</td>\n      <td>HOM</td>\n      <td>AvantGarde|International|</td>\n      <td>IBM Deep Blue</td>\n    </tr>\n    <tr>\n      <th>58602</th>\n      <td>Live at WFMU on Beastin the Airwaves with Keil...</td>\n      <td>Regal Degal</td>\n      <td>Rock</td>\n      <td>Logs in the River</td>\n    </tr>\n    <tr>\n      <th>14199</th>\n      <td>Live at WFMU's Loud Live Acts on 4/02/09</td>\n      <td>Mental Abuse</td>\n      <td>Rock</td>\n      <td>No God</td>\n    </tr>\n    <tr>\n      <th>26734</th>\n      <td>Folk Den Project</td>\n      <td>Roger McGuinn</td>\n      <td>Folk</td>\n      <td>Ill Fly Away</td>\n    </tr>\n    <tr>\n      <th>34698</th>\n      <td>Songs From The Boidem</td>\n      <td>51%</td>\n      <td>AvantGarde|International|Blues|Jazz|</td>\n      <td>Taboo+ - Siman Sheela</td>\n    </tr>\n    <tr>\n      <th>50482</th>\n      <td>Introducing</td>\n      <td>The Brians</td>\n      <td>AvantGarde|International|</td>\n      <td>Sugar Clouds</td>\n    </tr>\n  </tbody>\n</table>\n</div>"
     },
     "execution_count": 315,
     "metadata": {},
     "output_type": "execute_result"
    }
   ],
   "source": [
    "ge_mix.head(10)"
   ]
  },
  {
   "cell_type": "code",
   "execution_count": 316,
   "metadata": {},
   "outputs": [
    {
     "data": {
      "text/plain": "(2170, 4)"
     },
     "execution_count": 316,
     "metadata": {},
     "output_type": "execute_result"
    }
   ],
   "source": [
    "ge_re.shape"
   ]
  },
  {
   "cell_type": "code",
   "execution_count": 317,
   "metadata": {},
   "outputs": [
    {
     "data": {
      "text/plain": "(4, 4)"
     },
     "execution_count": 317,
     "metadata": {},
     "output_type": "execute_result"
    }
   ],
   "source": [
    "ge_ar.shape"
   ]
  },
  {
   "cell_type": "code",
   "execution_count": 318,
   "metadata": {},
   "outputs": [
    {
     "data": {
      "text/plain": "(464, 4)"
     },
     "execution_count": 318,
     "metadata": {},
     "output_type": "execute_result"
    }
   ],
   "source": [
    "ge_mix.shape"
   ]
  }
 ],
 "metadata": {
  "kernelspec": {
   "display_name": "Python 3 (ipykernel)",
   "language": "python",
   "name": "python3"
  },
  "language_info": {
   "codemirror_mode": {
    "name": "ipython",
    "version": 3
   },
   "file_extension": ".py",
   "mimetype": "text/x-python",
   "name": "python",
   "nbconvert_exporter": "python",
   "pygments_lexer": "ipython3",
   "version": "3.9.10"
  }
 },
 "nbformat": 4,
 "nbformat_minor": 2
}
