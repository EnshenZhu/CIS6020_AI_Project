{
 "cells": [
  {
   "cell_type": "markdown",
   "metadata": {},
   "source": [
    "### Obtaining Data"
   ]
  },
  {
   "cell_type": "code",
   "execution_count": 395,
   "metadata": {},
   "outputs": [],
   "source": [
    "import matplotlib.pyplot as plt\n",
    "import pandas as pd\n",
    "import numpy as np\n",
    "\n",
    "import matplotlib.pyplot as plt\n",
    "import seaborn as sns"
   ]
  },
  {
   "cell_type": "code",
   "execution_count": 396,
   "metadata": {},
   "outputs": [],
   "source": [
    "final = pd.read_csv(r'../../assets/final.csv')\n",
    "metadata = pd.read_csv(r'../../assets/metadata.csv')\n",
    "\n",
    "final = final.drop(final.columns[0],\n",
    "                   axis=\"columns\")  # drop the first column of the index\n",
    "\n",
    "final = final.set_index('track_id')\n",
    "\n",
    "# final = final.drop(labels=[\"artist_hotttnesss\", \"artist_familiarity\"], axis=\"columns\")"
   ]
  },
  {
   "cell_type": "code",
   "execution_count": 397,
   "outputs": [],
   "source": [
    "seed = 100"
   ],
   "metadata": {
    "collapsed": false
   }
  },
  {
   "cell_type": "code",
   "execution_count": 398,
   "outputs": [
    {
     "name": "stdout",
     "output_type": "stream",
     "text": [
      "       acousticness  danceability    energy  instrumentalness  liveness  \\\n",
      "0          0.418434      0.680869  0.634492          0.010649  0.159523   \n",
      "1          0.375988      0.520349  0.817487          0.001855  0.084377   \n",
      "2          0.043750      0.756819  0.701489          0.000698  0.364224   \n",
      "3          0.955687      0.661557  0.924557          0.967346  0.094422   \n",
      "4          0.454126      0.503556  0.560421          0.019481  0.074625   \n",
      "...             ...           ...       ...               ...       ...   \n",
      "13124      0.007624      0.805654  0.719309          0.854809  0.728161   \n",
      "13125      0.041672      0.863118  0.536506          0.866871  0.547261   \n",
      "13126      0.000124      0.608695  0.895166          0.848307  0.636215   \n",
      "13127      0.328959      0.570258  0.548338          0.453768  0.053014   \n",
      "13128      0.997801      0.488404  0.050605          0.947556  0.073995   \n",
      "\n",
      "       speechiness     tempo   valence  artist_discovery  artist_familiarity  \\\n",
      "0         0.145135  0.642706  0.576663          0.582495            0.471984   \n",
      "1         0.465638  0.479206  0.269236          0.582495            0.471984   \n",
      "2         0.108355  0.367184  0.621664          0.582495            0.471984   \n",
      "3         0.011296  0.414608  0.963599          0.834591            0.749667   \n",
      "4         0.533129  0.426055  0.894080          0.582495            0.471984   \n",
      "...            ...       ...       ...               ...                 ...   \n",
      "13124     0.063808  0.539525  0.890468          0.645117            0.557572   \n",
      "13125     0.054751  0.374381  0.476845          0.645117            0.557572   \n",
      "13126     0.030930  0.491958  0.496667          0.645117            0.557572   \n",
      "13127     0.011723  0.542365  0.569276          0.645117            0.557572   \n",
      "13128     0.045415  0.449868  0.204646          0.674198            0.335354   \n",
      "\n",
      "       artist_hotttnesss  song_currency  song_hotttnesss  \n",
      "0               0.502857       0.000000         0.000000  \n",
      "1               0.502857       0.000000         0.000000  \n",
      "2               0.502857       0.000000         0.000000  \n",
      "3               0.987954       0.098968         0.690265  \n",
      "4               0.502857       0.000000         0.000000  \n",
      "...                  ...            ...              ...  \n",
      "13124           0.602321       0.000000         0.000000  \n",
      "13125           0.602321       0.000000         0.000000  \n",
      "13126           0.602321       0.000000         0.000000  \n",
      "13127           0.602321       0.000000         0.000000  \n",
      "13128           0.582022       0.001163         0.133664  \n",
      "\n",
      "[13129 rows x 13 columns]\n"
     ]
    }
   ],
   "source": [
    "from sklearn.preprocessing import MinMaxScaler\n",
    "\n",
    "# create a scaler object\n",
    "scaler = MinMaxScaler()\n",
    "# fit and transform the data\n",
    "final = pd.DataFrame(scaler.fit_transform(final), columns=final.columns)\n",
    "\n",
    "print(final)"
   ],
   "metadata": {
    "collapsed": false
   }
  },
  {
   "cell_type": "code",
   "execution_count": 399,
   "metadata": {},
   "outputs": [],
   "source": [
    "# final.info()"
   ]
  },
  {
   "cell_type": "code",
   "execution_count": 400,
   "metadata": {},
   "outputs": [],
   "source": [
    "# final.head(3)"
   ]
  },
  {
   "cell_type": "code",
   "execution_count": 401,
   "metadata": {},
   "outputs": [
    {
     "name": "stdout",
     "output_type": "stream",
     "text": [
      "<class 'pandas.core.frame.DataFrame'>\n",
      "RangeIndex: 13129 entries, 0 to 13128\n",
      "Data columns (total 5 columns):\n",
      " #   Column       Non-Null Count  Dtype \n",
      "---  ------       --------------  ----- \n",
      " 0   track_id     13129 non-null  int64 \n",
      " 1   album_title  13129 non-null  object\n",
      " 2   artist_name  13129 non-null  object\n",
      " 3   genre        13129 non-null  object\n",
      " 4   track_title  13128 non-null  object\n",
      "dtypes: int64(1), object(4)\n",
      "memory usage: 513.0+ KB\n"
     ]
    }
   ],
   "source": [
    "metadata.info()"
   ]
  },
  {
   "cell_type": "code",
   "execution_count": 402,
   "metadata": {},
   "outputs": [],
   "source": [
    "# metadata.head()"
   ]
  },
  {
   "cell_type": "markdown",
   "metadata": {},
   "source": [
    "### Model Selection - K Means Algorithm"
   ]
  },
  {
   "cell_type": "code",
   "execution_count": 403,
   "metadata": {},
   "outputs": [],
   "source": [
    "from sklearn.utils import shuffle\n",
    "import hdbscan"
   ]
  },
  {
   "cell_type": "code",
   "execution_count": 404,
   "metadata": {},
   "outputs": [],
   "source": [
    "final = shuffle(final, random_state=seed)"
   ]
  },
  {
   "cell_type": "code",
   "execution_count": 405,
   "metadata": {},
   "outputs": [],
   "source": [
    "num_enlisted = 100  # how many songs are enlisted in the user's playlist\n",
    "\n",
    "# X is the audience's playlist  Recall: iloc is integer position-based\n",
    "X = final.iloc[[i for i in range(0, num_enlisted)]]\n",
    "\n",
    "# Y is the music reservoir which are going to be used for the recommendations\n",
    "Y = final.iloc[[i for i in range(num_enlisted, final.shape[0])]]"
   ]
  },
  {
   "cell_type": "code",
   "execution_count": 406,
   "metadata": {},
   "outputs": [
    {
     "data": {
      "text/plain": "       acousticness  danceability    energy  instrumentalness  liveness  \\\n2419       1.000000      0.707543  0.196787          0.915624  0.377304   \n10515      0.425710      0.546210  0.704866          0.953601  0.077707   \n5052       0.378446      0.545188  0.850706          0.668948  0.133428   \n10489      0.792795      0.429687  0.991938          0.864437  0.081194   \n689        0.060883      0.766558  0.333655          0.940140  0.079285   \n...             ...           ...       ...               ...       ...   \n8780       0.588984      0.466291  0.852470          0.826223  0.098116   \n2723       0.035320      0.493219  0.565304          0.615368  0.372120   \n4901       1.000000      0.274318  0.102068          0.950547  0.455779   \n8832       0.613778      0.827671  0.634824          0.927662  0.046223   \n5362       0.967308      0.461719  0.645986          0.832045  0.080609   \n\n       speechiness     tempo   valence  artist_discovery  artist_familiarity  \\\n2419      0.020039  0.483692  0.861103          0.388639            0.091817   \n10515     0.014778  0.505981  0.404146          0.145124            0.153112   \n5052      0.054652  0.618012  0.301626          0.475881            0.343569   \n10489     0.014491  0.575963  0.711521          0.411667            0.285427   \n689       0.012514  0.554907  0.885347          0.478126            0.316784   \n...            ...       ...       ...               ...                 ...   \n8780      0.008356  0.609784  0.963920          0.647216            0.428598   \n2723      0.017779  0.576026  0.208981          0.689059            0.454862   \n4901      0.022701  0.377784  0.188640          0.555543            0.359826   \n8832      0.027216  0.433369  0.659679          0.659856            0.412524   \n5362      0.020927  0.490326  0.673751          0.462653            0.294906   \n\n       artist_hotttnesss  song_currency  song_hotttnesss  \n2419            0.335505       0.000000         0.000000  \n10515           0.125283       0.000000         0.000000  \n5052            0.410819       0.000000         0.000000  \n10489           0.355384       0.000000         0.000000  \n689             0.412757       0.000000         0.000000  \n...                  ...            ...              ...  \n8780            0.558730       0.001744         0.124304  \n2723            0.594852       0.000000         0.000000  \n4901            0.479590       0.000000         0.000000  \n8832            0.569642       0.000650         0.074257  \n5362            0.399400       0.001370         0.075059  \n\n[100 rows x 13 columns]",
      "text/html": "<div>\n<style scoped>\n    .dataframe tbody tr th:only-of-type {\n        vertical-align: middle;\n    }\n\n    .dataframe tbody tr th {\n        vertical-align: top;\n    }\n\n    .dataframe thead th {\n        text-align: right;\n    }\n</style>\n<table border=\"1\" class=\"dataframe\">\n  <thead>\n    <tr style=\"text-align: right;\">\n      <th></th>\n      <th>acousticness</th>\n      <th>danceability</th>\n      <th>energy</th>\n      <th>instrumentalness</th>\n      <th>liveness</th>\n      <th>speechiness</th>\n      <th>tempo</th>\n      <th>valence</th>\n      <th>artist_discovery</th>\n      <th>artist_familiarity</th>\n      <th>artist_hotttnesss</th>\n      <th>song_currency</th>\n      <th>song_hotttnesss</th>\n    </tr>\n  </thead>\n  <tbody>\n    <tr>\n      <th>2419</th>\n      <td>1.000000</td>\n      <td>0.707543</td>\n      <td>0.196787</td>\n      <td>0.915624</td>\n      <td>0.377304</td>\n      <td>0.020039</td>\n      <td>0.483692</td>\n      <td>0.861103</td>\n      <td>0.388639</td>\n      <td>0.091817</td>\n      <td>0.335505</td>\n      <td>0.000000</td>\n      <td>0.000000</td>\n    </tr>\n    <tr>\n      <th>10515</th>\n      <td>0.425710</td>\n      <td>0.546210</td>\n      <td>0.704866</td>\n      <td>0.953601</td>\n      <td>0.077707</td>\n      <td>0.014778</td>\n      <td>0.505981</td>\n      <td>0.404146</td>\n      <td>0.145124</td>\n      <td>0.153112</td>\n      <td>0.125283</td>\n      <td>0.000000</td>\n      <td>0.000000</td>\n    </tr>\n    <tr>\n      <th>5052</th>\n      <td>0.378446</td>\n      <td>0.545188</td>\n      <td>0.850706</td>\n      <td>0.668948</td>\n      <td>0.133428</td>\n      <td>0.054652</td>\n      <td>0.618012</td>\n      <td>0.301626</td>\n      <td>0.475881</td>\n      <td>0.343569</td>\n      <td>0.410819</td>\n      <td>0.000000</td>\n      <td>0.000000</td>\n    </tr>\n    <tr>\n      <th>10489</th>\n      <td>0.792795</td>\n      <td>0.429687</td>\n      <td>0.991938</td>\n      <td>0.864437</td>\n      <td>0.081194</td>\n      <td>0.014491</td>\n      <td>0.575963</td>\n      <td>0.711521</td>\n      <td>0.411667</td>\n      <td>0.285427</td>\n      <td>0.355384</td>\n      <td>0.000000</td>\n      <td>0.000000</td>\n    </tr>\n    <tr>\n      <th>689</th>\n      <td>0.060883</td>\n      <td>0.766558</td>\n      <td>0.333655</td>\n      <td>0.940140</td>\n      <td>0.079285</td>\n      <td>0.012514</td>\n      <td>0.554907</td>\n      <td>0.885347</td>\n      <td>0.478126</td>\n      <td>0.316784</td>\n      <td>0.412757</td>\n      <td>0.000000</td>\n      <td>0.000000</td>\n    </tr>\n    <tr>\n      <th>...</th>\n      <td>...</td>\n      <td>...</td>\n      <td>...</td>\n      <td>...</td>\n      <td>...</td>\n      <td>...</td>\n      <td>...</td>\n      <td>...</td>\n      <td>...</td>\n      <td>...</td>\n      <td>...</td>\n      <td>...</td>\n      <td>...</td>\n    </tr>\n    <tr>\n      <th>8780</th>\n      <td>0.588984</td>\n      <td>0.466291</td>\n      <td>0.852470</td>\n      <td>0.826223</td>\n      <td>0.098116</td>\n      <td>0.008356</td>\n      <td>0.609784</td>\n      <td>0.963920</td>\n      <td>0.647216</td>\n      <td>0.428598</td>\n      <td>0.558730</td>\n      <td>0.001744</td>\n      <td>0.124304</td>\n    </tr>\n    <tr>\n      <th>2723</th>\n      <td>0.035320</td>\n      <td>0.493219</td>\n      <td>0.565304</td>\n      <td>0.615368</td>\n      <td>0.372120</td>\n      <td>0.017779</td>\n      <td>0.576026</td>\n      <td>0.208981</td>\n      <td>0.689059</td>\n      <td>0.454862</td>\n      <td>0.594852</td>\n      <td>0.000000</td>\n      <td>0.000000</td>\n    </tr>\n    <tr>\n      <th>4901</th>\n      <td>1.000000</td>\n      <td>0.274318</td>\n      <td>0.102068</td>\n      <td>0.950547</td>\n      <td>0.455779</td>\n      <td>0.022701</td>\n      <td>0.377784</td>\n      <td>0.188640</td>\n      <td>0.555543</td>\n      <td>0.359826</td>\n      <td>0.479590</td>\n      <td>0.000000</td>\n      <td>0.000000</td>\n    </tr>\n    <tr>\n      <th>8832</th>\n      <td>0.613778</td>\n      <td>0.827671</td>\n      <td>0.634824</td>\n      <td>0.927662</td>\n      <td>0.046223</td>\n      <td>0.027216</td>\n      <td>0.433369</td>\n      <td>0.659679</td>\n      <td>0.659856</td>\n      <td>0.412524</td>\n      <td>0.569642</td>\n      <td>0.000650</td>\n      <td>0.074257</td>\n    </tr>\n    <tr>\n      <th>5362</th>\n      <td>0.967308</td>\n      <td>0.461719</td>\n      <td>0.645986</td>\n      <td>0.832045</td>\n      <td>0.080609</td>\n      <td>0.020927</td>\n      <td>0.490326</td>\n      <td>0.673751</td>\n      <td>0.462653</td>\n      <td>0.294906</td>\n      <td>0.399400</td>\n      <td>0.001370</td>\n      <td>0.075059</td>\n    </tr>\n  </tbody>\n</table>\n<p>100 rows × 13 columns</p>\n</div>"
     },
     "execution_count": 406,
     "metadata": {},
     "output_type": "execute_result"
    }
   ],
   "source": [
    "X = shuffle(X, random_state=seed)\n",
    "Y = shuffle(Y, random_state=seed)\n",
    "X"
   ]
  },
  {
   "cell_type": "code",
   "execution_count": 407,
   "metadata": {},
   "outputs": [],
   "source": [
    "# X.head()"
   ]
  },
  {
   "cell_type": "code",
   "execution_count": 408,
   "metadata": {
    "scrolled": false
   },
   "outputs": [],
   "source": [
    "# hdbscan_model = hdbscan.HDBSCAN(\n",
    "#     algorithm='best', alpha=1.0, prediction_data=True, approx_min_span_tree=True,\n",
    "#     gen_min_span_tree=False, leaf_size=40, metric='euclidean', min_cluster_size=5,\n",
    "#     min_samples=None, p=None\n",
    "# )"
   ]
  },
  {
   "cell_type": "code",
   "execution_count": 409,
   "metadata": {},
   "outputs": [],
   "source": [
    "def fit(df, algo, flag=0):\n",
    "    # df = df.set_index('track_id')\n",
    "    if flag:\n",
    "        algo.fit(df)\n",
    "    else:\n",
    "        algo.partial_fit(df)\n",
    "    df['label'] = algo.labels_\n",
    "    return (df, algo)"
   ]
  },
  {
   "cell_type": "code",
   "execution_count": 410,
   "metadata": {},
   "outputs": [],
   "source": [
    "def predict(t, Y):\n",
    "    Y = Y.set_index('track_id')\n",
    "    y_pred = hdbscan.approximate_predict(t[1], Y)[0]\n",
    "    mode = pd.Series(y_pred).mode()\n",
    "    return t[0][t[0]['label'] == mode.loc[0]]"
   ]
  },
  {
   "cell_type": "code",
   "execution_count": 411,
   "metadata": {},
   "outputs": [],
   "source": [
    "# Y.head()"
   ]
  },
  {
   "cell_type": "code",
   "execution_count": 412,
   "metadata": {},
   "outputs": [
    {
     "name": "stdout",
     "output_type": "stream",
     "text": [
      "Empty DataFrame\n",
      "Columns: [min_cluster_size, num_of_clusters, mean_probability]\n",
      "Index: []\n"
     ]
    }
   ],
   "source": [
    "# t[0] is the new dataframe with the new row indexes and labels of the belonged cluster\n",
    "# t[1] is the HDBSCAN model after the training\n",
    "\n",
    "cluster_num = pd.DataFrame(columns=['min_cluster_size', \"num_of_clusters\", \"mean_probability\"])\n",
    "print(cluster_num)\n",
    "\n",
    "# for size in range(5, 25):\n",
    "#     hdbscan_model_vary = hdbscan.HDBSCAN(metric='euclidean', min_cluster_size=size, prediction_data=True)\n",
    "#     t = fit(X, hdbscan_model_vary, 1)\n",
    "#\n",
    "#     num_of_label = t[1].labels_.max() + 1\n",
    "#     mean_prob = np.mean(t[1].probabilities_)\n",
    "#\n",
    "#     cluster_num = pd.concat(cluster_num, pd.DataFrame(\n",
    "#         data={'min_cluster_size': size, \"num_of_clusters\": num_of_label, \"mean_probability\": mean_prob}),\n",
    "#                             ignore_index=True)\n",
    "#     # print(np.mean(t[1].probabilities_))\n",
    "#\n",
    "# cluster_num"
   ]
  },
  {
   "cell_type": "code",
   "execution_count": 413,
   "outputs": [],
   "source": [
    "# reset the fitting model for min_cluster_size=5\n",
    "hdbscan_model = hdbscan.HDBSCAN(metric='euclidean', min_cluster_size=3, prediction_data=True)\n",
    "t = fit(X, hdbscan_model, 1)"
   ],
   "metadata": {
    "collapsed": false
   }
  },
  {
   "cell_type": "code",
   "execution_count": 414,
   "outputs": [
    {
     "name": "stdout",
     "output_type": "stream",
     "text": [
      "4\n"
     ]
    }
   ],
   "source": [
    "# show the numbers of clusters in the model\n",
    "print(t[1].labels_.max() + 1)"
   ],
   "metadata": {
    "collapsed": false
   }
  },
  {
   "cell_type": "code",
   "execution_count": 415,
   "outputs": [
    {
     "data": {
      "text/plain": "       acousticness  danceability    energy  instrumentalness  liveness  \\\n2419       1.000000      0.707543  0.196787          0.915624  0.377304   \n10515      0.425710      0.546210  0.704866          0.953601  0.077707   \n5052       0.378446      0.545188  0.850706          0.668948  0.133428   \n10489      0.792795      0.429687  0.991938          0.864437  0.081194   \n689        0.060883      0.766558  0.333655          0.940140  0.079285   \n...             ...           ...       ...               ...       ...   \n8780       0.588984      0.466291  0.852470          0.826223  0.098116   \n2723       0.035320      0.493219  0.565304          0.615368  0.372120   \n4901       1.000000      0.274318  0.102068          0.950547  0.455779   \n8832       0.613778      0.827671  0.634824          0.927662  0.046223   \n5362       0.967308      0.461719  0.645986          0.832045  0.080609   \n\n       speechiness     tempo   valence  artist_discovery  artist_familiarity  \\\n2419      0.020039  0.483692  0.861103          0.388639            0.091817   \n10515     0.014778  0.505981  0.404146          0.145124            0.153112   \n5052      0.054652  0.618012  0.301626          0.475881            0.343569   \n10489     0.014491  0.575963  0.711521          0.411667            0.285427   \n689       0.012514  0.554907  0.885347          0.478126            0.316784   \n...            ...       ...       ...               ...                 ...   \n8780      0.008356  0.609784  0.963920          0.647216            0.428598   \n2723      0.017779  0.576026  0.208981          0.689059            0.454862   \n4901      0.022701  0.377784  0.188640          0.555543            0.359826   \n8832      0.027216  0.433369  0.659679          0.659856            0.412524   \n5362      0.020927  0.490326  0.673751          0.462653            0.294906   \n\n       artist_hotttnesss  song_currency  song_hotttnesss  label  \n2419            0.335505       0.000000         0.000000     -1  \n10515           0.125283       0.000000         0.000000     -1  \n5052            0.410819       0.000000         0.000000      2  \n10489           0.355384       0.000000         0.000000     -1  \n689             0.412757       0.000000         0.000000      3  \n...                  ...            ...              ...    ...  \n8780            0.558730       0.001744         0.124304     -1  \n2723            0.594852       0.000000         0.000000     -1  \n4901            0.479590       0.000000         0.000000     -1  \n8832            0.569642       0.000650         0.074257      2  \n5362            0.399400       0.001370         0.075059      2  \n\n[100 rows x 14 columns]",
      "text/html": "<div>\n<style scoped>\n    .dataframe tbody tr th:only-of-type {\n        vertical-align: middle;\n    }\n\n    .dataframe tbody tr th {\n        vertical-align: top;\n    }\n\n    .dataframe thead th {\n        text-align: right;\n    }\n</style>\n<table border=\"1\" class=\"dataframe\">\n  <thead>\n    <tr style=\"text-align: right;\">\n      <th></th>\n      <th>acousticness</th>\n      <th>danceability</th>\n      <th>energy</th>\n      <th>instrumentalness</th>\n      <th>liveness</th>\n      <th>speechiness</th>\n      <th>tempo</th>\n      <th>valence</th>\n      <th>artist_discovery</th>\n      <th>artist_familiarity</th>\n      <th>artist_hotttnesss</th>\n      <th>song_currency</th>\n      <th>song_hotttnesss</th>\n      <th>label</th>\n    </tr>\n  </thead>\n  <tbody>\n    <tr>\n      <th>2419</th>\n      <td>1.000000</td>\n      <td>0.707543</td>\n      <td>0.196787</td>\n      <td>0.915624</td>\n      <td>0.377304</td>\n      <td>0.020039</td>\n      <td>0.483692</td>\n      <td>0.861103</td>\n      <td>0.388639</td>\n      <td>0.091817</td>\n      <td>0.335505</td>\n      <td>0.000000</td>\n      <td>0.000000</td>\n      <td>-1</td>\n    </tr>\n    <tr>\n      <th>10515</th>\n      <td>0.425710</td>\n      <td>0.546210</td>\n      <td>0.704866</td>\n      <td>0.953601</td>\n      <td>0.077707</td>\n      <td>0.014778</td>\n      <td>0.505981</td>\n      <td>0.404146</td>\n      <td>0.145124</td>\n      <td>0.153112</td>\n      <td>0.125283</td>\n      <td>0.000000</td>\n      <td>0.000000</td>\n      <td>-1</td>\n    </tr>\n    <tr>\n      <th>5052</th>\n      <td>0.378446</td>\n      <td>0.545188</td>\n      <td>0.850706</td>\n      <td>0.668948</td>\n      <td>0.133428</td>\n      <td>0.054652</td>\n      <td>0.618012</td>\n      <td>0.301626</td>\n      <td>0.475881</td>\n      <td>0.343569</td>\n      <td>0.410819</td>\n      <td>0.000000</td>\n      <td>0.000000</td>\n      <td>2</td>\n    </tr>\n    <tr>\n      <th>10489</th>\n      <td>0.792795</td>\n      <td>0.429687</td>\n      <td>0.991938</td>\n      <td>0.864437</td>\n      <td>0.081194</td>\n      <td>0.014491</td>\n      <td>0.575963</td>\n      <td>0.711521</td>\n      <td>0.411667</td>\n      <td>0.285427</td>\n      <td>0.355384</td>\n      <td>0.000000</td>\n      <td>0.000000</td>\n      <td>-1</td>\n    </tr>\n    <tr>\n      <th>689</th>\n      <td>0.060883</td>\n      <td>0.766558</td>\n      <td>0.333655</td>\n      <td>0.940140</td>\n      <td>0.079285</td>\n      <td>0.012514</td>\n      <td>0.554907</td>\n      <td>0.885347</td>\n      <td>0.478126</td>\n      <td>0.316784</td>\n      <td>0.412757</td>\n      <td>0.000000</td>\n      <td>0.000000</td>\n      <td>3</td>\n    </tr>\n    <tr>\n      <th>...</th>\n      <td>...</td>\n      <td>...</td>\n      <td>...</td>\n      <td>...</td>\n      <td>...</td>\n      <td>...</td>\n      <td>...</td>\n      <td>...</td>\n      <td>...</td>\n      <td>...</td>\n      <td>...</td>\n      <td>...</td>\n      <td>...</td>\n      <td>...</td>\n    </tr>\n    <tr>\n      <th>8780</th>\n      <td>0.588984</td>\n      <td>0.466291</td>\n      <td>0.852470</td>\n      <td>0.826223</td>\n      <td>0.098116</td>\n      <td>0.008356</td>\n      <td>0.609784</td>\n      <td>0.963920</td>\n      <td>0.647216</td>\n      <td>0.428598</td>\n      <td>0.558730</td>\n      <td>0.001744</td>\n      <td>0.124304</td>\n      <td>-1</td>\n    </tr>\n    <tr>\n      <th>2723</th>\n      <td>0.035320</td>\n      <td>0.493219</td>\n      <td>0.565304</td>\n      <td>0.615368</td>\n      <td>0.372120</td>\n      <td>0.017779</td>\n      <td>0.576026</td>\n      <td>0.208981</td>\n      <td>0.689059</td>\n      <td>0.454862</td>\n      <td>0.594852</td>\n      <td>0.000000</td>\n      <td>0.000000</td>\n      <td>-1</td>\n    </tr>\n    <tr>\n      <th>4901</th>\n      <td>1.000000</td>\n      <td>0.274318</td>\n      <td>0.102068</td>\n      <td>0.950547</td>\n      <td>0.455779</td>\n      <td>0.022701</td>\n      <td>0.377784</td>\n      <td>0.188640</td>\n      <td>0.555543</td>\n      <td>0.359826</td>\n      <td>0.479590</td>\n      <td>0.000000</td>\n      <td>0.000000</td>\n      <td>-1</td>\n    </tr>\n    <tr>\n      <th>8832</th>\n      <td>0.613778</td>\n      <td>0.827671</td>\n      <td>0.634824</td>\n      <td>0.927662</td>\n      <td>0.046223</td>\n      <td>0.027216</td>\n      <td>0.433369</td>\n      <td>0.659679</td>\n      <td>0.659856</td>\n      <td>0.412524</td>\n      <td>0.569642</td>\n      <td>0.000650</td>\n      <td>0.074257</td>\n      <td>2</td>\n    </tr>\n    <tr>\n      <th>5362</th>\n      <td>0.967308</td>\n      <td>0.461719</td>\n      <td>0.645986</td>\n      <td>0.832045</td>\n      <td>0.080609</td>\n      <td>0.020927</td>\n      <td>0.490326</td>\n      <td>0.673751</td>\n      <td>0.462653</td>\n      <td>0.294906</td>\n      <td>0.399400</td>\n      <td>0.001370</td>\n      <td>0.075059</td>\n      <td>2</td>\n    </tr>\n  </tbody>\n</table>\n<p>100 rows × 14 columns</p>\n</div>"
     },
     "execution_count": 415,
     "metadata": {},
     "output_type": "execute_result"
    }
   ],
   "source": [
    "t[0].head(100)"
   ],
   "metadata": {
    "collapsed": false
   }
  },
  {
   "cell_type": "code",
   "execution_count": 416,
   "outputs": [
    {
     "data": {
      "text/plain": "[Text(0.5, 1.0, 'HDBSCAN Clustering on energy VS tempo')]"
     },
     "execution_count": 416,
     "metadata": {},
     "output_type": "execute_result"
    },
    {
     "data": {
      "text/plain": "<Figure size 640x480 with 1 Axes>",
      "image/png": "[encoded data removed]"
     },
     "metadata": {},
     "output_type": "display_data"
    }
   ],
   "source": [
    "x_label = \"energy\"\n",
    "y_label = \"tempo\"\n",
    "sns.scatterplot(data=t[0], x=x_label, y=y_label, hue='label', marker=\".\", palette=\"deep\").set(\n",
    "    title=\"HDBSCAN Clustering on \" + x_label + \" VS \" + y_label)"
   ],
   "metadata": {
    "collapsed": false
   }
  },
  {
   "cell_type": "code",
   "execution_count": 417,
   "outputs": [
    {
     "data": {
      "text/plain": "[Text(0.5, 1.0, 'HDBSCAN Clustering on liveness VS tempo')]"
     },
     "execution_count": 417,
     "metadata": {},
     "output_type": "execute_result"
    },
    {
     "data": {
      "text/plain": "<Figure size 640x480 with 1 Axes>",
      "image/png": "[encoded data removed]"
     },
     "metadata": {},
     "output_type": "display_data"
    }
   ],
   "source": [
    "x_label = \"liveness\"\n",
    "y_label = \"tempo\"\n",
    "sns.scatterplot(data=t[0], x=x_label, y=y_label, hue='label', marker=\".\", palette=\"deep\").set(\n",
    "    title=\"HDBSCAN Clustering on \" + x_label + \" VS \" + y_label)"
   ],
   "metadata": {
    "collapsed": false
   }
  },
  {
   "cell_type": "code",
   "execution_count": 418,
   "outputs": [
    {
     "data": {
      "text/plain": "[Text(0.5, 1.0, 'HDBSCAN Clustering on liveness VS speechiness')]"
     },
     "execution_count": 418,
     "metadata": {},
     "output_type": "execute_result"
    },
    {
     "data": {
      "text/plain": "<Figure size 640x480 with 1 Axes>",
      "image/png": "[encoded data removed]"
     },
     "metadata": {},
     "output_type": "display_data"
    }
   ],
   "source": [
    "x_label = \"liveness\"\n",
    "y_label = \"speechiness\"\n",
    "sns.scatterplot(data=t[0], x=x_label, y=y_label, hue='label', marker=\".\", palette=\"deep\").set(\n",
    "    title=\"HDBSCAN Clustering on \" + x_label + \" VS \" + y_label)"
   ],
   "metadata": {
    "collapsed": false
   }
  },
  {
   "cell_type": "code",
   "execution_count": 419,
   "metadata": {},
   "outputs": [
    {
     "ename": "KeyError",
     "evalue": "\"None of ['track_id'] are in the columns\"",
     "output_type": "error",
     "traceback": [
      "\u001B[1;31m---------------------------------------------------------------------------\u001B[0m",
      "\u001B[1;31mKeyError\u001B[0m                                  Traceback (most recent call last)",
      "Cell \u001B[1;32mIn [419], line 1\u001B[0m\n\u001B[1;32m----> 1\u001B[0m recommendations \u001B[38;5;241m=\u001B[39m \u001B[43mpredict\u001B[49m\u001B[43m(\u001B[49m\u001B[43mt\u001B[49m\u001B[43m,\u001B[49m\u001B[43m \u001B[49m\u001B[43mY\u001B[49m\u001B[43m)\u001B[49m\n",
      "Cell \u001B[1;32mIn [410], line 2\u001B[0m, in \u001B[0;36mpredict\u001B[1;34m(t, Y)\u001B[0m\n\u001B[0;32m      1\u001B[0m \u001B[38;5;28;01mdef\u001B[39;00m \u001B[38;5;21mpredict\u001B[39m(t, Y):\n\u001B[1;32m----> 2\u001B[0m     Y \u001B[38;5;241m=\u001B[39m \u001B[43mY\u001B[49m\u001B[38;5;241;43m.\u001B[39;49m\u001B[43mset_index\u001B[49m\u001B[43m(\u001B[49m\u001B[38;5;124;43m'\u001B[39;49m\u001B[38;5;124;43mtrack_id\u001B[39;49m\u001B[38;5;124;43m'\u001B[39;49m\u001B[43m)\u001B[49m\n\u001B[0;32m      3\u001B[0m     y_pred \u001B[38;5;241m=\u001B[39m hdbscan\u001B[38;5;241m.\u001B[39mapproximate_predict(t[\u001B[38;5;241m1\u001B[39m], Y)[\u001B[38;5;241m0\u001B[39m]\n\u001B[0;32m      4\u001B[0m     mode \u001B[38;5;241m=\u001B[39m pd\u001B[38;5;241m.\u001B[39mSeries(y_pred)\u001B[38;5;241m.\u001B[39mmode()\n",
      "File \u001B[1;32m~\\anaconda3\\envs\\CIS6020_AI_Project\\lib\\site-packages\\pandas\\util\\_decorators.py:331\u001B[0m, in \u001B[0;36mdeprecate_nonkeyword_arguments.<locals>.decorate.<locals>.wrapper\u001B[1;34m(*args, **kwargs)\u001B[0m\n\u001B[0;32m    325\u001B[0m \u001B[38;5;28;01mif\u001B[39;00m \u001B[38;5;28mlen\u001B[39m(args) \u001B[38;5;241m>\u001B[39m num_allow_args:\n\u001B[0;32m    326\u001B[0m     warnings\u001B[38;5;241m.\u001B[39mwarn(\n\u001B[0;32m    327\u001B[0m         msg\u001B[38;5;241m.\u001B[39mformat(arguments\u001B[38;5;241m=\u001B[39m_format_argument_list(allow_args)),\n\u001B[0;32m    328\u001B[0m         \u001B[38;5;167;01mFutureWarning\u001B[39;00m,\n\u001B[0;32m    329\u001B[0m         stacklevel\u001B[38;5;241m=\u001B[39mfind_stack_level(),\n\u001B[0;32m    330\u001B[0m     )\n\u001B[1;32m--> 331\u001B[0m \u001B[38;5;28;01mreturn\u001B[39;00m func(\u001B[38;5;241m*\u001B[39margs, \u001B[38;5;241m*\u001B[39m\u001B[38;5;241m*\u001B[39mkwargs)\n",
      "File \u001B[1;32m~\\anaconda3\\envs\\CIS6020_AI_Project\\lib\\site-packages\\pandas\\core\\frame.py:6001\u001B[0m, in \u001B[0;36mDataFrame.set_index\u001B[1;34m(self, keys, drop, append, inplace, verify_integrity)\u001B[0m\n\u001B[0;32m   5998\u001B[0m                 missing\u001B[38;5;241m.\u001B[39mappend(col)\n\u001B[0;32m   6000\u001B[0m \u001B[38;5;28;01mif\u001B[39;00m missing:\n\u001B[1;32m-> 6001\u001B[0m     \u001B[38;5;28;01mraise\u001B[39;00m \u001B[38;5;167;01mKeyError\u001B[39;00m(\u001B[38;5;124mf\u001B[39m\u001B[38;5;124m\"\u001B[39m\u001B[38;5;124mNone of \u001B[39m\u001B[38;5;132;01m{\u001B[39;00mmissing\u001B[38;5;132;01m}\u001B[39;00m\u001B[38;5;124m are in the columns\u001B[39m\u001B[38;5;124m\"\u001B[39m)\n\u001B[0;32m   6003\u001B[0m \u001B[38;5;28;01mif\u001B[39;00m inplace:\n\u001B[0;32m   6004\u001B[0m     frame \u001B[38;5;241m=\u001B[39m \u001B[38;5;28mself\u001B[39m\n",
      "\u001B[1;31mKeyError\u001B[0m: \"None of ['track_id'] are in the columns\""
     ]
    }
   ],
   "source": [
    "recommendations = predict(t, Y)"
   ]
  },
  {
   "cell_type": "code",
   "execution_count": null,
   "metadata": {},
   "outputs": [],
   "source": [
    "recommendations.info()"
   ]
  },
  {
   "cell_type": "code",
   "execution_count": null,
   "metadata": {},
   "outputs": [],
   "source": [
    "recommendations.head()"
   ]
  },
  {
   "cell_type": "code",
   "execution_count": null,
   "metadata": {},
   "outputs": [],
   "source": [
    "metadata.info()"
   ]
  },
  {
   "cell_type": "code",
   "execution_count": null,
   "metadata": {},
   "outputs": [],
   "source": [
    "metadata = metadata.set_index('track_id')"
   ]
  },
  {
   "cell_type": "code",
   "execution_count": null,
   "metadata": {},
   "outputs": [],
   "source": [
    "Y.head()"
   ]
  },
  {
   "cell_type": "code",
   "execution_count": null,
   "metadata": {},
   "outputs": [],
   "source": [
    "Y.info()"
   ]
  },
  {
   "cell_type": "code",
   "execution_count": null,
   "metadata": {},
   "outputs": [],
   "source": [
    "#Y = Y.reset_index(level=0)"
   ]
  },
  {
   "cell_type": "code",
   "execution_count": null,
   "metadata": {},
   "outputs": [],
   "source": [
    "#recommendations = recommendations.reset_index(level=0)"
   ]
  },
  {
   "cell_type": "code",
   "execution_count": null,
   "metadata": {},
   "outputs": [],
   "source": [
    "def recommend(recommendations, meta, Y):\n",
    "    recommendations = recommendations.reset_index(level=0)\n",
    "    Y = Y.reset_index(level=0)\n",
    "    dat = []\n",
    "    for i in Y['track_id']:\n",
    "        dat.append(i)\n",
    "    genre_mode = meta.loc[dat]['genre'].mode()\n",
    "    artist_mode = meta.loc[dat]['artist_name'].mode()\n",
    "    return meta[meta['genre'] == genre_mode.iloc[0]], meta[meta['artist_name'] == artist_mode.iloc[0]], meta.loc[\n",
    "        recommendations['track_id']]"
   ]
  },
  {
   "cell_type": "code",
   "execution_count": null,
   "metadata": {},
   "outputs": [],
   "source": [
    "output = recommend(recommendations, metadata, Y)"
   ]
  },
  {
   "cell_type": "code",
   "execution_count": null,
   "metadata": {},
   "outputs": [],
   "source": [
    "genre_recommend, artist_name_recommend, mixed_recommend = output[0], output[1], output[2]"
   ]
  },
  {
   "cell_type": "code",
   "execution_count": null,
   "metadata": {},
   "outputs": [],
   "source": [
    "genre_recommend.shape"
   ]
  },
  {
   "cell_type": "code",
   "execution_count": null,
   "metadata": {},
   "outputs": [],
   "source": [
    "artist_name_recommend.shape"
   ]
  },
  {
   "cell_type": "code",
   "execution_count": null,
   "metadata": {},
   "outputs": [],
   "source": [
    "mixed_recommend.shape"
   ]
  },
  {
   "cell_type": "code",
   "execution_count": null,
   "metadata": {},
   "outputs": [],
   "source": [
    "# Genre wise recommendations\n",
    "genre_recommend.head()"
   ]
  },
  {
   "cell_type": "code",
   "execution_count": null,
   "metadata": {
    "scrolled": true
   },
   "outputs": [],
   "source": [
    "# Artist wise recommendations\n",
    "artist_name_recommend.head()"
   ]
  },
  {
   "cell_type": "code",
   "execution_count": null,
   "metadata": {},
   "outputs": [],
   "source": [
    "# Mixed Recommendations\n",
    "mixed_recommend.head()"
   ]
  },
  {
   "cell_type": "code",
   "execution_count": null,
   "metadata": {},
   "outputs": [],
   "source": [
    "recommendations"
   ]
  },
  {
   "cell_type": "code",
   "execution_count": null,
   "metadata": {},
   "outputs": [],
   "source": [
    "artist_name_recommend['artist_name'].value_counts()"
   ]
  },
  {
   "cell_type": "code",
   "execution_count": null,
   "metadata": {},
   "outputs": [],
   "source": [
    "genre_recommend['genre'].value_counts()"
   ]
  },
  {
   "cell_type": "code",
   "execution_count": null,
   "metadata": {},
   "outputs": [],
   "source": [
    "genre_recommend['artist_name'].value_counts()"
   ]
  },
  {
   "cell_type": "markdown",
   "metadata": {},
   "source": [
    "#### Testing"
   ]
  },
  {
   "cell_type": "code",
   "execution_count": null,
   "metadata": {},
   "outputs": [],
   "source": [
    "testing = Y.iloc[6:12]['track_id']"
   ]
  },
  {
   "cell_type": "code",
   "execution_count": null,
   "metadata": {},
   "outputs": [],
   "source": [
    "testing"
   ]
  },
  {
   "cell_type": "code",
   "execution_count": null,
   "metadata": {},
   "outputs": [],
   "source": [
    "ids = testing.loc[testing.index]"
   ]
  },
  {
   "cell_type": "code",
   "execution_count": null,
   "metadata": {},
   "outputs": [],
   "source": [
    "songs = metadata.loc[testing.loc[list(testing.index)]]"
   ]
  },
  {
   "cell_type": "code",
   "execution_count": null,
   "metadata": {},
   "outputs": [],
   "source": [
    "songs"
   ]
  },
  {
   "cell_type": "code",
   "execution_count": null,
   "metadata": {},
   "outputs": [],
   "source": [
    "re = predict(t, Y.iloc[6:12])"
   ]
  },
  {
   "cell_type": "code",
   "execution_count": null,
   "metadata": {},
   "outputs": [],
   "source": [
    "output = recommend(re, metadata, Y.iloc[6:12])"
   ]
  },
  {
   "cell_type": "code",
   "execution_count": null,
   "metadata": {},
   "outputs": [],
   "source": [
    "ge_re, ge_ar, ge_mix = output[0], output[1], output[2]"
   ]
  },
  {
   "cell_type": "code",
   "execution_count": null,
   "metadata": {},
   "outputs": [],
   "source": [
    "ge_re.head()"
   ]
  },
  {
   "cell_type": "code",
   "execution_count": null,
   "metadata": {},
   "outputs": [],
   "source": [
    "ge_ar.head(10)"
   ]
  },
  {
   "cell_type": "code",
   "execution_count": null,
   "metadata": {},
   "outputs": [],
   "source": [
    "ge_mix.head(10)"
   ]
  },
  {
   "cell_type": "code",
   "execution_count": null,
   "metadata": {},
   "outputs": [],
   "source": [
    "ge_re.shape"
   ]
  },
  {
   "cell_type": "code",
   "execution_count": null,
   "metadata": {},
   "outputs": [],
   "source": [
    "ge_ar.shape"
   ]
  },
  {
   "cell_type": "code",
   "execution_count": null,
   "metadata": {},
   "outputs": [],
   "source": [
    "ge_mix.shape"
   ]
  }
 ],
 "metadata": {
  "kernelspec": {
   "display_name": "Python 3 (ipykernel)",
   "language": "python",
   "name": "python3"
  },
  "language_info": {
   "codemirror_mode": {
    "name": "ipython",
    "version": 3
   },
   "file_extension": ".py",
   "mimetype": "text/x-python",
   "name": "python",
   "nbconvert_exporter": "python",
   "pygments_lexer": "ipython3",
   "version": "3.9.10"
  }
 },
 "nbformat": 4,
 "nbformat_minor": 2
}
