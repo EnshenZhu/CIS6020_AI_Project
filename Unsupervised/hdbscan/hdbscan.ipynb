{
 "cells": [
  {
   "cell_type": "code",
   "execution_count": 20,
   "metadata": {
    "colab": {
     "base_uri": "https://localhost:8080/"
    },
    "id": "R89fGpC3Ri6D",
    "outputId": "376a6c64-4a85-4855-f904-212d567a9c80"
   },
   "outputs": [],
   "source": [
    "import pandas as pd\n",
    "from joblib import Memory\n",
    "import hdbscan"
   ]
  },
  {
   "cell_type": "code",
   "execution_count": 21,
   "metadata": {},
   "outputs": [
    {
     "data": {
      "text/plain": "                acousticness  danceability    energy  instrumentalness  \\\n      track_id                                                           \n0     2             0.416675      0.675894  0.634476          0.010628   \n1     3             0.374408      0.528643  0.817461          0.001851   \n2     5             0.043567      0.745566  0.701470          0.000697   \n3     10            0.951670      0.658179  0.924525          0.965427   \n4     134           0.452217      0.513238  0.560410          0.019443   \n...                      ...           ...       ...               ...   \n13124 124857        0.007592      0.790364  0.719288          0.853114   \n13125 124862        0.041498      0.843077  0.536496          0.865151   \n13126 124863        0.000124      0.609686  0.895136          0.846624   \n13127 124864        0.327576      0.574426  0.548327          0.452867   \n13128 124911        0.993606      0.499339  0.050622          0.945677   \n\n                liveness  speechiness    tempo   valence  artist_discovery  \\\n      track_id                                                               \n0     2         0.177647     0.159310  165.922  0.576661          0.388990   \n1     3         0.105880     0.461818  126.957  0.269240          0.388990   \n2     5         0.373143     0.124595  100.260  0.621661          0.388990   \n3     10        0.115474     0.032985  111.562  0.963590          0.557339   \n4     134       0.096567     0.525519  114.290  0.894072          0.388990   \n...                  ...          ...      ...       ...               ...   \n13124 124857    0.720715     0.082550  141.332  0.890461          0.430808   \n13125 124862    0.547949     0.074001  101.975  0.476845          0.430808   \n13126 124863    0.632903     0.051517  129.996  0.496667          0.430808   \n13127 124864    0.075928     0.033388  142.009  0.569274          0.430808   \n13128 124911    0.095965     0.065189  119.965  0.204652          0.450229   \n\n                artist_familiarity  ...  Holiday  Salsa  NuJazz  HipHop Beats  \\\n      track_id                      ...                                         \n0     2                   0.386740  ...      0.0    0.0     0.0           0.0   \n1     3                   0.386740  ...      0.0    0.0     0.0           0.0   \n2     5                   0.386740  ...      0.0    0.0     0.0           0.0   \n3     10                  0.614272  ...      0.0    0.0     0.0           0.0   \n4     134                 0.386740  ...      0.0    0.0     0.0           0.0   \n...                            ...  ...      ...    ...     ...           ...   \n13124 124857              0.456871  ...      0.0    0.0     0.0           0.0   \n13125 124862              0.456871  ...      0.0    0.0     0.0           0.0   \n13126 124863              0.456871  ...      0.0    0.0     0.0           0.0   \n13127 124864              0.456871  ...      0.0    0.0     0.0           0.0   \n13128 124911              0.274787  ...      0.0    0.0     0.0           0.0   \n\n                Modern Jazz  Turkish  Tango  Fado  Christmas  Instrumental  \n      track_id                                                              \n0     2                 0.0      0.0    0.0   0.0        0.0           0.0  \n1     3                 0.0      0.0    0.0   0.0        0.0           0.0  \n2     5                 0.0      0.0    0.0   0.0        0.0           0.0  \n3     10                0.0      0.0    0.0   0.0        0.0           0.0  \n4     134               0.0      0.0    0.0   0.0        0.0           0.0  \n...                     ...      ...    ...   ...        ...           ...  \n13124 124857            0.0      0.0    0.0   0.0        0.0           0.0  \n13125 124862            0.0      0.0    0.0   0.0        0.0           0.0  \n13126 124863            0.0      0.0    0.0   0.0        0.0           0.0  \n13127 124864            0.0      0.0    0.0   0.0        0.0           0.0  \n13128 124911            0.0      0.0    0.0   0.0        0.0           0.0  \n\n[13129 rows x 928 columns]",
      "text/html": "<div>\n<style scoped>\n    .dataframe tbody tr th:only-of-type {\n        vertical-align: middle;\n    }\n\n    .dataframe tbody tr th {\n        vertical-align: top;\n    }\n\n    .dataframe thead th {\n        text-align: right;\n    }\n</style>\n<table border=\"1\" class=\"dataframe\">\n  <thead>\n    <tr style=\"text-align: right;\">\n      <th></th>\n      <th></th>\n      <th>acousticness</th>\n      <th>danceability</th>\n      <th>energy</th>\n      <th>instrumentalness</th>\n      <th>liveness</th>\n      <th>speechiness</th>\n      <th>tempo</th>\n      <th>valence</th>\n      <th>artist_discovery</th>\n      <th>artist_familiarity</th>\n      <th>...</th>\n      <th>Holiday</th>\n      <th>Salsa</th>\n      <th>NuJazz</th>\n      <th>HipHop Beats</th>\n      <th>Modern Jazz</th>\n      <th>Turkish</th>\n      <th>Tango</th>\n      <th>Fado</th>\n      <th>Christmas</th>\n      <th>Instrumental</th>\n    </tr>\n    <tr>\n      <th></th>\n      <th>track_id</th>\n      <th></th>\n      <th></th>\n      <th></th>\n      <th></th>\n      <th></th>\n      <th></th>\n      <th></th>\n      <th></th>\n      <th></th>\n      <th></th>\n      <th></th>\n      <th></th>\n      <th></th>\n      <th></th>\n      <th></th>\n      <th></th>\n      <th></th>\n      <th></th>\n      <th></th>\n      <th></th>\n      <th></th>\n    </tr>\n  </thead>\n  <tbody>\n    <tr>\n      <th>0</th>\n      <th>2</th>\n      <td>0.416675</td>\n      <td>0.675894</td>\n      <td>0.634476</td>\n      <td>0.010628</td>\n      <td>0.177647</td>\n      <td>0.159310</td>\n      <td>165.922</td>\n      <td>0.576661</td>\n      <td>0.388990</td>\n      <td>0.386740</td>\n      <td>...</td>\n      <td>0.0</td>\n      <td>0.0</td>\n      <td>0.0</td>\n      <td>0.0</td>\n      <td>0.0</td>\n      <td>0.0</td>\n      <td>0.0</td>\n      <td>0.0</td>\n      <td>0.0</td>\n      <td>0.0</td>\n    </tr>\n    <tr>\n      <th>1</th>\n      <th>3</th>\n      <td>0.374408</td>\n      <td>0.528643</td>\n      <td>0.817461</td>\n      <td>0.001851</td>\n      <td>0.105880</td>\n      <td>0.461818</td>\n      <td>126.957</td>\n      <td>0.269240</td>\n      <td>0.388990</td>\n      <td>0.386740</td>\n      <td>...</td>\n      <td>0.0</td>\n      <td>0.0</td>\n      <td>0.0</td>\n      <td>0.0</td>\n      <td>0.0</td>\n      <td>0.0</td>\n      <td>0.0</td>\n      <td>0.0</td>\n      <td>0.0</td>\n      <td>0.0</td>\n    </tr>\n    <tr>\n      <th>2</th>\n      <th>5</th>\n      <td>0.043567</td>\n      <td>0.745566</td>\n      <td>0.701470</td>\n      <td>0.000697</td>\n      <td>0.373143</td>\n      <td>0.124595</td>\n      <td>100.260</td>\n      <td>0.621661</td>\n      <td>0.388990</td>\n      <td>0.386740</td>\n      <td>...</td>\n      <td>0.0</td>\n      <td>0.0</td>\n      <td>0.0</td>\n      <td>0.0</td>\n      <td>0.0</td>\n      <td>0.0</td>\n      <td>0.0</td>\n      <td>0.0</td>\n      <td>0.0</td>\n      <td>0.0</td>\n    </tr>\n    <tr>\n      <th>3</th>\n      <th>10</th>\n      <td>0.951670</td>\n      <td>0.658179</td>\n      <td>0.924525</td>\n      <td>0.965427</td>\n      <td>0.115474</td>\n      <td>0.032985</td>\n      <td>111.562</td>\n      <td>0.963590</td>\n      <td>0.557339</td>\n      <td>0.614272</td>\n      <td>...</td>\n      <td>0.0</td>\n      <td>0.0</td>\n      <td>0.0</td>\n      <td>0.0</td>\n      <td>0.0</td>\n      <td>0.0</td>\n      <td>0.0</td>\n      <td>0.0</td>\n      <td>0.0</td>\n      <td>0.0</td>\n    </tr>\n    <tr>\n      <th>4</th>\n      <th>134</th>\n      <td>0.452217</td>\n      <td>0.513238</td>\n      <td>0.560410</td>\n      <td>0.019443</td>\n      <td>0.096567</td>\n      <td>0.525519</td>\n      <td>114.290</td>\n      <td>0.894072</td>\n      <td>0.388990</td>\n      <td>0.386740</td>\n      <td>...</td>\n      <td>0.0</td>\n      <td>0.0</td>\n      <td>0.0</td>\n      <td>0.0</td>\n      <td>0.0</td>\n      <td>0.0</td>\n      <td>0.0</td>\n      <td>0.0</td>\n      <td>0.0</td>\n      <td>0.0</td>\n    </tr>\n    <tr>\n      <th>...</th>\n      <th>...</th>\n      <td>...</td>\n      <td>...</td>\n      <td>...</td>\n      <td>...</td>\n      <td>...</td>\n      <td>...</td>\n      <td>...</td>\n      <td>...</td>\n      <td>...</td>\n      <td>...</td>\n      <td>...</td>\n      <td>...</td>\n      <td>...</td>\n      <td>...</td>\n      <td>...</td>\n      <td>...</td>\n      <td>...</td>\n      <td>...</td>\n      <td>...</td>\n      <td>...</td>\n      <td>...</td>\n    </tr>\n    <tr>\n      <th>13124</th>\n      <th>124857</th>\n      <td>0.007592</td>\n      <td>0.790364</td>\n      <td>0.719288</td>\n      <td>0.853114</td>\n      <td>0.720715</td>\n      <td>0.082550</td>\n      <td>141.332</td>\n      <td>0.890461</td>\n      <td>0.430808</td>\n      <td>0.456871</td>\n      <td>...</td>\n      <td>0.0</td>\n      <td>0.0</td>\n      <td>0.0</td>\n      <td>0.0</td>\n      <td>0.0</td>\n      <td>0.0</td>\n      <td>0.0</td>\n      <td>0.0</td>\n      <td>0.0</td>\n      <td>0.0</td>\n    </tr>\n    <tr>\n      <th>13125</th>\n      <th>124862</th>\n      <td>0.041498</td>\n      <td>0.843077</td>\n      <td>0.536496</td>\n      <td>0.865151</td>\n      <td>0.547949</td>\n      <td>0.074001</td>\n      <td>101.975</td>\n      <td>0.476845</td>\n      <td>0.430808</td>\n      <td>0.456871</td>\n      <td>...</td>\n      <td>0.0</td>\n      <td>0.0</td>\n      <td>0.0</td>\n      <td>0.0</td>\n      <td>0.0</td>\n      <td>0.0</td>\n      <td>0.0</td>\n      <td>0.0</td>\n      <td>0.0</td>\n      <td>0.0</td>\n    </tr>\n    <tr>\n      <th>13126</th>\n      <th>124863</th>\n      <td>0.000124</td>\n      <td>0.609686</td>\n      <td>0.895136</td>\n      <td>0.846624</td>\n      <td>0.632903</td>\n      <td>0.051517</td>\n      <td>129.996</td>\n      <td>0.496667</td>\n      <td>0.430808</td>\n      <td>0.456871</td>\n      <td>...</td>\n      <td>0.0</td>\n      <td>0.0</td>\n      <td>0.0</td>\n      <td>0.0</td>\n      <td>0.0</td>\n      <td>0.0</td>\n      <td>0.0</td>\n      <td>0.0</td>\n      <td>0.0</td>\n      <td>0.0</td>\n    </tr>\n    <tr>\n      <th>13127</th>\n      <th>124864</th>\n      <td>0.327576</td>\n      <td>0.574426</td>\n      <td>0.548327</td>\n      <td>0.452867</td>\n      <td>0.075928</td>\n      <td>0.033388</td>\n      <td>142.009</td>\n      <td>0.569274</td>\n      <td>0.430808</td>\n      <td>0.456871</td>\n      <td>...</td>\n      <td>0.0</td>\n      <td>0.0</td>\n      <td>0.0</td>\n      <td>0.0</td>\n      <td>0.0</td>\n      <td>0.0</td>\n      <td>0.0</td>\n      <td>0.0</td>\n      <td>0.0</td>\n      <td>0.0</td>\n    </tr>\n    <tr>\n      <th>13128</th>\n      <th>124911</th>\n      <td>0.993606</td>\n      <td>0.499339</td>\n      <td>0.050622</td>\n      <td>0.945677</td>\n      <td>0.095965</td>\n      <td>0.065189</td>\n      <td>119.965</td>\n      <td>0.204652</td>\n      <td>0.450229</td>\n      <td>0.274787</td>\n      <td>...</td>\n      <td>0.0</td>\n      <td>0.0</td>\n      <td>0.0</td>\n      <td>0.0</td>\n      <td>0.0</td>\n      <td>0.0</td>\n      <td>0.0</td>\n      <td>0.0</td>\n      <td>0.0</td>\n      <td>0.0</td>\n    </tr>\n  </tbody>\n</table>\n<p>13129 rows × 928 columns</p>\n</div>"
     },
     "execution_count": 21,
     "metadata": {},
     "output_type": "execute_result"
    }
   ],
   "source": [
    "df = pd.read_csv(r\"../../assets/final.csv\", index_col=[0, \"track_id\"])\n",
    "df"
   ]
  },
  {
   "cell_type": "code",
   "execution_count": 22,
   "metadata": {},
   "outputs": [
    {
     "data": {
      "text/plain": "(13129, 928)"
     },
     "execution_count": 22,
     "metadata": {},
     "output_type": "execute_result"
    }
   ],
   "source": [
    "df.shape"
   ]
  },
  {
   "cell_type": "code",
   "execution_count": 23,
   "metadata": {},
   "outputs": [
    {
     "data": {
      "text/plain": "HDBSCAN(min_cluster_size=50)",
      "text/html": "<style>#sk-container-id-3 {color: black;background-color: white;}#sk-container-id-3 pre{padding: 0;}#sk-container-id-3 div.sk-toggleable {background-color: white;}#sk-container-id-3 label.sk-toggleable__label {cursor: pointer;display: block;width: 100%;margin-bottom: 0;padding: 0.3em;box-sizing: border-box;text-align: center;}#sk-container-id-3 label.sk-toggleable__label-arrow:before {content: \"▸\";float: left;margin-right: 0.25em;color: #696969;}#sk-container-id-3 label.sk-toggleable__label-arrow:hover:before {color: black;}#sk-container-id-3 div.sk-estimator:hover label.sk-toggleable__label-arrow:before {color: black;}#sk-container-id-3 div.sk-toggleable__content {max-height: 0;max-width: 0;overflow: hidden;text-align: left;background-color: #f0f8ff;}#sk-container-id-3 div.sk-toggleable__content pre {margin: 0.2em;color: black;border-radius: 0.25em;background-color: #f0f8ff;}#sk-container-id-3 input.sk-toggleable__control:checked~div.sk-toggleable__content {max-height: 200px;max-width: 100%;overflow: auto;}#sk-container-id-3 input.sk-toggleable__control:checked~label.sk-toggleable__label-arrow:before {content: \"▾\";}#sk-container-id-3 div.sk-estimator input.sk-toggleable__control:checked~label.sk-toggleable__label {background-color: #d4ebff;}#sk-container-id-3 div.sk-label input.sk-toggleable__control:checked~label.sk-toggleable__label {background-color: #d4ebff;}#sk-container-id-3 input.sk-hidden--visually {border: 0;clip: rect(1px 1px 1px 1px);clip: rect(1px, 1px, 1px, 1px);height: 1px;margin: -1px;overflow: hidden;padding: 0;position: absolute;width: 1px;}#sk-container-id-3 div.sk-estimator {font-family: monospace;background-color: #f0f8ff;border: 1px dotted black;border-radius: 0.25em;box-sizing: border-box;margin-bottom: 0.5em;}#sk-container-id-3 div.sk-estimator:hover {background-color: #d4ebff;}#sk-container-id-3 div.sk-parallel-item::after {content: \"\";width: 100%;border-bottom: 1px solid gray;flex-grow: 1;}#sk-container-id-3 div.sk-label:hover label.sk-toggleable__label {background-color: #d4ebff;}#sk-container-id-3 div.sk-serial::before {content: \"\";position: absolute;border-left: 1px solid gray;box-sizing: border-box;top: 0;bottom: 0;left: 50%;z-index: 0;}#sk-container-id-3 div.sk-serial {display: flex;flex-direction: column;align-items: center;background-color: white;padding-right: 0.2em;padding-left: 0.2em;position: relative;}#sk-container-id-3 div.sk-item {position: relative;z-index: 1;}#sk-container-id-3 div.sk-parallel {display: flex;align-items: stretch;justify-content: center;background-color: white;position: relative;}#sk-container-id-3 div.sk-item::before, #sk-container-id-3 div.sk-parallel-item::before {content: \"\";position: absolute;border-left: 1px solid gray;box-sizing: border-box;top: 0;bottom: 0;left: 50%;z-index: -1;}#sk-container-id-3 div.sk-parallel-item {display: flex;flex-direction: column;z-index: 1;position: relative;background-color: white;}#sk-container-id-3 div.sk-parallel-item:first-child::after {align-self: flex-end;width: 50%;}#sk-container-id-3 div.sk-parallel-item:last-child::after {align-self: flex-start;width: 50%;}#sk-container-id-3 div.sk-parallel-item:only-child::after {width: 0;}#sk-container-id-3 div.sk-dashed-wrapped {border: 1px dashed gray;margin: 0 0.4em 0.5em 0.4em;box-sizing: border-box;padding-bottom: 0.4em;background-color: white;}#sk-container-id-3 div.sk-label label {font-family: monospace;font-weight: bold;display: inline-block;line-height: 1.2em;}#sk-container-id-3 div.sk-label-container {text-align: center;}#sk-container-id-3 div.sk-container {/* jupyter's `normalize.less` sets `[hidden] { display: none; }` but bootstrap.min.css set `[hidden] { display: none !important; }` so we also need the `!important` here to be able to override the default hidden behavior on the sphinx rendered scikit-learn.org. See: https://github.com/scikit-learn/scikit-learn/issues/21755 */display: inline-block !important;position: relative;}#sk-container-id-3 div.sk-text-repr-fallback {display: none;}</style><div id=\"sk-container-id-3\" class=\"sk-top-container\"><div class=\"sk-text-repr-fallback\"><pre>HDBSCAN(min_cluster_size=50)</pre><b>In a Jupyter environment, please rerun this cell to show the HTML representation or trust the notebook. <br />On GitHub, the HTML representation is unable to render, please try loading this page with nbviewer.org.</b></div><div class=\"sk-container\" hidden><div class=\"sk-item\"><div class=\"sk-estimator sk-toggleable\"><input class=\"sk-toggleable__control sk-hidden--visually\" id=\"sk-estimator-id-3\" type=\"checkbox\" checked><label for=\"sk-estimator-id-3\" class=\"sk-toggleable__label sk-toggleable__label-arrow\">HDBSCAN</label><div class=\"sk-toggleable__content\"><pre>HDBSCAN(min_cluster_size=50)</pre></div></div></div></div></div>"
     },
     "execution_count": 23,
     "metadata": {},
     "output_type": "execute_result"
    }
   ],
   "source": [
    "cluster_model = hdbscan.HDBSCAN(algorithm='best', alpha=1.0, approx_min_span_tree=True,\n",
    "                                gen_min_span_tree=False, leaf_size=40, metric='euclidean', min_cluster_size=50,\n",
    "                                min_samples=None, p=None)\n",
    "cluster_model.fit(df)"
   ]
  },
  {
   "cell_type": "code",
   "execution_count": 24,
   "outputs": [
    {
     "data": {
      "text/plain": "array([6, 6, 6, ..., 3, 3, 3], dtype=int64)"
     },
     "execution_count": 24,
     "metadata": {},
     "output_type": "execute_result"
    }
   ],
   "source": [
    "cluster_model.labels_"
   ],
   "metadata": {
    "collapsed": false
   }
  },
  {
   "cell_type": "code",
   "execution_count": 25,
   "outputs": [
    {
     "data": {
      "text/plain": "7"
     },
     "execution_count": 25,
     "metadata": {},
     "output_type": "execute_result"
    }
   ],
   "source": [
    "cluster_model.labels_.max()"
   ],
   "metadata": {
    "collapsed": false
   }
  },
  {
   "cell_type": "code",
   "execution_count": 25,
   "outputs": [],
   "source": [],
   "metadata": {
    "collapsed": false
   }
  }
 ],
 "metadata": {
  "colab": {
   "authorship_tag": "ABX9TyOzO6+ITxqOwK3t7OMnWFv4",
   "include_colab_link": true,
   "provenance": []
  },
  "kernelspec": {
   "display_name": "Python 3 (ipykernel)",
   "language": "python",
   "name": "python3"
  },
  "language_info": {
   "codemirror_mode": {
    "name": "ipython",
    "version": 3
   },
   "file_extension": ".py",
   "mimetype": "text/x-python",
   "name": "python",
   "nbconvert_exporter": "python",
   "pygments_lexer": "ipython3",
   "version": "3.10.8"
  }
 },
 "nbformat": 4,
 "nbformat_minor": 1
}
