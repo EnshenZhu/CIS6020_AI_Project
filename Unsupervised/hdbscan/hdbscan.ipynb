{
 "cells": [
  {
   "cell_type": "markdown",
   "metadata": {},
   "source": [
    "### Obtaining Data"
   ]
  },
  {
   "cell_type": "code",
   "execution_count": 232,
   "metadata": {},
   "outputs": [],
   "source": [
    "import pandas as pd\n",
    "import numpy as np"
   ]
  },
  {
   "cell_type": "code",
   "execution_count": 233,
   "metadata": {},
   "outputs": [],
   "source": [
    "final = pd.read_csv(r'../../assets/final.csv')\n",
    "metadata = pd.read_csv(r'../../assets/metadata.csv')\n",
    "\n",
    "final = final.drop(final.columns[0], axis=\"columns\")  # drop the first column of the index\n"
   ]
  },
  {
   "cell_type": "code",
   "execution_count": 234,
   "metadata": {},
   "outputs": [],
   "source": [
    "# final.info()"
   ]
  },
  {
   "cell_type": "code",
   "execution_count": 235,
   "metadata": {},
   "outputs": [],
   "source": [
    "# final.head(3)"
   ]
  },
  {
   "cell_type": "code",
   "execution_count": 236,
   "metadata": {},
   "outputs": [],
   "source": [
    "# metadata.info()"
   ]
  },
  {
   "cell_type": "code",
   "execution_count": 237,
   "metadata": {},
   "outputs": [],
   "source": [
    "# metadata.head()"
   ]
  },
  {
   "cell_type": "markdown",
   "metadata": {},
   "source": [
    "### Model Selection - K Means Algorithm"
   ]
  },
  {
   "cell_type": "code",
   "execution_count": 238,
   "metadata": {},
   "outputs": [],
   "source": [
    "from sklearn.utils import shuffle\n",
    "import hdbscan"
   ]
  },
  {
   "cell_type": "code",
   "execution_count": 239,
   "metadata": {},
   "outputs": [],
   "source": [
    "final = shuffle(final, random_state=100)"
   ]
  },
  {
   "cell_type": "code",
   "execution_count": 240,
   "metadata": {},
   "outputs": [],
   "source": [
    "num_enlisted = 2000  # how many songs are enlisted in the user's playlist\n",
    "\n",
    "# X is the audience's playlist  Recall: iloc is integer position-based\n",
    "X = final.iloc[[i for i in range(0, num_enlisted)]]\n",
    "\n",
    "# Y is the music reservoir which are going to be used for the recommendations\n",
    "Y = final.iloc[[i for i in range(num_enlisted, final.shape[0])]]"
   ]
  },
  {
   "cell_type": "code",
   "execution_count": 241,
   "metadata": {},
   "outputs": [
    {
     "data": {
      "text/plain": "       track_id  acousticness  danceability    energy  instrumentalness  \\\n3049      12291      0.008797      0.779822  0.384926      5.665748e-01   \n11180     57808      0.023627      0.339632  0.880221      2.400000e-09   \n5396      21234      0.078061      0.679032  0.839800      2.232774e-01   \n11591     69258      0.390283      0.448094  0.847303      1.910427e-01   \n12249     95910      0.137264      0.709408  0.935570      1.880000e-08   \n...         ...           ...           ...       ...               ...   \n7320      31753      0.993398      0.572985  0.473439      8.171597e-01   \n12792    115385      0.095215      0.863822  0.804424      8.498397e-01   \n12865    117517      0.004280      0.558904  0.746316      7.734163e-02   \n8158      35546      0.242228      0.777979  0.229853      8.089146e-01   \n1402       4216      0.897977      0.219404  0.822987      8.458521e-01   \n\n       liveness  speechiness    tempo   valence  artist_discovery  \\\n3049   0.289584     0.070378   94.945  0.551748          0.449009   \n11180  0.321886     0.045908  143.630  0.405866          0.324605   \n5396   0.136008     0.046528  125.020  0.909851          0.135619   \n11591  0.108648     0.047836  143.663  0.871847          0.460173   \n12249  0.083439     0.259614  136.306  0.121195          0.365677   \n...         ...          ...      ...       ...               ...   \n7320   0.100901     0.038754   84.044  0.355889          0.165592   \n12792  0.131887     0.040032  112.455  0.903950          0.366985   \n12865  0.082892     0.032707  117.995  0.295729          0.434409   \n8158   0.054251     0.034881   95.999  0.838002          0.355983   \n1402   0.079953     0.079527  179.384  0.312940          0.390748   \n\n       artist_familiarity  artist_hotttnesss  song_currency  song_hotttnesss  \n3049             0.520527           0.555683       0.000000         0.000000  \n11180            0.282899           0.339108       0.000025         0.038550  \n5396             0.059477           0.141679       0.000000         0.000000  \n11591            0.485004           0.540969       0.000411         0.194578  \n12249            0.255264           0.382015       0.000231         0.097529  \n...                   ...                ...            ...              ...  \n7320             0.047453           0.172991       0.000000         0.000000  \n12792            0.325918           0.383382       0.000000         0.000000  \n12865            0.457857           0.491494       0.000000         0.000000  \n8158             0.305406           0.371888       0.000000         0.000000  \n1402             0.346172           0.408207       0.000000         0.000000  \n\n[2000 rows x 14 columns]",
      "text/html": "<div>\n<style scoped>\n    .dataframe tbody tr th:only-of-type {\n        vertical-align: middle;\n    }\n\n    .dataframe tbody tr th {\n        vertical-align: top;\n    }\n\n    .dataframe thead th {\n        text-align: right;\n    }\n</style>\n<table border=\"1\" class=\"dataframe\">\n  <thead>\n    <tr style=\"text-align: right;\">\n      <th></th>\n      <th>track_id</th>\n      <th>acousticness</th>\n      <th>danceability</th>\n      <th>energy</th>\n      <th>instrumentalness</th>\n      <th>liveness</th>\n      <th>speechiness</th>\n      <th>tempo</th>\n      <th>valence</th>\n      <th>artist_discovery</th>\n      <th>artist_familiarity</th>\n      <th>artist_hotttnesss</th>\n      <th>song_currency</th>\n      <th>song_hotttnesss</th>\n    </tr>\n  </thead>\n  <tbody>\n    <tr>\n      <th>3049</th>\n      <td>12291</td>\n      <td>0.008797</td>\n      <td>0.779822</td>\n      <td>0.384926</td>\n      <td>5.665748e-01</td>\n      <td>0.289584</td>\n      <td>0.070378</td>\n      <td>94.945</td>\n      <td>0.551748</td>\n      <td>0.449009</td>\n      <td>0.520527</td>\n      <td>0.555683</td>\n      <td>0.000000</td>\n      <td>0.000000</td>\n    </tr>\n    <tr>\n      <th>11180</th>\n      <td>57808</td>\n      <td>0.023627</td>\n      <td>0.339632</td>\n      <td>0.880221</td>\n      <td>2.400000e-09</td>\n      <td>0.321886</td>\n      <td>0.045908</td>\n      <td>143.630</td>\n      <td>0.405866</td>\n      <td>0.324605</td>\n      <td>0.282899</td>\n      <td>0.339108</td>\n      <td>0.000025</td>\n      <td>0.038550</td>\n    </tr>\n    <tr>\n      <th>5396</th>\n      <td>21234</td>\n      <td>0.078061</td>\n      <td>0.679032</td>\n      <td>0.839800</td>\n      <td>2.232774e-01</td>\n      <td>0.136008</td>\n      <td>0.046528</td>\n      <td>125.020</td>\n      <td>0.909851</td>\n      <td>0.135619</td>\n      <td>0.059477</td>\n      <td>0.141679</td>\n      <td>0.000000</td>\n      <td>0.000000</td>\n    </tr>\n    <tr>\n      <th>11591</th>\n      <td>69258</td>\n      <td>0.390283</td>\n      <td>0.448094</td>\n      <td>0.847303</td>\n      <td>1.910427e-01</td>\n      <td>0.108648</td>\n      <td>0.047836</td>\n      <td>143.663</td>\n      <td>0.871847</td>\n      <td>0.460173</td>\n      <td>0.485004</td>\n      <td>0.540969</td>\n      <td>0.000411</td>\n      <td>0.194578</td>\n    </tr>\n    <tr>\n      <th>12249</th>\n      <td>95910</td>\n      <td>0.137264</td>\n      <td>0.709408</td>\n      <td>0.935570</td>\n      <td>1.880000e-08</td>\n      <td>0.083439</td>\n      <td>0.259614</td>\n      <td>136.306</td>\n      <td>0.121195</td>\n      <td>0.365677</td>\n      <td>0.255264</td>\n      <td>0.382015</td>\n      <td>0.000231</td>\n      <td>0.097529</td>\n    </tr>\n    <tr>\n      <th>...</th>\n      <td>...</td>\n      <td>...</td>\n      <td>...</td>\n      <td>...</td>\n      <td>...</td>\n      <td>...</td>\n      <td>...</td>\n      <td>...</td>\n      <td>...</td>\n      <td>...</td>\n      <td>...</td>\n      <td>...</td>\n      <td>...</td>\n      <td>...</td>\n    </tr>\n    <tr>\n      <th>7320</th>\n      <td>31753</td>\n      <td>0.993398</td>\n      <td>0.572985</td>\n      <td>0.473439</td>\n      <td>8.171597e-01</td>\n      <td>0.100901</td>\n      <td>0.038754</td>\n      <td>84.044</td>\n      <td>0.355889</td>\n      <td>0.165592</td>\n      <td>0.047453</td>\n      <td>0.172991</td>\n      <td>0.000000</td>\n      <td>0.000000</td>\n    </tr>\n    <tr>\n      <th>12792</th>\n      <td>115385</td>\n      <td>0.095215</td>\n      <td>0.863822</td>\n      <td>0.804424</td>\n      <td>8.498397e-01</td>\n      <td>0.131887</td>\n      <td>0.040032</td>\n      <td>112.455</td>\n      <td>0.903950</td>\n      <td>0.366985</td>\n      <td>0.325918</td>\n      <td>0.383382</td>\n      <td>0.000000</td>\n      <td>0.000000</td>\n    </tr>\n    <tr>\n      <th>12865</th>\n      <td>117517</td>\n      <td>0.004280</td>\n      <td>0.558904</td>\n      <td>0.746316</td>\n      <td>7.734163e-02</td>\n      <td>0.082892</td>\n      <td>0.032707</td>\n      <td>117.995</td>\n      <td>0.295729</td>\n      <td>0.434409</td>\n      <td>0.457857</td>\n      <td>0.491494</td>\n      <td>0.000000</td>\n      <td>0.000000</td>\n    </tr>\n    <tr>\n      <th>8158</th>\n      <td>35546</td>\n      <td>0.242228</td>\n      <td>0.777979</td>\n      <td>0.229853</td>\n      <td>8.089146e-01</td>\n      <td>0.054251</td>\n      <td>0.034881</td>\n      <td>95.999</td>\n      <td>0.838002</td>\n      <td>0.355983</td>\n      <td>0.305406</td>\n      <td>0.371888</td>\n      <td>0.000000</td>\n      <td>0.000000</td>\n    </tr>\n    <tr>\n      <th>1402</th>\n      <td>4216</td>\n      <td>0.897977</td>\n      <td>0.219404</td>\n      <td>0.822987</td>\n      <td>8.458521e-01</td>\n      <td>0.079953</td>\n      <td>0.079527</td>\n      <td>179.384</td>\n      <td>0.312940</td>\n      <td>0.390748</td>\n      <td>0.346172</td>\n      <td>0.408207</td>\n      <td>0.000000</td>\n      <td>0.000000</td>\n    </tr>\n  </tbody>\n</table>\n<p>2000 rows × 14 columns</p>\n</div>"
     },
     "execution_count": 241,
     "metadata": {},
     "output_type": "execute_result"
    }
   ],
   "source": [
    "X = shuffle(X, random_state=100)\n",
    "Y = shuffle(Y, random_state=100)\n",
    "\n",
    "X"
   ]
  },
  {
   "cell_type": "code",
   "execution_count": 242,
   "metadata": {},
   "outputs": [],
   "source": [
    "# X.head()"
   ]
  },
  {
   "cell_type": "code",
   "execution_count": 243,
   "metadata": {
    "scrolled": false
   },
   "outputs": [],
   "source": [
    "hdbscan_model = hdbscan.HDBSCAN(\n",
    "    algorithm='best', alpha=1.0, prediction_data=True, approx_min_span_tree=True,\n",
    "    gen_min_span_tree=False, leaf_size=40, metric='euclidean', min_cluster_size=5,\n",
    "    min_samples=None\n",
    ")"
   ]
  },
  {
   "cell_type": "code",
   "execution_count": 244,
   "metadata": {},
   "outputs": [],
   "source": [
    "def fit(df, algo, flag=0):\n",
    "    df = df.set_index('track_id')\n",
    "    if flag:\n",
    "        algo.fit(df)\n",
    "    else:\n",
    "        algo.partial_fit(df)\n",
    "    df['label'] = algo.labels_\n",
    "    return (df, algo)"
   ]
  },
  {
   "cell_type": "code",
   "execution_count": 245,
   "metadata": {},
   "outputs": [],
   "source": [
    "def predict(t, Y):\n",
    "    Y = Y.set_index('track_id')\n",
    "    y_pred = hdbscan.approximate_predict(t[1], Y)[0]\n",
    "    mode = pd.Series(y_pred).mode()\n",
    "    return t[0][t[0]['label'] == mode.loc[0]]"
   ]
  },
  {
   "cell_type": "code",
   "execution_count": 246,
   "metadata": {},
   "outputs": [],
   "source": [
    "# Y.head()"
   ]
  },
  {
   "cell_type": "code",
   "execution_count": 247,
   "metadata": {},
   "outputs": [],
   "source": [
    "# t[0] is the new dataframe with the new row indexes and labels of the belonged cluster\n",
    "# t[1] is the HDBSCAN model after the training\n",
    "\n",
    "t = fit(X, hdbscan_model, 1)"
   ]
  },
  {
   "cell_type": "code",
   "execution_count": 248,
   "outputs": [
    {
     "name": "stdout",
     "output_type": "stream",
     "text": [
      "2\n"
     ]
    }
   ],
   "source": [
    "# show the numbers of clusters in the model\n",
    "print(t[1].labels_.max() + 1)"
   ],
   "metadata": {
    "collapsed": false
   }
  },
  {
   "cell_type": "code",
   "execution_count": 249,
   "metadata": {},
   "outputs": [],
   "source": [
    "recommendations = predict(t, Y)"
   ]
  },
  {
   "cell_type": "code",
   "execution_count": 250,
   "metadata": {},
   "outputs": [
    {
     "name": "stdout",
     "output_type": "stream",
     "text": [
      "<class 'pandas.core.frame.DataFrame'>\n",
      "Int64Index: 1985 entries, 12291 to 4216\n",
      "Data columns (total 14 columns):\n",
      " #   Column              Non-Null Count  Dtype  \n",
      "---  ------              --------------  -----  \n",
      " 0   acousticness        1985 non-null   float64\n",
      " 1   danceability        1985 non-null   float64\n",
      " 2   energy              1985 non-null   float64\n",
      " 3   instrumentalness    1985 non-null   float64\n",
      " 4   liveness            1985 non-null   float64\n",
      " 5   speechiness         1985 non-null   float64\n",
      " 6   tempo               1985 non-null   float64\n",
      " 7   valence             1985 non-null   float64\n",
      " 8   artist_discovery    1985 non-null   float64\n",
      " 9   artist_familiarity  1985 non-null   float64\n",
      " 10  artist_hotttnesss   1985 non-null   float64\n",
      " 11  song_currency       1985 non-null   float64\n",
      " 12  song_hotttnesss     1985 non-null   float64\n",
      " 13  label               1985 non-null   int64  \n",
      "dtypes: float64(13), int64(1)\n",
      "memory usage: 232.6 KB\n"
     ]
    }
   ],
   "source": [
    "recommendations.info()"
   ]
  },
  {
   "cell_type": "code",
   "execution_count": 251,
   "metadata": {},
   "outputs": [
    {
     "data": {
      "text/plain": "          acousticness  danceability    energy  instrumentalness  liveness  \\\ntrack_id                                                                     \n12291         0.008797      0.779822  0.384926      5.665748e-01  0.289584   \n57808         0.023627      0.339632  0.880221      2.400000e-09  0.321886   \n21234         0.078061      0.679032  0.839800      2.232774e-01  0.136008   \n69258         0.390283      0.448094  0.847303      1.910427e-01  0.108648   \n95910         0.137264      0.709408  0.935570      1.880000e-08  0.083439   \n\n          speechiness    tempo   valence  artist_discovery  \\\ntrack_id                                                     \n12291        0.070378   94.945  0.551748          0.449009   \n57808        0.045908  143.630  0.405866          0.324605   \n21234        0.046528  125.020  0.909851          0.135619   \n69258        0.047836  143.663  0.871847          0.460173   \n95910        0.259614  136.306  0.121195          0.365677   \n\n          artist_familiarity  artist_hotttnesss  song_currency  \\\ntrack_id                                                         \n12291               0.520527           0.555683       0.000000   \n57808               0.282899           0.339108       0.000025   \n21234               0.059477           0.141679       0.000000   \n69258               0.485004           0.540969       0.000411   \n95910               0.255264           0.382015       0.000231   \n\n          song_hotttnesss  label  \ntrack_id                          \n12291            0.000000      1  \n57808            0.038550      1  \n21234            0.000000      1  \n69258            0.194578      1  \n95910            0.097529      1  ",
      "text/html": "<div>\n<style scoped>\n    .dataframe tbody tr th:only-of-type {\n        vertical-align: middle;\n    }\n\n    .dataframe tbody tr th {\n        vertical-align: top;\n    }\n\n    .dataframe thead th {\n        text-align: right;\n    }\n</style>\n<table border=\"1\" class=\"dataframe\">\n  <thead>\n    <tr style=\"text-align: right;\">\n      <th></th>\n      <th>acousticness</th>\n      <th>danceability</th>\n      <th>energy</th>\n      <th>instrumentalness</th>\n      <th>liveness</th>\n      <th>speechiness</th>\n      <th>tempo</th>\n      <th>valence</th>\n      <th>artist_discovery</th>\n      <th>artist_familiarity</th>\n      <th>artist_hotttnesss</th>\n      <th>song_currency</th>\n      <th>song_hotttnesss</th>\n      <th>label</th>\n    </tr>\n    <tr>\n      <th>track_id</th>\n      <th></th>\n      <th></th>\n      <th></th>\n      <th></th>\n      <th></th>\n      <th></th>\n      <th></th>\n      <th></th>\n      <th></th>\n      <th></th>\n      <th></th>\n      <th></th>\n      <th></th>\n      <th></th>\n    </tr>\n  </thead>\n  <tbody>\n    <tr>\n      <th>12291</th>\n      <td>0.008797</td>\n      <td>0.779822</td>\n      <td>0.384926</td>\n      <td>5.665748e-01</td>\n      <td>0.289584</td>\n      <td>0.070378</td>\n      <td>94.945</td>\n      <td>0.551748</td>\n      <td>0.449009</td>\n      <td>0.520527</td>\n      <td>0.555683</td>\n      <td>0.000000</td>\n      <td>0.000000</td>\n      <td>1</td>\n    </tr>\n    <tr>\n      <th>57808</th>\n      <td>0.023627</td>\n      <td>0.339632</td>\n      <td>0.880221</td>\n      <td>2.400000e-09</td>\n      <td>0.321886</td>\n      <td>0.045908</td>\n      <td>143.630</td>\n      <td>0.405866</td>\n      <td>0.324605</td>\n      <td>0.282899</td>\n      <td>0.339108</td>\n      <td>0.000025</td>\n      <td>0.038550</td>\n      <td>1</td>\n    </tr>\n    <tr>\n      <th>21234</th>\n      <td>0.078061</td>\n      <td>0.679032</td>\n      <td>0.839800</td>\n      <td>2.232774e-01</td>\n      <td>0.136008</td>\n      <td>0.046528</td>\n      <td>125.020</td>\n      <td>0.909851</td>\n      <td>0.135619</td>\n      <td>0.059477</td>\n      <td>0.141679</td>\n      <td>0.000000</td>\n      <td>0.000000</td>\n      <td>1</td>\n    </tr>\n    <tr>\n      <th>69258</th>\n      <td>0.390283</td>\n      <td>0.448094</td>\n      <td>0.847303</td>\n      <td>1.910427e-01</td>\n      <td>0.108648</td>\n      <td>0.047836</td>\n      <td>143.663</td>\n      <td>0.871847</td>\n      <td>0.460173</td>\n      <td>0.485004</td>\n      <td>0.540969</td>\n      <td>0.000411</td>\n      <td>0.194578</td>\n      <td>1</td>\n    </tr>\n    <tr>\n      <th>95910</th>\n      <td>0.137264</td>\n      <td>0.709408</td>\n      <td>0.935570</td>\n      <td>1.880000e-08</td>\n      <td>0.083439</td>\n      <td>0.259614</td>\n      <td>136.306</td>\n      <td>0.121195</td>\n      <td>0.365677</td>\n      <td>0.255264</td>\n      <td>0.382015</td>\n      <td>0.000231</td>\n      <td>0.097529</td>\n      <td>1</td>\n    </tr>\n  </tbody>\n</table>\n</div>"
     },
     "execution_count": 251,
     "metadata": {},
     "output_type": "execute_result"
    }
   ],
   "source": [
    "recommendations.head()"
   ]
  },
  {
   "cell_type": "code",
   "execution_count": 252,
   "metadata": {},
   "outputs": [
    {
     "name": "stdout",
     "output_type": "stream",
     "text": [
      "<class 'pandas.core.frame.DataFrame'>\n",
      "RangeIndex: 13129 entries, 0 to 13128\n",
      "Data columns (total 5 columns):\n",
      " #   Column       Non-Null Count  Dtype \n",
      "---  ------       --------------  ----- \n",
      " 0   track_id     13129 non-null  int64 \n",
      " 1   album_title  13129 non-null  object\n",
      " 2   artist_name  13129 non-null  object\n",
      " 3   genre        13129 non-null  object\n",
      " 4   track_title  13128 non-null  object\n",
      "dtypes: int64(1), object(4)\n",
      "memory usage: 513.0+ KB\n"
     ]
    }
   ],
   "source": [
    "metadata.info()"
   ]
  },
  {
   "cell_type": "code",
   "execution_count": 253,
   "metadata": {},
   "outputs": [],
   "source": [
    "metadata = metadata.set_index('track_id')"
   ]
  },
  {
   "cell_type": "code",
   "execution_count": 254,
   "metadata": {},
   "outputs": [],
   "source": [
    "#metadata = metadata.set_index('track_id')"
   ]
  },
  {
   "cell_type": "code",
   "execution_count": 255,
   "metadata": {},
   "outputs": [
    {
     "data": {
      "text/plain": "       track_id  acousticness  danceability    energy  instrumentalness  \\\n3979      15866      0.126620      0.444495  0.687881          0.460171   \n10634     49464      0.007757      0.647147  0.836007          0.880194   \n354         885      0.069900      0.385746  0.707775          0.937884   \n8874      39685      0.000707      0.849537  0.540725          0.934993   \n6630      28348      0.276979      0.452824  0.842640          0.135532   \n\n       liveness  speechiness    tempo   valence  artist_discovery  \\\n3979   0.092639     0.374912  189.879  0.353370          0.442439   \n10634  0.192954     0.029688   99.950  0.387107          0.323548   \n354    0.203171     0.105063  123.453  0.039475          0.405436   \n8874   0.098529     0.088324  121.976  0.684539          0.444844   \n6630   0.097390     0.416882  177.627  0.969982          0.262087   \n\n       artist_familiarity  artist_hotttnesss  song_currency  song_hotttnesss  \n3979             0.357309           0.462207            0.0         0.003068  \n10634            0.387238           0.338004            0.0         0.000000  \n354              0.369210           0.423551            0.0         0.000000  \n8874             0.328891           0.464720            0.0         0.000000  \n6630             0.148808           0.273797            0.0         0.000000  ",
      "text/html": "<div>\n<style scoped>\n    .dataframe tbody tr th:only-of-type {\n        vertical-align: middle;\n    }\n\n    .dataframe tbody tr th {\n        vertical-align: top;\n    }\n\n    .dataframe thead th {\n        text-align: right;\n    }\n</style>\n<table border=\"1\" class=\"dataframe\">\n  <thead>\n    <tr style=\"text-align: right;\">\n      <th></th>\n      <th>track_id</th>\n      <th>acousticness</th>\n      <th>danceability</th>\n      <th>energy</th>\n      <th>instrumentalness</th>\n      <th>liveness</th>\n      <th>speechiness</th>\n      <th>tempo</th>\n      <th>valence</th>\n      <th>artist_discovery</th>\n      <th>artist_familiarity</th>\n      <th>artist_hotttnesss</th>\n      <th>song_currency</th>\n      <th>song_hotttnesss</th>\n    </tr>\n  </thead>\n  <tbody>\n    <tr>\n      <th>3979</th>\n      <td>15866</td>\n      <td>0.126620</td>\n      <td>0.444495</td>\n      <td>0.687881</td>\n      <td>0.460171</td>\n      <td>0.092639</td>\n      <td>0.374912</td>\n      <td>189.879</td>\n      <td>0.353370</td>\n      <td>0.442439</td>\n      <td>0.357309</td>\n      <td>0.462207</td>\n      <td>0.0</td>\n      <td>0.003068</td>\n    </tr>\n    <tr>\n      <th>10634</th>\n      <td>49464</td>\n      <td>0.007757</td>\n      <td>0.647147</td>\n      <td>0.836007</td>\n      <td>0.880194</td>\n      <td>0.192954</td>\n      <td>0.029688</td>\n      <td>99.950</td>\n      <td>0.387107</td>\n      <td>0.323548</td>\n      <td>0.387238</td>\n      <td>0.338004</td>\n      <td>0.0</td>\n      <td>0.000000</td>\n    </tr>\n    <tr>\n      <th>354</th>\n      <td>885</td>\n      <td>0.069900</td>\n      <td>0.385746</td>\n      <td>0.707775</td>\n      <td>0.937884</td>\n      <td>0.203171</td>\n      <td>0.105063</td>\n      <td>123.453</td>\n      <td>0.039475</td>\n      <td>0.405436</td>\n      <td>0.369210</td>\n      <td>0.423551</td>\n      <td>0.0</td>\n      <td>0.000000</td>\n    </tr>\n    <tr>\n      <th>8874</th>\n      <td>39685</td>\n      <td>0.000707</td>\n      <td>0.849537</td>\n      <td>0.540725</td>\n      <td>0.934993</td>\n      <td>0.098529</td>\n      <td>0.088324</td>\n      <td>121.976</td>\n      <td>0.684539</td>\n      <td>0.444844</td>\n      <td>0.328891</td>\n      <td>0.464720</td>\n      <td>0.0</td>\n      <td>0.000000</td>\n    </tr>\n    <tr>\n      <th>6630</th>\n      <td>28348</td>\n      <td>0.276979</td>\n      <td>0.452824</td>\n      <td>0.842640</td>\n      <td>0.135532</td>\n      <td>0.097390</td>\n      <td>0.416882</td>\n      <td>177.627</td>\n      <td>0.969982</td>\n      <td>0.262087</td>\n      <td>0.148808</td>\n      <td>0.273797</td>\n      <td>0.0</td>\n      <td>0.000000</td>\n    </tr>\n  </tbody>\n</table>\n</div>"
     },
     "execution_count": 255,
     "metadata": {},
     "output_type": "execute_result"
    }
   ],
   "source": [
    "Y.head()"
   ]
  },
  {
   "cell_type": "code",
   "execution_count": 256,
   "metadata": {},
   "outputs": [
    {
     "name": "stdout",
     "output_type": "stream",
     "text": [
      "<class 'pandas.core.frame.DataFrame'>\n",
      "Int64Index: 11129 entries, 3979 to 5644\n",
      "Data columns (total 14 columns):\n",
      " #   Column              Non-Null Count  Dtype  \n",
      "---  ------              --------------  -----  \n",
      " 0   track_id            11129 non-null  int64  \n",
      " 1   acousticness        11129 non-null  float64\n",
      " 2   danceability        11129 non-null  float64\n",
      " 3   energy              11129 non-null  float64\n",
      " 4   instrumentalness    11129 non-null  float64\n",
      " 5   liveness            11129 non-null  float64\n",
      " 6   speechiness         11129 non-null  float64\n",
      " 7   tempo               11129 non-null  float64\n",
      " 8   valence             11129 non-null  float64\n",
      " 9   artist_discovery    11129 non-null  float64\n",
      " 10  artist_familiarity  11129 non-null  float64\n",
      " 11  artist_hotttnesss   11129 non-null  float64\n",
      " 12  song_currency       11129 non-null  float64\n",
      " 13  song_hotttnesss     11129 non-null  float64\n",
      "dtypes: float64(13), int64(1)\n",
      "memory usage: 1.3 MB\n"
     ]
    }
   ],
   "source": [
    "Y.info()"
   ]
  },
  {
   "cell_type": "code",
   "execution_count": 257,
   "metadata": {},
   "outputs": [],
   "source": [
    "#Y = Y.reset_index(level=0)"
   ]
  },
  {
   "cell_type": "code",
   "execution_count": 258,
   "metadata": {},
   "outputs": [],
   "source": [
    "#recommendations = recommendations.reset_index(level=0)"
   ]
  },
  {
   "cell_type": "code",
   "execution_count": 259,
   "metadata": {},
   "outputs": [],
   "source": [
    "def recommend(recommendations, meta, Y):\n",
    "    recommendations = recommendations.reset_index(level=0)\n",
    "    Y = Y.reset_index(level=0)\n",
    "    dat = []\n",
    "    for i in Y['track_id']:\n",
    "        dat.append(i)\n",
    "    genre_mode = meta.loc[dat]['genre'].mode()\n",
    "    artist_mode = meta.loc[dat]['artist_name'].mode()\n",
    "    return meta[meta['genre'] == genre_mode.iloc[0]], meta[meta['artist_name'] == artist_mode.iloc[0]], meta.loc[\n",
    "        recommendations['track_id']]"
   ]
  },
  {
   "cell_type": "code",
   "execution_count": 260,
   "metadata": {},
   "outputs": [],
   "source": [
    "output = recommend(recommendations, metadata, Y)"
   ]
  },
  {
   "cell_type": "code",
   "execution_count": 261,
   "metadata": {},
   "outputs": [],
   "source": [
    "genre_recommend, artist_name_recommend, mixed_recommend = output[0], output[1], output[2]"
   ]
  },
  {
   "cell_type": "code",
   "execution_count": 262,
   "metadata": {},
   "outputs": [
    {
     "data": {
      "text/plain": "(3892, 4)"
     },
     "execution_count": 262,
     "metadata": {},
     "output_type": "execute_result"
    }
   ],
   "source": [
    "genre_recommend.shape"
   ]
  },
  {
   "cell_type": "code",
   "execution_count": 263,
   "metadata": {},
   "outputs": [
    {
     "data": {
      "text/plain": "(94, 4)"
     },
     "execution_count": 263,
     "metadata": {},
     "output_type": "execute_result"
    }
   ],
   "source": [
    "artist_name_recommend.shape"
   ]
  },
  {
   "cell_type": "code",
   "execution_count": 264,
   "metadata": {},
   "outputs": [
    {
     "data": {
      "text/plain": "(1985, 4)"
     },
     "execution_count": 264,
     "metadata": {},
     "output_type": "execute_result"
    }
   ],
   "source": [
    "mixed_recommend.shape"
   ]
  },
  {
   "cell_type": "code",
   "execution_count": 265,
   "metadata": {},
   "outputs": [
    {
     "data": {
      "text/plain": "              album_title     artist_name genre                 track_title\ntrack_id                                                                   \n153        Arc and Sender  Arc and Sender  Rock          Hundred-Year Flood\n154        Arc and Sender  Arc and Sender  Rock         Squares And Circles\n155       unreleased demo  Arc and Sender  Rock     Maps of the Stars Homes\n169          Boss of Goth      Argumentix  Rock                Boss of Goth\n170          Nightmarcher      Argumentix  Rock  Industry Standard Massacre",
      "text/html": "<div>\n<style scoped>\n    .dataframe tbody tr th:only-of-type {\n        vertical-align: middle;\n    }\n\n    .dataframe tbody tr th {\n        vertical-align: top;\n    }\n\n    .dataframe thead th {\n        text-align: right;\n    }\n</style>\n<table border=\"1\" class=\"dataframe\">\n  <thead>\n    <tr style=\"text-align: right;\">\n      <th></th>\n      <th>album_title</th>\n      <th>artist_name</th>\n      <th>genre</th>\n      <th>track_title</th>\n    </tr>\n    <tr>\n      <th>track_id</th>\n      <th></th>\n      <th></th>\n      <th></th>\n      <th></th>\n    </tr>\n  </thead>\n  <tbody>\n    <tr>\n      <th>153</th>\n      <td>Arc and Sender</td>\n      <td>Arc and Sender</td>\n      <td>Rock</td>\n      <td>Hundred-Year Flood</td>\n    </tr>\n    <tr>\n      <th>154</th>\n      <td>Arc and Sender</td>\n      <td>Arc and Sender</td>\n      <td>Rock</td>\n      <td>Squares And Circles</td>\n    </tr>\n    <tr>\n      <th>155</th>\n      <td>unreleased demo</td>\n      <td>Arc and Sender</td>\n      <td>Rock</td>\n      <td>Maps of the Stars Homes</td>\n    </tr>\n    <tr>\n      <th>169</th>\n      <td>Boss of Goth</td>\n      <td>Argumentix</td>\n      <td>Rock</td>\n      <td>Boss of Goth</td>\n    </tr>\n    <tr>\n      <th>170</th>\n      <td>Nightmarcher</td>\n      <td>Argumentix</td>\n      <td>Rock</td>\n      <td>Industry Standard Massacre</td>\n    </tr>\n  </tbody>\n</table>\n</div>"
     },
     "execution_count": 265,
     "metadata": {},
     "output_type": "execute_result"
    }
   ],
   "source": [
    "# Genre wise recommendations\n",
    "genre_recommend.head()"
   ]
  },
  {
   "cell_type": "code",
   "execution_count": 266,
   "metadata": {
    "scrolled": true
   },
   "outputs": [
    {
     "data": {
      "text/plain": "                              album_title artist_name genre  \\\ntrack_id                                                      \n10381     Big Blood & The Bleedin' Hearts   Big Blood  Folk   \n10382     Big Blood & The Bleedin' Hearts   Big Blood  Folk   \n10383     Big Blood & The Bleedin' Hearts   Big Blood  Folk   \n10384     Big Blood & The Bleedin' Hearts   Big Blood  Folk   \n10385     Big Blood & The Bleedin' Hearts   Big Blood  Folk   \n\n                 track_title  \ntrack_id                      \n10381     Baron in the Trees  \n10382           New Dish Rag  \n10383         Graceless Lady  \n10384           Blood Mumble  \n10385                  Curee  ",
      "text/html": "<div>\n<style scoped>\n    .dataframe tbody tr th:only-of-type {\n        vertical-align: middle;\n    }\n\n    .dataframe tbody tr th {\n        vertical-align: top;\n    }\n\n    .dataframe thead th {\n        text-align: right;\n    }\n</style>\n<table border=\"1\" class=\"dataframe\">\n  <thead>\n    <tr style=\"text-align: right;\">\n      <th></th>\n      <th>album_title</th>\n      <th>artist_name</th>\n      <th>genre</th>\n      <th>track_title</th>\n    </tr>\n    <tr>\n      <th>track_id</th>\n      <th></th>\n      <th></th>\n      <th></th>\n      <th></th>\n    </tr>\n  </thead>\n  <tbody>\n    <tr>\n      <th>10381</th>\n      <td>Big Blood &amp; The Bleedin' Hearts</td>\n      <td>Big Blood</td>\n      <td>Folk</td>\n      <td>Baron in the Trees</td>\n    </tr>\n    <tr>\n      <th>10382</th>\n      <td>Big Blood &amp; The Bleedin' Hearts</td>\n      <td>Big Blood</td>\n      <td>Folk</td>\n      <td>New Dish Rag</td>\n    </tr>\n    <tr>\n      <th>10383</th>\n      <td>Big Blood &amp; The Bleedin' Hearts</td>\n      <td>Big Blood</td>\n      <td>Folk</td>\n      <td>Graceless Lady</td>\n    </tr>\n    <tr>\n      <th>10384</th>\n      <td>Big Blood &amp; The Bleedin' Hearts</td>\n      <td>Big Blood</td>\n      <td>Folk</td>\n      <td>Blood Mumble</td>\n    </tr>\n    <tr>\n      <th>10385</th>\n      <td>Big Blood &amp; The Bleedin' Hearts</td>\n      <td>Big Blood</td>\n      <td>Folk</td>\n      <td>Curee</td>\n    </tr>\n  </tbody>\n</table>\n</div>"
     },
     "execution_count": 266,
     "metadata": {},
     "output_type": "execute_result"
    }
   ],
   "source": [
    "# Artist wise recommendations\n",
    "artist_name_recommend.head()"
   ]
  },
  {
   "cell_type": "code",
   "execution_count": 267,
   "metadata": {},
   "outputs": [
    {
     "data": {
      "text/plain": "                                                album_title  \\\ntrack_id                                                      \n12291     Wakka Chikka Wakka Chikka: Porn Music for the ...   \n57808     Live at WFMU on The Cherry Blossom Clinic with...   \n21234                                              ccMixter   \n69258     Live at WFMU on the Cherry Blossom Clinic, Aug...   \n95910                                       Genital Warfare   \n\n                  artist_name                            genre  \\\ntrack_id                                                         \n12291                  Marcel  AvantGarde|International|Blues|   \n57808          Happy Refugees                             Rock   \n21234            mykleanthony                       Electronic   \n69258     Sonny & The Sunsets                             Rock   \n95910       Suicidal Rap Orgy                           HipHop   \n\n                                 track_title  \ntrack_id                                      \n12291                  Strange Wedding 60908  \n57808                                Inertia  \n21234     Youre My Everything (ft. Beckford)  \n69258                                   Void  \n95910                             Murder Rap  ",
      "text/html": "<div>\n<style scoped>\n    .dataframe tbody tr th:only-of-type {\n        vertical-align: middle;\n    }\n\n    .dataframe tbody tr th {\n        vertical-align: top;\n    }\n\n    .dataframe thead th {\n        text-align: right;\n    }\n</style>\n<table border=\"1\" class=\"dataframe\">\n  <thead>\n    <tr style=\"text-align: right;\">\n      <th></th>\n      <th>album_title</th>\n      <th>artist_name</th>\n      <th>genre</th>\n      <th>track_title</th>\n    </tr>\n    <tr>\n      <th>track_id</th>\n      <th></th>\n      <th></th>\n      <th></th>\n      <th></th>\n    </tr>\n  </thead>\n  <tbody>\n    <tr>\n      <th>12291</th>\n      <td>Wakka Chikka Wakka Chikka: Porn Music for the ...</td>\n      <td>Marcel</td>\n      <td>AvantGarde|International|Blues|</td>\n      <td>Strange Wedding 60908</td>\n    </tr>\n    <tr>\n      <th>57808</th>\n      <td>Live at WFMU on The Cherry Blossom Clinic with...</td>\n      <td>Happy Refugees</td>\n      <td>Rock</td>\n      <td>Inertia</td>\n    </tr>\n    <tr>\n      <th>21234</th>\n      <td>ccMixter</td>\n      <td>mykleanthony</td>\n      <td>Electronic</td>\n      <td>Youre My Everything (ft. Beckford)</td>\n    </tr>\n    <tr>\n      <th>69258</th>\n      <td>Live at WFMU on the Cherry Blossom Clinic, Aug...</td>\n      <td>Sonny &amp; The Sunsets</td>\n      <td>Rock</td>\n      <td>Void</td>\n    </tr>\n    <tr>\n      <th>95910</th>\n      <td>Genital Warfare</td>\n      <td>Suicidal Rap Orgy</td>\n      <td>HipHop</td>\n      <td>Murder Rap</td>\n    </tr>\n  </tbody>\n</table>\n</div>"
     },
     "execution_count": 267,
     "metadata": {},
     "output_type": "execute_result"
    }
   ],
   "source": [
    "# Mixed Recommendations\n",
    "mixed_recommend.head()"
   ]
  },
  {
   "cell_type": "code",
   "execution_count": 268,
   "metadata": {},
   "outputs": [
    {
     "data": {
      "text/plain": "          acousticness  danceability    energy  instrumentalness  liveness  \\\ntrack_id                                                                     \n12291         0.008797      0.779822  0.384926      5.665748e-01  0.289584   \n57808         0.023627      0.339632  0.880221      2.400000e-09  0.321886   \n21234         0.078061      0.679032  0.839800      2.232774e-01  0.136008   \n69258         0.390283      0.448094  0.847303      1.910427e-01  0.108648   \n95910         0.137264      0.709408  0.935570      1.880000e-08  0.083439   \n...                ...           ...       ...               ...       ...   \n31753         0.993398      0.572985  0.473439      8.171597e-01  0.100901   \n115385        0.095215      0.863822  0.804424      8.498397e-01  0.131887   \n117517        0.004280      0.558904  0.746316      7.734163e-02  0.082892   \n35546         0.242228      0.777979  0.229853      8.089146e-01  0.054251   \n4216          0.897977      0.219404  0.822987      8.458521e-01  0.079953   \n\n          speechiness    tempo   valence  artist_discovery  \\\ntrack_id                                                     \n12291        0.070378   94.945  0.551748          0.449009   \n57808        0.045908  143.630  0.405866          0.324605   \n21234        0.046528  125.020  0.909851          0.135619   \n69258        0.047836  143.663  0.871847          0.460173   \n95910        0.259614  136.306  0.121195          0.365677   \n...               ...      ...       ...               ...   \n31753        0.038754   84.044  0.355889          0.165592   \n115385       0.040032  112.455  0.903950          0.366985   \n117517       0.032707  117.995  0.295729          0.434409   \n35546        0.034881   95.999  0.838002          0.355983   \n4216         0.079527  179.384  0.312940          0.390748   \n\n          artist_familiarity  artist_hotttnesss  song_currency  \\\ntrack_id                                                         \n12291               0.520527           0.555683       0.000000   \n57808               0.282899           0.339108       0.000025   \n21234               0.059477           0.141679       0.000000   \n69258               0.485004           0.540969       0.000411   \n95910               0.255264           0.382015       0.000231   \n...                      ...                ...            ...   \n31753               0.047453           0.172991       0.000000   \n115385              0.325918           0.383382       0.000000   \n117517              0.457857           0.491494       0.000000   \n35546               0.305406           0.371888       0.000000   \n4216                0.346172           0.408207       0.000000   \n\n          song_hotttnesss  label  \ntrack_id                          \n12291            0.000000      1  \n57808            0.038550      1  \n21234            0.000000      1  \n69258            0.194578      1  \n95910            0.097529      1  \n...                   ...    ...  \n31753            0.000000      1  \n115385           0.000000      1  \n117517           0.000000      1  \n35546            0.000000      1  \n4216             0.000000      1  \n\n[1985 rows x 14 columns]",
      "text/html": "<div>\n<style scoped>\n    .dataframe tbody tr th:only-of-type {\n        vertical-align: middle;\n    }\n\n    .dataframe tbody tr th {\n        vertical-align: top;\n    }\n\n    .dataframe thead th {\n        text-align: right;\n    }\n</style>\n<table border=\"1\" class=\"dataframe\">\n  <thead>\n    <tr style=\"text-align: right;\">\n      <th></th>\n      <th>acousticness</th>\n      <th>danceability</th>\n      <th>energy</th>\n      <th>instrumentalness</th>\n      <th>liveness</th>\n      <th>speechiness</th>\n      <th>tempo</th>\n      <th>valence</th>\n      <th>artist_discovery</th>\n      <th>artist_familiarity</th>\n      <th>artist_hotttnesss</th>\n      <th>song_currency</th>\n      <th>song_hotttnesss</th>\n      <th>label</th>\n    </tr>\n    <tr>\n      <th>track_id</th>\n      <th></th>\n      <th></th>\n      <th></th>\n      <th></th>\n      <th></th>\n      <th></th>\n      <th></th>\n      <th></th>\n      <th></th>\n      <th></th>\n      <th></th>\n      <th></th>\n      <th></th>\n      <th></th>\n    </tr>\n  </thead>\n  <tbody>\n    <tr>\n      <th>12291</th>\n      <td>0.008797</td>\n      <td>0.779822</td>\n      <td>0.384926</td>\n      <td>5.665748e-01</td>\n      <td>0.289584</td>\n      <td>0.070378</td>\n      <td>94.945</td>\n      <td>0.551748</td>\n      <td>0.449009</td>\n      <td>0.520527</td>\n      <td>0.555683</td>\n      <td>0.000000</td>\n      <td>0.000000</td>\n      <td>1</td>\n    </tr>\n    <tr>\n      <th>57808</th>\n      <td>0.023627</td>\n      <td>0.339632</td>\n      <td>0.880221</td>\n      <td>2.400000e-09</td>\n      <td>0.321886</td>\n      <td>0.045908</td>\n      <td>143.630</td>\n      <td>0.405866</td>\n      <td>0.324605</td>\n      <td>0.282899</td>\n      <td>0.339108</td>\n      <td>0.000025</td>\n      <td>0.038550</td>\n      <td>1</td>\n    </tr>\n    <tr>\n      <th>21234</th>\n      <td>0.078061</td>\n      <td>0.679032</td>\n      <td>0.839800</td>\n      <td>2.232774e-01</td>\n      <td>0.136008</td>\n      <td>0.046528</td>\n      <td>125.020</td>\n      <td>0.909851</td>\n      <td>0.135619</td>\n      <td>0.059477</td>\n      <td>0.141679</td>\n      <td>0.000000</td>\n      <td>0.000000</td>\n      <td>1</td>\n    </tr>\n    <tr>\n      <th>69258</th>\n      <td>0.390283</td>\n      <td>0.448094</td>\n      <td>0.847303</td>\n      <td>1.910427e-01</td>\n      <td>0.108648</td>\n      <td>0.047836</td>\n      <td>143.663</td>\n      <td>0.871847</td>\n      <td>0.460173</td>\n      <td>0.485004</td>\n      <td>0.540969</td>\n      <td>0.000411</td>\n      <td>0.194578</td>\n      <td>1</td>\n    </tr>\n    <tr>\n      <th>95910</th>\n      <td>0.137264</td>\n      <td>0.709408</td>\n      <td>0.935570</td>\n      <td>1.880000e-08</td>\n      <td>0.083439</td>\n      <td>0.259614</td>\n      <td>136.306</td>\n      <td>0.121195</td>\n      <td>0.365677</td>\n      <td>0.255264</td>\n      <td>0.382015</td>\n      <td>0.000231</td>\n      <td>0.097529</td>\n      <td>1</td>\n    </tr>\n    <tr>\n      <th>...</th>\n      <td>...</td>\n      <td>...</td>\n      <td>...</td>\n      <td>...</td>\n      <td>...</td>\n      <td>...</td>\n      <td>...</td>\n      <td>...</td>\n      <td>...</td>\n      <td>...</td>\n      <td>...</td>\n      <td>...</td>\n      <td>...</td>\n      <td>...</td>\n    </tr>\n    <tr>\n      <th>31753</th>\n      <td>0.993398</td>\n      <td>0.572985</td>\n      <td>0.473439</td>\n      <td>8.171597e-01</td>\n      <td>0.100901</td>\n      <td>0.038754</td>\n      <td>84.044</td>\n      <td>0.355889</td>\n      <td>0.165592</td>\n      <td>0.047453</td>\n      <td>0.172991</td>\n      <td>0.000000</td>\n      <td>0.000000</td>\n      <td>1</td>\n    </tr>\n    <tr>\n      <th>115385</th>\n      <td>0.095215</td>\n      <td>0.863822</td>\n      <td>0.804424</td>\n      <td>8.498397e-01</td>\n      <td>0.131887</td>\n      <td>0.040032</td>\n      <td>112.455</td>\n      <td>0.903950</td>\n      <td>0.366985</td>\n      <td>0.325918</td>\n      <td>0.383382</td>\n      <td>0.000000</td>\n      <td>0.000000</td>\n      <td>1</td>\n    </tr>\n    <tr>\n      <th>117517</th>\n      <td>0.004280</td>\n      <td>0.558904</td>\n      <td>0.746316</td>\n      <td>7.734163e-02</td>\n      <td>0.082892</td>\n      <td>0.032707</td>\n      <td>117.995</td>\n      <td>0.295729</td>\n      <td>0.434409</td>\n      <td>0.457857</td>\n      <td>0.491494</td>\n      <td>0.000000</td>\n      <td>0.000000</td>\n      <td>1</td>\n    </tr>\n    <tr>\n      <th>35546</th>\n      <td>0.242228</td>\n      <td>0.777979</td>\n      <td>0.229853</td>\n      <td>8.089146e-01</td>\n      <td>0.054251</td>\n      <td>0.034881</td>\n      <td>95.999</td>\n      <td>0.838002</td>\n      <td>0.355983</td>\n      <td>0.305406</td>\n      <td>0.371888</td>\n      <td>0.000000</td>\n      <td>0.000000</td>\n      <td>1</td>\n    </tr>\n    <tr>\n      <th>4216</th>\n      <td>0.897977</td>\n      <td>0.219404</td>\n      <td>0.822987</td>\n      <td>8.458521e-01</td>\n      <td>0.079953</td>\n      <td>0.079527</td>\n      <td>179.384</td>\n      <td>0.312940</td>\n      <td>0.390748</td>\n      <td>0.346172</td>\n      <td>0.408207</td>\n      <td>0.000000</td>\n      <td>0.000000</td>\n      <td>1</td>\n    </tr>\n  </tbody>\n</table>\n<p>1985 rows × 14 columns</p>\n</div>"
     },
     "execution_count": 268,
     "metadata": {},
     "output_type": "execute_result"
    }
   ],
   "source": [
    "recommendations"
   ]
  },
  {
   "cell_type": "code",
   "execution_count": 269,
   "metadata": {},
   "outputs": [
    {
     "data": {
      "text/plain": "Big Blood    94\nName: artist_name, dtype: int64"
     },
     "execution_count": 269,
     "metadata": {},
     "output_type": "execute_result"
    }
   ],
   "source": [
    "artist_name_recommend['artist_name'].value_counts()"
   ]
  },
  {
   "cell_type": "code",
   "execution_count": 270,
   "metadata": {},
   "outputs": [
    {
     "data": {
      "text/plain": "Rock    3892\nName: genre, dtype: int64"
     },
     "execution_count": 270,
     "metadata": {},
     "output_type": "execute_result"
    }
   ],
   "source": [
    "genre_recommend['genre'].value_counts()"
   ]
  },
  {
   "cell_type": "code",
   "execution_count": 271,
   "metadata": {},
   "outputs": [
    {
     "data": {
      "text/plain": "Glove Compartment               65\nBlah Blah Blah                  62\nMors Ontologica                 50\nLes Baudouins Morts             38\nKraus                           35\n                                ..\nAlone in 1982                    1\nOstrich Tuning                   1\nThe Dalai Lama Rama Fa Fa Fa     1\nThe Rusty Bells                  1\nLost Boy                         1\nName: artist_name, Length: 725, dtype: int64"
     },
     "execution_count": 271,
     "metadata": {},
     "output_type": "execute_result"
    }
   ],
   "source": [
    "genre_recommend['artist_name'].value_counts()"
   ]
  },
  {
   "cell_type": "markdown",
   "metadata": {},
   "source": [
    "#### Testing"
   ]
  },
  {
   "cell_type": "code",
   "execution_count": 272,
   "metadata": {},
   "outputs": [],
   "source": [
    "testing = Y.iloc[6:12]['track_id']"
   ]
  },
  {
   "cell_type": "code",
   "execution_count": 273,
   "metadata": {},
   "outputs": [
    {
     "data": {
      "text/plain": "818        1834\n5500      21963\n9011      40422\n6964      30000\n5772      23318\n12585    109073\nName: track_id, dtype: int64"
     },
     "execution_count": 273,
     "metadata": {},
     "output_type": "execute_result"
    }
   ],
   "source": [
    "testing"
   ]
  },
  {
   "cell_type": "code",
   "execution_count": 274,
   "metadata": {},
   "outputs": [],
   "source": [
    "ids = testing.loc[testing.index]"
   ]
  },
  {
   "cell_type": "code",
   "execution_count": 275,
   "metadata": {},
   "outputs": [],
   "source": [
    "songs = metadata.loc[testing.loc[list(testing.index)]]"
   ]
  },
  {
   "cell_type": "code",
   "execution_count": 276,
   "metadata": {},
   "outputs": [
    {
     "data": {
      "text/plain": "                                 album_title            artist_name  \\\ntrack_id                                                              \n1834                   The Glove Compartment      Glove Compartment   \n21963                 You Sick Little Monkey              Psilodump   \n40422               gleanings and gatherings           Mt. Gigantic   \n30000                  This is the New Yeah!  Bleeptor V. Telescope   \n23318     Accident Consultancy Live / Undead          THF Drenching   \n109073                    Workers in Kontrol                  Kraus   \n\n                              genre                               track_title  \ntrack_id                                                                       \n1834                           Rock                  Mr. Feleppa...Goes to...  \n21963                    Electronic                        Follow the Leaders  \n40422     AvantGarde|International|                          Get Well Cougher  \n30000                    Electronic              We will dance to Tokyo waltz  \n23318     AvantGarde|International|  Santa Head Orchestration Revolt (Undead)  \n109073                         Rock                                    Killer  ",
      "text/html": "<div>\n<style scoped>\n    .dataframe tbody tr th:only-of-type {\n        vertical-align: middle;\n    }\n\n    .dataframe tbody tr th {\n        vertical-align: top;\n    }\n\n    .dataframe thead th {\n        text-align: right;\n    }\n</style>\n<table border=\"1\" class=\"dataframe\">\n  <thead>\n    <tr style=\"text-align: right;\">\n      <th></th>\n      <th>album_title</th>\n      <th>artist_name</th>\n      <th>genre</th>\n      <th>track_title</th>\n    </tr>\n    <tr>\n      <th>track_id</th>\n      <th></th>\n      <th></th>\n      <th></th>\n      <th></th>\n    </tr>\n  </thead>\n  <tbody>\n    <tr>\n      <th>1834</th>\n      <td>The Glove Compartment</td>\n      <td>Glove Compartment</td>\n      <td>Rock</td>\n      <td>Mr. Feleppa...Goes to...</td>\n    </tr>\n    <tr>\n      <th>21963</th>\n      <td>You Sick Little Monkey</td>\n      <td>Psilodump</td>\n      <td>Electronic</td>\n      <td>Follow the Leaders</td>\n    </tr>\n    <tr>\n      <th>40422</th>\n      <td>gleanings and gatherings</td>\n      <td>Mt. Gigantic</td>\n      <td>AvantGarde|International|</td>\n      <td>Get Well Cougher</td>\n    </tr>\n    <tr>\n      <th>30000</th>\n      <td>This is the New Yeah!</td>\n      <td>Bleeptor V. Telescope</td>\n      <td>Electronic</td>\n      <td>We will dance to Tokyo waltz</td>\n    </tr>\n    <tr>\n      <th>23318</th>\n      <td>Accident Consultancy Live / Undead</td>\n      <td>THF Drenching</td>\n      <td>AvantGarde|International|</td>\n      <td>Santa Head Orchestration Revolt (Undead)</td>\n    </tr>\n    <tr>\n      <th>109073</th>\n      <td>Workers in Kontrol</td>\n      <td>Kraus</td>\n      <td>Rock</td>\n      <td>Killer</td>\n    </tr>\n  </tbody>\n</table>\n</div>"
     },
     "execution_count": 276,
     "metadata": {},
     "output_type": "execute_result"
    }
   ],
   "source": [
    "songs"
   ]
  },
  {
   "cell_type": "code",
   "execution_count": 277,
   "metadata": {},
   "outputs": [],
   "source": [
    "re = predict(t, Y.iloc[6:12])"
   ]
  },
  {
   "cell_type": "code",
   "execution_count": 278,
   "metadata": {},
   "outputs": [],
   "source": [
    "output = recommend(re, metadata, Y.iloc[6:12])"
   ]
  },
  {
   "cell_type": "code",
   "execution_count": 279,
   "metadata": {},
   "outputs": [],
   "source": [
    "ge_re, ge_ar, ge_mix = output[0], output[1], output[2]"
   ]
  },
  {
   "cell_type": "code",
   "execution_count": 280,
   "metadata": {},
   "outputs": [
    {
     "data": {
      "text/plain": "              album_title            artist_name                      genre  \\\ntrack_id                                                                      \n236       Bersa Discos #8           Banana Clipz  AvantGarde|International|   \n461        blissblood.com  Cantonement Jazz Band  AvantGarde|International|   \n462        blissblood.com  Cantonement Jazz Band  AvantGarde|International|   \n463        blissblood.com  Cantonement Jazz Band  AvantGarde|International|   \n464        blissblood.com  Cantonement Jazz Band  AvantGarde|International|   \n\n                    track_title  \ntrack_id                         \n236       Push Am (Left, Right)  \n461                    Bessemer  \n462              Has Been Blues  \n463                I'll Be Blue  \n464        The Way I Feel Today  ",
      "text/html": "<div>\n<style scoped>\n    .dataframe tbody tr th:only-of-type {\n        vertical-align: middle;\n    }\n\n    .dataframe tbody tr th {\n        vertical-align: top;\n    }\n\n    .dataframe thead th {\n        text-align: right;\n    }\n</style>\n<table border=\"1\" class=\"dataframe\">\n  <thead>\n    <tr style=\"text-align: right;\">\n      <th></th>\n      <th>album_title</th>\n      <th>artist_name</th>\n      <th>genre</th>\n      <th>track_title</th>\n    </tr>\n    <tr>\n      <th>track_id</th>\n      <th></th>\n      <th></th>\n      <th></th>\n      <th></th>\n    </tr>\n  </thead>\n  <tbody>\n    <tr>\n      <th>236</th>\n      <td>Bersa Discos #8</td>\n      <td>Banana Clipz</td>\n      <td>AvantGarde|International|</td>\n      <td>Push Am (Left, Right)</td>\n    </tr>\n    <tr>\n      <th>461</th>\n      <td>blissblood.com</td>\n      <td>Cantonement Jazz Band</td>\n      <td>AvantGarde|International|</td>\n      <td>Bessemer</td>\n    </tr>\n    <tr>\n      <th>462</th>\n      <td>blissblood.com</td>\n      <td>Cantonement Jazz Band</td>\n      <td>AvantGarde|International|</td>\n      <td>Has Been Blues</td>\n    </tr>\n    <tr>\n      <th>463</th>\n      <td>blissblood.com</td>\n      <td>Cantonement Jazz Band</td>\n      <td>AvantGarde|International|</td>\n      <td>I'll Be Blue</td>\n    </tr>\n    <tr>\n      <th>464</th>\n      <td>blissblood.com</td>\n      <td>Cantonement Jazz Band</td>\n      <td>AvantGarde|International|</td>\n      <td>The Way I Feel Today</td>\n    </tr>\n  </tbody>\n</table>\n</div>"
     },
     "execution_count": 280,
     "metadata": {},
     "output_type": "execute_result"
    }
   ],
   "source": [
    "ge_re.head()"
   ]
  },
  {
   "cell_type": "code",
   "execution_count": 281,
   "metadata": {},
   "outputs": [
    {
     "data": {
      "text/plain": "                    album_title            artist_name       genre  \\\ntrack_id                                                             \n30000     This is the New Yeah!  Bleeptor V. Telescope  Electronic   \n\n                           track_title  \ntrack_id                                \n30000     We will dance to Tokyo waltz  ",
      "text/html": "<div>\n<style scoped>\n    .dataframe tbody tr th:only-of-type {\n        vertical-align: middle;\n    }\n\n    .dataframe tbody tr th {\n        vertical-align: top;\n    }\n\n    .dataframe thead th {\n        text-align: right;\n    }\n</style>\n<table border=\"1\" class=\"dataframe\">\n  <thead>\n    <tr style=\"text-align: right;\">\n      <th></th>\n      <th>album_title</th>\n      <th>artist_name</th>\n      <th>genre</th>\n      <th>track_title</th>\n    </tr>\n    <tr>\n      <th>track_id</th>\n      <th></th>\n      <th></th>\n      <th></th>\n      <th></th>\n    </tr>\n  </thead>\n  <tbody>\n    <tr>\n      <th>30000</th>\n      <td>This is the New Yeah!</td>\n      <td>Bleeptor V. Telescope</td>\n      <td>Electronic</td>\n      <td>We will dance to Tokyo waltz</td>\n    </tr>\n  </tbody>\n</table>\n</div>"
     },
     "execution_count": 281,
     "metadata": {},
     "output_type": "execute_result"
    }
   ],
   "source": [
    "ge_ar.head(10)"
   ]
  },
  {
   "cell_type": "code",
   "execution_count": 282,
   "metadata": {},
   "outputs": [
    {
     "data": {
      "text/plain": "                                                album_title  \\\ntrack_id                                                      \n12291     Wakka Chikka Wakka Chikka: Porn Music for the ...   \n57808     Live at WFMU on The Cherry Blossom Clinic with...   \n21234                                              ccMixter   \n69258     Live at WFMU on the Cherry Blossom Clinic, Aug...   \n95910                                       Genital Warfare   \n23177                                               Exotica   \n13128                                        Simulators can   \n50579                                          Something EP   \n30911                                         The Rain Book   \n27274                                                  DC03   \n\n                  artist_name                                 genre  \\\ntrack_id                                                              \n12291                  Marcel       AvantGarde|International|Blues|   \n57808          Happy Refugees                                  Rock   \n21234            mykleanthony                            Electronic   \n69258     Sonny & The Sunsets                                  Rock   \n95910       Suicidal Rap Orgy                                HipHop   \n23177                Juanitos       AvantGarde|International|Blues|   \n13128                Gorowski                            Electronic   \n50579          Broke For Free             AvantGarde|International|   \n30911          Digi G'Alessio  AvantGarde|International|Blues|Jazz|   \n27274                     HCI                                  Jazz   \n\n                                 track_title  \ntrack_id                                      \n12291                  Strange Wedding 60908  \n57808                                Inertia  \n21234     Youre My Everything (ft. Beckford)  \n69258                                   Void  \n95910                             Murder Rap  \n23177                                Exotica  \n13128                         simulators can  \n50579                          Something Old  \n30911              Don't Touch My Minestrone  \n27274                           Elpossible I  ",
      "text/html": "<div>\n<style scoped>\n    .dataframe tbody tr th:only-of-type {\n        vertical-align: middle;\n    }\n\n    .dataframe tbody tr th {\n        vertical-align: top;\n    }\n\n    .dataframe thead th {\n        text-align: right;\n    }\n</style>\n<table border=\"1\" class=\"dataframe\">\n  <thead>\n    <tr style=\"text-align: right;\">\n      <th></th>\n      <th>album_title</th>\n      <th>artist_name</th>\n      <th>genre</th>\n      <th>track_title</th>\n    </tr>\n    <tr>\n      <th>track_id</th>\n      <th></th>\n      <th></th>\n      <th></th>\n      <th></th>\n    </tr>\n  </thead>\n  <tbody>\n    <tr>\n      <th>12291</th>\n      <td>Wakka Chikka Wakka Chikka: Porn Music for the ...</td>\n      <td>Marcel</td>\n      <td>AvantGarde|International|Blues|</td>\n      <td>Strange Wedding 60908</td>\n    </tr>\n    <tr>\n      <th>57808</th>\n      <td>Live at WFMU on The Cherry Blossom Clinic with...</td>\n      <td>Happy Refugees</td>\n      <td>Rock</td>\n      <td>Inertia</td>\n    </tr>\n    <tr>\n      <th>21234</th>\n      <td>ccMixter</td>\n      <td>mykleanthony</td>\n      <td>Electronic</td>\n      <td>Youre My Everything (ft. Beckford)</td>\n    </tr>\n    <tr>\n      <th>69258</th>\n      <td>Live at WFMU on the Cherry Blossom Clinic, Aug...</td>\n      <td>Sonny &amp; The Sunsets</td>\n      <td>Rock</td>\n      <td>Void</td>\n    </tr>\n    <tr>\n      <th>95910</th>\n      <td>Genital Warfare</td>\n      <td>Suicidal Rap Orgy</td>\n      <td>HipHop</td>\n      <td>Murder Rap</td>\n    </tr>\n    <tr>\n      <th>23177</th>\n      <td>Exotica</td>\n      <td>Juanitos</td>\n      <td>AvantGarde|International|Blues|</td>\n      <td>Exotica</td>\n    </tr>\n    <tr>\n      <th>13128</th>\n      <td>Simulators can</td>\n      <td>Gorowski</td>\n      <td>Electronic</td>\n      <td>simulators can</td>\n    </tr>\n    <tr>\n      <th>50579</th>\n      <td>Something EP</td>\n      <td>Broke For Free</td>\n      <td>AvantGarde|International|</td>\n      <td>Something Old</td>\n    </tr>\n    <tr>\n      <th>30911</th>\n      <td>The Rain Book</td>\n      <td>Digi G'Alessio</td>\n      <td>AvantGarde|International|Blues|Jazz|</td>\n      <td>Don't Touch My Minestrone</td>\n    </tr>\n    <tr>\n      <th>27274</th>\n      <td>DC03</td>\n      <td>HCI</td>\n      <td>Jazz</td>\n      <td>Elpossible I</td>\n    </tr>\n  </tbody>\n</table>\n</div>"
     },
     "execution_count": 282,
     "metadata": {},
     "output_type": "execute_result"
    }
   ],
   "source": [
    "ge_mix.head(10)"
   ]
  },
  {
   "cell_type": "code",
   "execution_count": 283,
   "metadata": {},
   "outputs": [
    {
     "data": {
      "text/plain": "(1902, 4)"
     },
     "execution_count": 283,
     "metadata": {},
     "output_type": "execute_result"
    }
   ],
   "source": [
    "ge_re.shape"
   ]
  },
  {
   "cell_type": "code",
   "execution_count": 284,
   "metadata": {},
   "outputs": [
    {
     "data": {
      "text/plain": "(1, 4)"
     },
     "execution_count": 284,
     "metadata": {},
     "output_type": "execute_result"
    }
   ],
   "source": [
    "ge_ar.shape"
   ]
  },
  {
   "cell_type": "code",
   "execution_count": 285,
   "metadata": {},
   "outputs": [
    {
     "data": {
      "text/plain": "(1985, 4)"
     },
     "execution_count": 285,
     "metadata": {},
     "output_type": "execute_result"
    }
   ],
   "source": [
    "ge_mix.shape"
   ]
  }
 ],
 "metadata": {
  "kernelspec": {
   "display_name": "Python 3 (ipykernel)",
   "language": "python",
   "name": "python3"
  },
  "language_info": {
   "codemirror_mode": {
    "name": "ipython",
    "version": 3
   },
   "file_extension": ".py",
   "mimetype": "text/x-python",
   "name": "python",
   "nbconvert_exporter": "python",
   "pygments_lexer": "ipython3",
   "version": "3.9.10"
  }
 },
 "nbformat": 4,
 "nbformat_minor": 2
}
